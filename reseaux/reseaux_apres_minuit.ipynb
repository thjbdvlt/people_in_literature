{
 "cells": [
  {
   "cell_type": "markdown",
   "metadata": {},
   "source": [
    "\n",
    "<br>\n",
    "Observation des réseaux de relations entre les différentes occupations des écrivain-es. Continuation nocturne du carnet \"reseaux_occupations\".<br>\n"
   ]
  },
  {
   "cell_type": "code",
   "execution_count": 1,
   "metadata": {
    "execution": {
     "iopub.execute_input": "2023-06-12T00:17:38.671184Z",
     "iopub.status.busy": "2023-06-12T00:17:38.669869Z",
     "iopub.status.idle": "2023-06-12T00:17:39.261704Z",
     "shell.execute_reply": "2023-06-12T00:17:39.260917Z"
    }
   },
   "outputs": [],
   "source": [
    "from SPARQLWrapper import SPARQLWrapper, JSON\n",
    "from collections import Counter\n",
    "import networkx as nx\n",
    "import matplotlib.pyplot as plt\n",
    "import re"
   ]
  },
  {
   "cell_type": "markdown",
   "metadata": {},
   "source": [
    "L'adresse de DBPedia, où la requête doit être adressée."
   ]
  },
  {
   "cell_type": "code",
   "execution_count": 2,
   "metadata": {
    "execution": {
     "iopub.execute_input": "2023-06-12T00:17:39.265200Z",
     "iopub.status.busy": "2023-06-12T00:17:39.264772Z",
     "iopub.status.idle": "2023-06-12T00:17:39.268577Z",
     "shell.execute_reply": "2023-06-12T00:17:39.267816Z"
    }
   },
   "outputs": [],
   "source": [
    "sparql = SPARQLWrapper(\"http://dbpedia.org/sparql\")"
   ]
  },
  {
   "cell_type": "markdown",
   "metadata": {},
   "source": [
    "Le format du résultat de la requête. L'objet, en python, sera un dictionnaire."
   ]
  },
  {
   "cell_type": "code",
   "execution_count": 3,
   "metadata": {
    "execution": {
     "iopub.execute_input": "2023-06-12T00:17:39.271975Z",
     "iopub.status.busy": "2023-06-12T00:17:39.271282Z",
     "iopub.status.idle": "2023-06-12T00:17:39.274989Z",
     "shell.execute_reply": "2023-06-12T00:17:39.274228Z"
    }
   },
   "outputs": [],
   "source": [
    "sparql.setReturnFormat(JSON)"
   ]
  },
  {
   "cell_type": "markdown",
   "metadata": {},
   "source": [
    "La requête, qui trouve les Writers et leurs occupations."
   ]
  },
  {
   "cell_type": "code",
   "execution_count": 4,
   "metadata": {
    "execution": {
     "iopub.execute_input": "2023-06-12T00:17:39.278312Z",
     "iopub.status.busy": "2023-06-12T00:17:39.277986Z",
     "iopub.status.idle": "2023-06-12T00:17:39.281856Z",
     "shell.execute_reply": "2023-06-12T00:17:39.281063Z"
    }
   },
   "outputs": [],
   "source": [
    "sparql.setQuery(\n",
    "    \"PREFIX dbo: <http://dbpedia.org/ontology/>\\n\"\n",
    "    \"PREFIX dbr: <http://dbpedia.org/resource/>\\n\"\n",
    "    \"\\n\"\n",
    "    \"SELECT DISTINCT ?person ?occupation\\n\"\n",
    "    \"WHERE {\\n\"\n",
    "    \"    ?person ?a dbr:Writer ;\\n\"\n",
    "    \"            dbo:occupation ?occupation .\\n\"\n",
    "    \"}\\n\"\n",
    ")"
   ]
  },
  {
   "cell_type": "markdown",
   "metadata": {},
   "source": [
    "Envoyer la requête."
   ]
  },
  {
   "cell_type": "code",
   "execution_count": 5,
   "metadata": {
    "execution": {
     "iopub.execute_input": "2023-06-12T00:17:39.284764Z",
     "iopub.status.busy": "2023-06-12T00:17:39.284472Z",
     "iopub.status.idle": "2023-06-12T00:17:43.234505Z",
     "shell.execute_reply": "2023-06-12T00:17:43.233784Z"
    }
   },
   "outputs": [],
   "source": [
    "results = sparql.queryAndConvert()"
   ]
  },
  {
   "cell_type": "markdown",
   "metadata": {},
   "source": [
    "Aperçu de la structure de l'objet retourné. Le premier niveau du dictionnaire."
   ]
  },
  {
   "cell_type": "code",
   "execution_count": 6,
   "metadata": {
    "execution": {
     "iopub.execute_input": "2023-06-12T00:17:43.237625Z",
     "iopub.status.busy": "2023-06-12T00:17:43.237331Z",
     "iopub.status.idle": "2023-06-12T00:17:43.258642Z",
     "shell.execute_reply": "2023-06-12T00:17:43.255466Z"
    }
   },
   "outputs": [
    {
     "data": {
      "text/plain": [
       "dict_keys(['head', 'results'])"
      ]
     },
     "execution_count": 6,
     "metadata": {},
     "output_type": "execute_result"
    }
   ],
   "source": [
    "results.keys()"
   ]
  },
  {
   "cell_type": "markdown",
   "metadata": {},
   "source": [
    "L'entrée \"head\" (en-tête), qui décrit la structure des données."
   ]
  },
  {
   "cell_type": "code",
   "execution_count": 7,
   "metadata": {
    "execution": {
     "iopub.execute_input": "2023-06-12T00:17:43.397332Z",
     "iopub.status.busy": "2023-06-12T00:17:43.396485Z",
     "iopub.status.idle": "2023-06-12T00:17:43.412478Z",
     "shell.execute_reply": "2023-06-12T00:17:43.409384Z"
    }
   },
   "outputs": [
    {
     "data": {
      "text/plain": [
       "{'link': [], 'vars': ['person', 'occupation']}"
      ]
     },
     "execution_count": 7,
     "metadata": {},
     "output_type": "execute_result"
    }
   ],
   "source": [
    "results[\"head\"]"
   ]
  },
  {
   "cell_type": "markdown",
   "metadata": {},
   "source": [
    "L'entrée \"results\"."
   ]
  },
  {
   "cell_type": "code",
   "execution_count": 8,
   "metadata": {
    "execution": {
     "iopub.execute_input": "2023-06-12T00:17:43.424619Z",
     "iopub.status.busy": "2023-06-12T00:17:43.422618Z",
     "iopub.status.idle": "2023-06-12T00:17:43.442159Z",
     "shell.execute_reply": "2023-06-12T00:17:43.439131Z"
    }
   },
   "outputs": [
    {
     "name": "stdout",
     "output_type": "stream",
     "text": [
      "results[\"results\"][\"distinct\"]: <class 'bool'> False\n",
      "results[\"results\"][\"ordered\"]: <class 'bool'> True\n",
      "results[\"results\"][\"bindings\"]: <class 'list'> [{'person': {'type': 'uri', 'value': 'http://dbpedia.org/resource/Caiseal_Mór'}, 'occupation': {'type': 'uri', 'value': 'http://dbpedia.org/resource/Musician'}}, {'person': {'type': 'uri', 'value': 'http://dbpedia.org/resource/Caiseal_Mór'}, 'occupation': {'type': 'uri', 'value': 'http://dbpedia.org/resource/Artist'}}]\n"
     ]
    }
   ],
   "source": [
    "for i, j in results[\"results\"].items():\n",
    "    if type(j) == list:\n",
    "        print(f'results[\"results\"][\"{i}\"]:', type(j), j[:2])\n",
    "    elif type(j) == dict:\n",
    "        print(\n",
    "            f'results[\"results\"][\"{i}\"]:', type(j), list(j.keys())[:3]\n",
    "        )\n",
    "    else:\n",
    "        print(f'results[\"results\"][\"{i}\"]:', type(j), j)"
   ]
  },
  {
   "cell_type": "markdown",
   "metadata": {},
   "source": [
    "Seul ce qui se trouve dans ['results']['bindings'] m'intéresse. Je commence par construire un simple liste de tuples selon le schéma (person, occupation)."
   ]
  },
  {
   "cell_type": "code",
   "execution_count": 9,
   "metadata": {
    "execution": {
     "iopub.execute_input": "2023-06-12T00:17:43.452871Z",
     "iopub.status.busy": "2023-06-12T00:17:43.451981Z",
     "iopub.status.idle": "2023-06-12T00:17:43.481801Z",
     "shell.execute_reply": "2023-06-12T00:17:43.478613Z"
    }
   },
   "outputs": [
    {
     "data": {
      "text/plain": [
       "[('http://dbpedia.org/resource/Caiseal_Mór',\n",
       "  'http://dbpedia.org/resource/Musician'),\n",
       " ('http://dbpedia.org/resource/Caiseal_Mór',\n",
       "  'http://dbpedia.org/resource/Artist'),\n",
       " ('http://dbpedia.org/resource/Caiseal_Mór',\n",
       "  'http://dbpedia.org/resource/Writer')]"
      ]
     },
     "execution_count": 9,
     "metadata": {},
     "output_type": "execute_result"
    }
   ],
   "source": [
    "pairs = [\n",
    "    (i[\"person\"][\"value\"], i[\"occupation\"][\"value\"])\n",
    "    for i in results[\"results\"][\"bindings\"]\n",
    "]\n",
    "pairs[:3]"
   ]
  },
  {
   "cell_type": "markdown",
   "metadata": {},
   "source": [
    "Pour augmenter le nombre de données (la raison apparaitra plus bas, mais repose sur la limitation à 10000 résultats par requête auprès de dbpedia), je fais également des requêtes avec d'autres occupations que Writers."
   ]
  },
  {
   "cell_type": "code",
   "execution_count": 10,
   "metadata": {
    "execution": {
     "iopub.execute_input": "2023-06-12T00:17:43.492996Z",
     "iopub.status.busy": "2023-06-12T00:17:43.492057Z",
     "iopub.status.idle": "2023-06-12T00:17:47.166238Z",
     "shell.execute_reply": "2023-06-12T00:17:47.163720Z"
    }
   },
   "outputs": [],
   "source": [
    "queries = {}\n",
    "separated_results = {}\n",
    "pairs_supp = {}\n",
    "groups = [\"Novelist\", \"Poet\", \"Playwright\"]\n",
    "for i in groups:\n",
    "    queries[i] = SPARQLWrapper(\"http://dbpedia.org/sparql\")\n",
    "    queries[i].setReturnFormat(JSON)\n",
    "    queries[i].setQuery(\n",
    "        \"PREFIX dbo: <http://dbpedia.org/ontology/>\\n\"\n",
    "        \"PREFIX dbr: <http://dbpedia.org/resource/>\\n\"\n",
    "        \"\\n\"\n",
    "        \"SELECT DISTINCT ?person ?occupation\\n\"\n",
    "        \"WHERE {\\n\"\n",
    "        f\"    ?person ?a dbr:{i} ;\\n\"\n",
    "        \"            dbo:occupation ?occupation .\\n\"\n",
    "        \"}\\n\"\n",
    "    )\n",
    "    separated_results[i] = sparql.queryAndConvert()\n",
    "    pairs_supp[i] = [\n",
    "        (i[\"person\"][\"value\"], i[\"occupation\"][\"value\"])\n",
    "        for i in separated_results[i][\"results\"][\"bindings\"]\n",
    "    ]\n",
    "    pairs.extend(pairs_supp[i])"
   ]
  },
  {
   "cell_type": "markdown",
   "metadata": {},
   "source": [
    "J'enlève le début des URI, pour ne garder que les noms et les occupations."
   ]
  },
  {
   "cell_type": "code",
   "execution_count": 11,
   "metadata": {
    "execution": {
     "iopub.execute_input": "2023-06-12T00:17:47.177091Z",
     "iopub.status.busy": "2023-06-12T00:17:47.176250Z",
     "iopub.status.idle": "2023-06-12T00:17:47.306901Z",
     "shell.execute_reply": "2023-06-12T00:17:47.303870Z"
    }
   },
   "outputs": [
    {
     "data": {
      "text/plain": [
       "[('Caiseal_Mór', 'musician'),\n",
       " ('Caiseal_Mór', 'artist'),\n",
       " ('Caiseal_Mór', 'writer')]"
      ]
     },
     "execution_count": 11,
     "metadata": {},
     "output_type": "execute_result"
    }
   ],
   "source": [
    "clean_pairs = [\n",
    "    (\n",
    "        i.replace(\"http://dbpedia.org/resource/\", \"\"),\n",
    "        # Je passe les occupations en lowercase pour faciliter\n",
    "        # les recherches de caractères.\n",
    "        j.replace(\"http://dbpedia.org/resource/\", \"\").lower(),\n",
    "    )\n",
    "    for i, j in pairs\n",
    "]\n",
    "clean_pairs[:3]"
   ]
  },
  {
   "cell_type": "markdown",
   "metadata": {},
   "source": [
    "Certaines paires me sont inutiles, celles qui ont comme occupation \"[nom de la personne]_PersonFunction\"."
   ]
  },
  {
   "cell_type": "code",
   "execution_count": 12,
   "metadata": {
    "execution": {
     "iopub.execute_input": "2023-06-12T00:17:47.317557Z",
     "iopub.status.busy": "2023-06-12T00:17:47.316719Z",
     "iopub.status.idle": "2023-06-12T00:17:47.348221Z",
     "shell.execute_reply": "2023-06-12T00:17:47.345694Z"
    }
   },
   "outputs": [
    {
     "data": {
      "text/plain": [
       "[('Caitlin_Flanagan', 'caitlin_flanagan__personfunction__1'),\n",
       " ('Caleb_Garling', 'caleb_garling__personfunction__1'),\n",
       " ('Calla_Curman', 'calla_curman__personfunction__1'),\n",
       " ('Camille_Lemonnier', 'camille_lemonnier__personfunction__1'),\n",
       " ('Carl_Binder', 'carl_binder__personfunction__1')]"
      ]
     },
     "execution_count": 12,
     "metadata": {},
     "output_type": "execute_result"
    }
   ],
   "source": [
    "[i for i in clean_pairs if \"personfunction\" in i[1]][:5]"
   ]
  },
  {
   "cell_type": "markdown",
   "metadata": {},
   "source": [
    "Je construis donc une nouvelle liste sans ces paires."
   ]
  },
  {
   "cell_type": "code",
   "execution_count": 13,
   "metadata": {
    "execution": {
     "iopub.execute_input": "2023-06-12T00:17:47.358929Z",
     "iopub.status.busy": "2023-06-12T00:17:47.358029Z",
     "iopub.status.idle": "2023-06-12T00:17:47.386629Z",
     "shell.execute_reply": "2023-06-12T00:17:47.383562Z"
    }
   },
   "outputs": [
    {
     "data": {
      "text/plain": [
       "25692"
      ]
     },
     "execution_count": 13,
     "metadata": {},
     "output_type": "execute_result"
    }
   ],
   "source": [
    "non_trivial_pairs = [\n",
    "    i for i in clean_pairs if \"personfunction\" not in i[1]\n",
    "]\n",
    "len(non_trivial_pairs)"
   ]
  },
  {
   "cell_type": "markdown",
   "metadata": {},
   "source": [
    "Il y a des répétitions de paires, puisque les Novelist, les Poets, etc., sont souvent aussi catégorisé-es comme Writer. En fait, l'ajout des nouveaux groupes n'a peut-être pas été si utile. [À faire, peut-être: ajouter des occupations liées à la littérature mais plutôt, par exemple, du côté des éditeurices, des bibliothécaires, des critiques. Ou, à l'inverse, des artistes, des musicien-nes, pour voir si les activités annexes sont du même type, s'il y a des recoupements, etc.]"
   ]
  },
  {
   "cell_type": "code",
   "execution_count": 14,
   "metadata": {
    "execution": {
     "iopub.execute_input": "2023-06-12T00:17:47.398046Z",
     "iopub.status.busy": "2023-06-12T00:17:47.396509Z",
     "iopub.status.idle": "2023-06-12T00:17:47.428982Z",
     "shell.execute_reply": "2023-06-12T00:17:47.426040Z"
    }
   },
   "outputs": [
    {
     "data": {
      "text/plain": [
       "6423"
      ]
     },
     "execution_count": 14,
     "metadata": {},
     "output_type": "execute_result"
    }
   ],
   "source": [
    "uniqpairs = list(set(non_trivial_pairs))\n",
    "len(uniqpairs)"
   ]
  },
  {
   "cell_type": "markdown",
   "metadata": {},
   "source": [
    "Puisque ce sont les interactions entre occupations qui m'intéresse, je ne vais garder que les données qui concernent les personnes avec au moins deux entrées. Je commence par faire une liste des noms."
   ]
  },
  {
   "cell_type": "code",
   "execution_count": 15,
   "metadata": {
    "execution": {
     "iopub.execute_input": "2023-06-12T00:17:47.440040Z",
     "iopub.status.busy": "2023-06-12T00:17:47.439177Z",
     "iopub.status.idle": "2023-06-12T00:17:47.457489Z",
     "shell.execute_reply": "2023-06-12T00:17:47.454481Z"
    }
   },
   "outputs": [
    {
     "data": {
      "text/plain": [
       "['George_Weideman', 'Bernard_Seigal', 'Rick_Ducommun']"
      ]
     },
     "execution_count": 15,
     "metadata": {},
     "output_type": "execute_result"
    }
   ],
   "source": [
    "names = [i for i, j in uniqpairs]\n",
    "names[:3]"
   ]
  },
  {
   "cell_type": "markdown",
   "metadata": {},
   "source": [
    "Le nombre total d'occurences de noms."
   ]
  },
  {
   "cell_type": "code",
   "execution_count": 16,
   "metadata": {
    "execution": {
     "iopub.execute_input": "2023-06-12T00:17:47.468635Z",
     "iopub.status.busy": "2023-06-12T00:17:47.467608Z",
     "iopub.status.idle": "2023-06-12T00:17:47.483512Z",
     "shell.execute_reply": "2023-06-12T00:17:47.480393Z"
    }
   },
   "outputs": [
    {
     "data": {
      "text/plain": [
       "6423"
      ]
     },
     "execution_count": 16,
     "metadata": {},
     "output_type": "execute_result"
    }
   ],
   "source": [
    "len(names)"
   ]
  },
  {
   "cell_type": "markdown",
   "metadata": {},
   "source": [
    "Le nombre d'occurences de noms qui apparaissent plusieurs fois."
   ]
  },
  {
   "cell_type": "code",
   "execution_count": 17,
   "metadata": {
    "execution": {
     "iopub.execute_input": "2023-06-12T00:17:47.495845Z",
     "iopub.status.busy": "2023-06-12T00:17:47.493834Z",
     "iopub.status.idle": "2023-06-12T00:17:48.305167Z",
     "shell.execute_reply": "2023-06-12T00:17:48.304427Z"
    }
   },
   "outputs": [
    {
     "data": {
      "text/plain": [
       "5021"
      ]
     },
     "execution_count": 17,
     "metadata": {},
     "output_type": "execute_result"
    }
   ],
   "source": [
    "names_repeated = [i for i in names if names.count(i) > 1]\n",
    "len(names_repeated)"
   ]
  },
  {
   "cell_type": "markdown",
   "metadata": {},
   "source": [
    "Le nombre de noms qui apparaissent plusieurs fois. (Les données sont plus minces que ce que je pouvais espérer et il faudrait probablement opter pour une autre manière d'interroger DBPedia.)"
   ]
  },
  {
   "cell_type": "code",
   "execution_count": 18,
   "metadata": {
    "execution": {
     "iopub.execute_input": "2023-06-12T00:17:48.308152Z",
     "iopub.status.busy": "2023-06-12T00:17:48.307848Z",
     "iopub.status.idle": "2023-06-12T00:17:48.312818Z",
     "shell.execute_reply": "2023-06-12T00:17:48.312151Z"
    }
   },
   "outputs": [
    {
     "data": {
      "text/plain": [
       "1782"
      ]
     },
     "execution_count": 18,
     "metadata": {},
     "output_type": "execute_result"
    }
   ],
   "source": [
    "len(set(names_repeated))"
   ]
  },
  {
   "cell_type": "markdown",
   "metadata": {},
   "source": [
    "Les premiers noms."
   ]
  },
  {
   "cell_type": "code",
   "execution_count": 19,
   "metadata": {
    "execution": {
     "iopub.execute_input": "2023-06-12T00:17:48.315853Z",
     "iopub.status.busy": "2023-06-12T00:17:48.315600Z",
     "iopub.status.idle": "2023-06-12T00:17:48.324446Z",
     "shell.execute_reply": "2023-06-12T00:17:48.321404Z"
    }
   },
   "outputs": [
    {
     "name": "stdout",
     "output_type": "stream",
     "text": [
      "A._C._Sreehari\n",
      "A._Dorian_Otvos\n",
      "A._N._Murthy_Rao\n",
      "Aaron_Ehasz\n",
      "Abd_Al_Munim_Al_Gilyani\n"
     ]
    }
   ],
   "source": [
    "uniqnames = list(set(names_repeated))\n",
    "uniqnames.sort()\n",
    "for i in uniqnames[:5]:\n",
    "    print(i)"
   ]
  },
  {
   "cell_type": "markdown",
   "metadata": {},
   "source": [
    "Puisque chaque nom est unique, je peux utiliser les noms comme clés pour un dictionnaire. La valeur qui y sera attribuée sera une liste des occupations."
   ]
  },
  {
   "cell_type": "code",
   "execution_count": 20,
   "metadata": {
    "execution": {
     "iopub.execute_input": "2023-06-12T00:17:48.335778Z",
     "iopub.status.busy": "2023-06-12T00:17:48.334938Z",
     "iopub.status.idle": "2023-06-12T00:17:48.353614Z",
     "shell.execute_reply": "2023-06-12T00:17:48.350817Z"
    }
   },
   "outputs": [],
   "source": [
    "d = {}\n",
    "for i in uniqnames:\n",
    "    d[i] = []"
   ]
  },
  {
   "cell_type": "markdown",
   "metadata": {},
   "source": [
    "Observer le dictionnaire avant d'y mettre les données."
   ]
  },
  {
   "cell_type": "code",
   "execution_count": 21,
   "metadata": {
    "execution": {
     "iopub.execute_input": "2023-06-12T00:17:48.364223Z",
     "iopub.status.busy": "2023-06-12T00:17:48.363364Z",
     "iopub.status.idle": "2023-06-12T00:17:48.378538Z",
     "shell.execute_reply": "2023-06-12T00:17:48.375431Z"
    }
   },
   "outputs": [
    {
     "name": "stdout",
     "output_type": "stream",
     "text": [
      "('A._C._Sreehari', [])\n",
      "('A._Dorian_Otvos', [])\n",
      "('A._N._Murthy_Rao', [])\n"
     ]
    }
   ],
   "source": [
    "for i in list(d.items())[:3]:\n",
    "    print(i)"
   ]
  },
  {
   "cell_type": "markdown",
   "metadata": {},
   "source": [
    "Iterate sur les éléments de la variable clean_pairs qui contient les paires person/occupation, et append la liste des occupations de la personne"
   ]
  },
  {
   "cell_type": "code",
   "execution_count": 22,
   "metadata": {
    "execution": {
     "iopub.execute_input": "2023-06-12T00:17:48.389455Z",
     "iopub.status.busy": "2023-06-12T00:17:48.388607Z",
     "iopub.status.idle": "2023-06-12T00:17:48.557803Z",
     "shell.execute_reply": "2023-06-12T00:17:48.557057Z"
    }
   },
   "outputs": [],
   "source": [
    "for name, occupation in uniqpairs:\n",
    "    if name in uniqnames:\n",
    "        d[name].append(occupation)"
   ]
  },
  {
   "cell_type": "markdown",
   "metadata": {},
   "source": [
    "Observer une partie du dictionnaire."
   ]
  },
  {
   "cell_type": "code",
   "execution_count": 23,
   "metadata": {
    "execution": {
     "iopub.execute_input": "2023-06-12T00:17:48.560884Z",
     "iopub.status.busy": "2023-06-12T00:17:48.560634Z",
     "iopub.status.idle": "2023-06-12T00:17:48.564726Z",
     "shell.execute_reply": "2023-06-12T00:17:48.563969Z"
    }
   },
   "outputs": [
    {
     "name": "stdout",
     "output_type": "stream",
     "text": [
      "('A._C._Sreehari', ['writer', 'teacher', 'lyricist', 'poet'])\n",
      "('A._Dorian_Otvos', ['composer', 'writer'])\n",
      "('A._N._Murthy_Rao', ['professor', 'writer'])\n"
     ]
    }
   ],
   "source": [
    "for i in list(d.items())[:3]:\n",
    "    print(i)"
   ]
  },
  {
   "cell_type": "markdown",
   "metadata": {},
   "source": [
    "L'occupation \"Writer\" est très présente C'est pour cela que j'ai fait des requêtes supplémentaires. Cela a permis d'ajouter un certain nombre d'entrées."
   ]
  },
  {
   "cell_type": "code",
   "execution_count": 24,
   "metadata": {
    "execution": {
     "iopub.execute_input": "2023-06-12T00:17:48.567651Z",
     "iopub.status.busy": "2023-06-12T00:17:48.567351Z",
     "iopub.status.idle": "2023-06-12T00:17:48.572958Z",
     "shell.execute_reply": "2023-06-12T00:17:48.572223Z"
    }
   },
   "outputs": [
    {
     "data": {
      "text/plain": [
       "1782"
      ]
     },
     "execution_count": 24,
     "metadata": {},
     "output_type": "execute_result"
    }
   ],
   "source": [
    "len([i for i, j in list(d.items()) if \"Writer\" not in j])"
   ]
  },
  {
   "cell_type": "markdown",
   "metadata": {},
   "source": [
    "Mais la question se pose, tout de même, de l'intérêt ici de l'occupation \"Writer\" (qui est aussi, dans DBPedia, une méta-occupation). Je préfère la retirer, étant donné que les poète-sses, les romancier-ères, les dramaturges, sont aussi des écrivain-es."
   ]
  },
  {
   "cell_type": "code",
   "execution_count": 25,
   "metadata": {
    "execution": {
     "iopub.execute_input": "2023-06-12T00:17:48.575849Z",
     "iopub.status.busy": "2023-06-12T00:17:48.575556Z",
     "iopub.status.idle": "2023-06-12T00:17:48.581385Z",
     "shell.execute_reply": "2023-06-12T00:17:48.580586Z"
    }
   },
   "outputs": [
    {
     "data": {
      "text/plain": [
       "0"
      ]
     },
     "execution_count": 25,
     "metadata": {},
     "output_type": "execute_result"
    }
   ],
   "source": [
    "data_to_pop = [\n",
    "    i for i in list(d.keys()) if len(d[i]) < 3 and \"Writer\" in d[i]\n",
    "]\n",
    "len(data_to_pop)"
   ]
  },
  {
   "cell_type": "code",
   "execution_count": 26,
   "metadata": {
    "execution": {
     "iopub.execute_input": "2023-06-12T00:17:48.588548Z",
     "iopub.status.busy": "2023-06-12T00:17:48.587623Z",
     "iopub.status.idle": "2023-06-12T00:17:48.597970Z",
     "shell.execute_reply": "2023-06-12T00:17:48.595314Z"
    }
   },
   "outputs": [],
   "source": [
    "for i in data_to_pop:\n",
    "    d.pop(i)"
   ]
  },
  {
   "cell_type": "markdown",
   "metadata": {},
   "source": [
    "Le nombre d'entrées restantes dans le dictionnaires."
   ]
  },
  {
   "cell_type": "code",
   "execution_count": 27,
   "metadata": {
    "execution": {
     "iopub.execute_input": "2023-06-12T00:17:48.609212Z",
     "iopub.status.busy": "2023-06-12T00:17:48.608185Z",
     "iopub.status.idle": "2023-06-12T00:17:48.623733Z",
     "shell.execute_reply": "2023-06-12T00:17:48.620644Z"
    }
   },
   "outputs": [
    {
     "data": {
      "text/plain": [
       "1782"
      ]
     },
     "execution_count": 27,
     "metadata": {},
     "output_type": "execute_result"
    }
   ],
   "source": [
    "len(d)"
   ]
  },
  {
   "cell_type": "markdown",
   "metadata": {},
   "source": [
    "Il va désormais s'agir d'explorer les relations entre occupations en utilisant l'analyse de réseaux. Pour le début de l'exploration, je vais simplifier les données et regarder les relations d'occupations uniquement, en excluant les personnes des graphes, ou plus exactement: je vais créer un graphe avec un seul type de noeud, les occupations, et en réduisant les personnes à des nombres qui renforceront le poids des relations entre les noeuds-occupations. Plus une relation entre deux occupations (deux noeuds) sera répandue, et plus le lien entre elles sera considéré comme lourd.<br>\n",
    "Pour créer un réseau reliant les occupations les unes aux autres, il faut d'abord créer des relations entre occupations, des nouvelles paires occupation/occupation."
   ]
  },
  {
   "cell_type": "code",
   "execution_count": 28,
   "metadata": {
    "execution": {
     "iopub.execute_input": "2023-06-12T00:17:48.635190Z",
     "iopub.status.busy": "2023-06-12T00:17:48.634119Z",
     "iopub.status.idle": "2023-06-12T00:17:48.680491Z",
     "shell.execute_reply": "2023-06-12T00:17:48.677625Z"
    }
   },
   "outputs": [],
   "source": [
    "occ_pairs = []\n",
    "for name, occupations in d.items():\n",
    "    for occ_one in occupations:\n",
    "        for occ_two in occupations:\n",
    "            if occ_two != occ_one:\n",
    "                o = [occ_one, occ_two]\n",
    "                o.sort()\n",
    "                p = (o[0], o[1])\n",
    "                occ_pairs.append(p)"
   ]
  },
  {
   "cell_type": "markdown",
   "metadata": {},
   "source": [
    "Certaines paires ont plusieurs occurences: quand deux occupations cohabitent chez plusieurs personnes."
   ]
  },
  {
   "cell_type": "code",
   "execution_count": 29,
   "metadata": {
    "execution": {
     "iopub.execute_input": "2023-06-12T00:17:48.691310Z",
     "iopub.status.busy": "2023-06-12T00:17:48.690228Z",
     "iopub.status.idle": "2023-06-12T00:17:48.710871Z",
     "shell.execute_reply": "2023-06-12T00:17:48.707706Z"
    }
   },
   "outputs": [
    {
     "data": {
      "text/plain": [
       "[('biographer', 'novelist'),\n",
       " ('biographer', 'novelist'),\n",
       " ('biographer', 'novelist'),\n",
       " ('biographer', 'novelist'),\n",
       " ('biographer', 'novelist'),\n",
       " ('biographer', 'novelist'),\n",
       " ('biographer', 'novelist'),\n",
       " ('biographer', 'novelist')]"
      ]
     },
     "execution_count": 29,
     "metadata": {},
     "output_type": "execute_result"
    }
   ],
   "source": [
    "[i for i in occ_pairs if \"biographer\" in i and \"novelist\" in i][:10]"
   ]
  },
  {
   "cell_type": "markdown",
   "metadata": {},
   "source": [
    "Plutôt que d'avoir ainsi des doublons, on peut représenter le nombre d'occurences comme la force de la relation. Observer les relations avec le plus d'occurences."
   ]
  },
  {
   "cell_type": "code",
   "execution_count": 30,
   "metadata": {
    "execution": {
     "iopub.execute_input": "2023-06-12T00:17:48.722146Z",
     "iopub.status.busy": "2023-06-12T00:17:48.721121Z",
     "iopub.status.idle": "2023-06-12T00:17:48.748074Z",
     "shell.execute_reply": "2023-06-12T00:17:48.744959Z"
    }
   },
   "outputs": [
    {
     "data": {
      "text/plain": [
       "[(('poet', 'writer'), 342),\n",
       " (('journalist', 'writer'), 342),\n",
       " (('actor', 'writer'), 266),\n",
       " (('film_director', 'writer'), 264),\n",
       " (('film_director', 'film_producer'), 166),\n",
       " (('film_producer', 'writer'), 164),\n",
       " (('film_director', 'screenwriter'), 130),\n",
       " (('historian', 'writer'), 100),\n",
       " (('actor', 'film_director'), 88),\n",
       " (('screenwriter', 'writer'), 84)]"
      ]
     },
     "execution_count": 30,
     "metadata": {},
     "output_type": "execute_result"
    }
   ],
   "source": [
    "count = Counter(occ_pairs)\n",
    "count.most_common()[:10]"
   ]
  },
  {
   "cell_type": "markdown",
   "metadata": {},
   "source": [
    "Pour produire une première visualisation, je fais une sous-liste des paires d'occupations les plus courantes."
   ]
  },
  {
   "cell_type": "code",
   "execution_count": 31,
   "metadata": {
    "execution": {
     "iopub.execute_input": "2023-06-12T00:17:48.758861Z",
     "iopub.status.busy": "2023-06-12T00:17:48.757916Z",
     "iopub.status.idle": "2023-06-12T00:17:48.779709Z",
     "shell.execute_reply": "2023-06-12T00:17:48.776606Z"
    }
   },
   "outputs": [
    {
     "data": {
      "text/plain": [
       "[('film_director', 'film_producer', 166),\n",
       " ('film_director', 'screenwriter', 130),\n",
       " ('actor', 'film_director', 88),\n",
       " ('television_producer', 'television_writer', 76),\n",
       " ('film_producer', 'screenwriter', 70),\n",
       " ('screenwriter', 'television_producer', 66),\n",
       " ('journalist', 'poet', 66),\n",
       " ('playwright', 'poet', 62),\n",
       " ('novelist', 'poet', 62),\n",
       " ('actor', 'film_producer', 58)]"
      ]
     },
     "execution_count": 31,
     "metadata": {},
     "output_type": "execute_result"
    }
   ],
   "source": [
    "relations_most_common = [\n",
    "    (i[0], i[1], j)\n",
    "    for i, j in list(count.most_common()[:30])\n",
    "    if \"writer\" not in i\n",
    "]\n",
    "relations_most_common[:10]"
   ]
  },
  {
   "cell_type": "markdown",
   "metadata": {},
   "source": [
    "Construction d'un graphe avec ces paires d'occupations."
   ]
  },
  {
   "cell_type": "code",
   "execution_count": 32,
   "metadata": {
    "execution": {
     "iopub.execute_input": "2023-06-12T00:17:48.790630Z",
     "iopub.status.busy": "2023-06-12T00:17:48.789501Z",
     "iopub.status.idle": "2023-06-12T00:17:48.802972Z",
     "shell.execute_reply": "2023-06-12T00:17:48.799887Z"
    }
   },
   "outputs": [],
   "source": [
    "graph_most_common = nx.Graph()\n",
    "for relation in relations_most_common:\n",
    "    node1, node2 = relation[0], relation[1]\n",
    "    graph_most_common.add_edge(node1, node2)"
   ]
  },
  {
   "cell_type": "markdown",
   "metadata": {},
   "source": [
    "Tracer le graphe"
   ]
  },
  {
   "cell_type": "code",
   "execution_count": 33,
   "metadata": {
    "execution": {
     "iopub.execute_input": "2023-06-12T00:17:48.815311Z",
     "iopub.status.busy": "2023-06-12T00:17:48.813287Z",
     "iopub.status.idle": "2023-06-12T00:17:48.829221Z",
     "shell.execute_reply": "2023-06-12T00:17:48.826620Z"
    }
   },
   "outputs": [],
   "source": [
    "def tracer_montrer_graphe_sans_poids(graph):\n",
    "\n",
    "    # Positions des nœuds\n",
    "    pos = nx.spring_layout(graph)\n",
    "    nx.draw_networkx_edges(graph, pos, edge_color=\"gray\")\n",
    "\n",
    "    # Tracer les nœuds et les étiquettes\n",
    "    nx.draw_networkx_nodes(\n",
    "        graph, pos, node_color=\"lightblue\", node_size=10\n",
    "    )\n",
    "    nx.draw_networkx_labels(graph, pos, font_size=12)\n",
    "\n",
    "    # Afficher le graphe\n",
    "    plt.axis(\"off\")\n",
    "    plt.show()"
   ]
  },
  {
   "cell_type": "code",
   "execution_count": 34,
   "metadata": {
    "execution": {
     "iopub.execute_input": "2023-06-12T00:17:48.839488Z",
     "iopub.status.busy": "2023-06-12T00:17:48.838618Z",
     "iopub.status.idle": "2023-06-12T00:17:49.170374Z",
     "shell.execute_reply": "2023-06-12T00:17:49.169555Z"
    }
   },
   "outputs": [
    {
     "data": {
      "image/png": "[encoded data removed]",
      "text/plain": [
       "<Figure size 640x480 with 1 Axes>"
      ]
     },
     "metadata": {},
     "output_type": "display_data"
    }
   ],
   "source": [
    "tracer_montrer_graphe_sans_poids(graph_most_common)"
   ]
  },
  {
   "cell_type": "markdown",
   "metadata": {},
   "source": [
    "Cette première visualisation nous montre déjà des choses intéressantes, quoi que relativement triviales. Le graphe est séparé en deux clusters: les écritures littéraires et le journalisme d'un côté, les activités liées au cinéma ou à la télévision de l'autre. Ce premier découpage est intéressant du fait de l'annexion de l'occupation journalistique aux écritures littéraires. Le journalisme, du point de vue de ce graphe, peut bien apparaître, d'une part, comme un métier d'appoint typique des littérateurices; et d'autre part comme un espace d'expression publique dont les littérateurices se saisissent davantage que d'autres groupes d'écrivain-es. Surtout, ce découpage en deux clusters est moins un découpage entre deux types d'activités qu'entre deux \"mondes de l'art\" au sens de Howard Becker. Car, d'un point de vue technique, technologique, physiologique, etc., l'écriture pour la télévision est bien plus proche de l'écriture d'une pièce de théâtre que de l'acting. À moins qu'on entende par \"écriture\" un ensemble large de pratiques intégrant les formes de collaboration (réécrire sous la contrainte des équipes de tournages, discuter, reprendre des parties de scripts existants, etc.), auquel cas \"l'écriture\" du screenwriter a en effet beaucoup à voir avec l'acting, puisqu'il s'agit essentiellement d'une activité consistant à employer les mêmes critères et à cotoyer les mêmes personnes: celles et ceux du monde du cinéma.<br>\n",
    "Par ailleurs, on peut voir, dans le cluster lié au cinéma, que les nodes 'actor' et 'television writer' sont très éloigné, tandis que les nodes 'actor' et 'screen writer' (l'écriture pour le cinéma) sont plus rapprochés: on peut ainsi faire l'hypothèse que le monde de la télévision n'est pas structuré avec la même souplesse que le monde du cinéma, et que l'assignation à des rôles professionnels définis y est plus forte. Toutefois, il faut fortement relativiser cette hypothèse: ces résultats sont probablement liés au biais induit par la sélection des paires d'occupations les plus courantes."
   ]
  },
  {
   "cell_type": "markdown",
   "metadata": {},
   "source": [
    "Fonction pour chercher les nodes connectés aux nodes contenant un mot ou une chaîne de caractère."
   ]
  },
  {
   "cell_type": "code",
   "execution_count": 35,
   "metadata": {
    "execution": {
     "iopub.execute_input": "2023-06-12T00:17:49.173695Z",
     "iopub.status.busy": "2023-06-12T00:17:49.173348Z",
     "iopub.status.idle": "2023-06-12T00:17:49.177797Z",
     "shell.execute_reply": "2023-06-12T00:17:49.177041Z"
    }
   },
   "outputs": [],
   "source": [
    "def connected_nodes(mot: str, graph=graph_most_common):\n",
    "    a = [node for node in graph.nodes() if mot in node]\n",
    "    b = []\n",
    "    for i in a:\n",
    "        b.extend(graph_most_common.neighbors(i))\n",
    "    return (a, b)"
   ]
  },
  {
   "cell_type": "markdown",
   "metadata": {},
   "source": [
    "Les nodes connectés à des nodes contenant le mot 'book'"
   ]
  },
  {
   "cell_type": "code",
   "execution_count": 36,
   "metadata": {
    "execution": {
     "iopub.execute_input": "2023-06-12T00:17:49.180955Z",
     "iopub.status.busy": "2023-06-12T00:17:49.180586Z",
     "iopub.status.idle": "2023-06-12T00:17:49.189846Z",
     "shell.execute_reply": "2023-06-12T00:17:49.187627Z"
    }
   },
   "outputs": [
    {
     "data": {
      "text/plain": [
       "([], [])"
      ]
     },
     "execution_count": 36,
     "metadata": {},
     "output_type": "execute_result"
    }
   ],
   "source": [
    "connected_nodes(\"book\")"
   ]
  }
 ],
 "metadata": {
  "kernelspec": {
   "display_name": "Python 3",
   "language": "python",
   "name": "python3"
  },
  "language_info": {
   "codemirror_mode": {
    "name": "ipython",
    "version": 3
   },
   "file_extension": ".py",
   "mimetype": "text/x-python",
   "name": "python",
   "nbconvert_exporter": "python",
   "pygments_lexer": "ipython3",
   "version": "3.9.2"
  }
 },
 "nbformat": 4,
 "nbformat_minor": 2
}
