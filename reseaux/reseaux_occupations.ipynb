{
 "cells": [
  {
   "cell_type": "markdown",
   "metadata": {},
   "source": [
    "\n",
    "<br>\n",
    "Observation des réseaux de relations entre les différentes occupations des écrivain-es. Continuation nocturne du carnet \"reseaux_occupations\".<br>\n"
   ]
  },
  {
   "cell_type": "code",
   "execution_count": 1,
   "metadata": {
    "execution": {
     "iopub.execute_input": "2023-06-12T09:45:32.047455Z",
     "iopub.status.busy": "2023-06-12T09:45:32.046324Z",
     "iopub.status.idle": "2023-06-12T09:45:32.626672Z",
     "shell.execute_reply": "2023-06-12T09:45:32.625906Z"
    }
   },
   "outputs": [],
   "source": [
    "from SPARQLWrapper import SPARQLWrapper, JSON\n",
    "from collections import Counter\n",
    "import networkx as nx\n",
    "import matplotlib.pyplot as plt\n",
    "import re"
   ]
  },
  {
   "cell_type": "markdown",
   "metadata": {},
   "source": [
    "L'adresse de DBPedia, où la requête doit être adressée."
   ]
  },
  {
   "cell_type": "code",
   "execution_count": 2,
   "metadata": {
    "execution": {
     "iopub.execute_input": "2023-06-12T09:45:32.630133Z",
     "iopub.status.busy": "2023-06-12T09:45:32.629789Z",
     "iopub.status.idle": "2023-06-12T09:45:32.633400Z",
     "shell.execute_reply": "2023-06-12T09:45:32.632635Z"
    }
   },
   "outputs": [],
   "source": [
    "sparql = SPARQLWrapper(\"http://dbpedia.org/sparql\")"
   ]
  },
  {
   "cell_type": "markdown",
   "metadata": {},
   "source": [
    "Le format du résultat de la requête. L'objet, en python, sera un dictionnaire."
   ]
  },
  {
   "cell_type": "code",
   "execution_count": 3,
   "metadata": {
    "execution": {
     "iopub.execute_input": "2023-06-12T09:45:32.636273Z",
     "iopub.status.busy": "2023-06-12T09:45:32.635975Z",
     "iopub.status.idle": "2023-06-12T09:45:32.639279Z",
     "shell.execute_reply": "2023-06-12T09:45:32.638606Z"
    }
   },
   "outputs": [],
   "source": [
    "sparql.setReturnFormat(JSON)"
   ]
  },
  {
   "cell_type": "markdown",
   "metadata": {},
   "source": [
    "La requête, qui trouve les Writers et leurs occupations."
   ]
  },
  {
   "cell_type": "code",
   "execution_count": 4,
   "metadata": {
    "execution": {
     "iopub.execute_input": "2023-06-12T09:45:32.642584Z",
     "iopub.status.busy": "2023-06-12T09:45:32.641907Z",
     "iopub.status.idle": "2023-06-12T09:45:32.651611Z",
     "shell.execute_reply": "2023-06-12T09:45:32.649739Z"
    }
   },
   "outputs": [],
   "source": [
    "sparql.setQuery(\n",
    "    \"PREFIX dbo: <http://dbpedia.org/ontology/>\\n\"\n",
    "    \"PREFIX dbr: <http://dbpedia.org/resource/>\\n\"\n",
    "    \"\\n\"\n",
    "    \"SELECT DISTINCT ?person ?occupation\\n\"\n",
    "    \"WHERE {\\n\"\n",
    "    \"    ?person ?a dbr:Writer ;\\n\"\n",
    "    \"            dbo:occupation ?occupation .\\n\"\n",
    "    \"}\\n\"\n",
    ")"
   ]
  },
  {
   "cell_type": "markdown",
   "metadata": {},
   "source": [
    "Envoyer la requête."
   ]
  },
  {
   "cell_type": "code",
   "execution_count": 5,
   "metadata": {
    "execution": {
     "iopub.execute_input": "2023-06-12T09:45:32.659983Z",
     "iopub.status.busy": "2023-06-12T09:45:32.659315Z",
     "iopub.status.idle": "2023-06-12T09:45:38.752719Z",
     "shell.execute_reply": "2023-06-12T09:45:38.752004Z"
    }
   },
   "outputs": [],
   "source": [
    "results = sparql.queryAndConvert()"
   ]
  },
  {
   "cell_type": "markdown",
   "metadata": {},
   "source": [
    "Aperçu de la structure de l'objet retourné. Le premier niveau du dictionnaire."
   ]
  },
  {
   "cell_type": "code",
   "execution_count": 6,
   "metadata": {
    "execution": {
     "iopub.execute_input": "2023-06-12T09:45:38.756504Z",
     "iopub.status.busy": "2023-06-12T09:45:38.756176Z",
     "iopub.status.idle": "2023-06-12T09:45:38.765101Z",
     "shell.execute_reply": "2023-06-12T09:45:38.764087Z"
    }
   },
   "outputs": [
    {
     "data": {
      "text/plain": [
       "dict_keys(['head', 'results'])"
      ]
     },
     "execution_count": 6,
     "metadata": {},
     "output_type": "execute_result"
    }
   ],
   "source": [
    "results.keys()"
   ]
  },
  {
   "cell_type": "markdown",
   "metadata": {},
   "source": [
    "L'entrée \"head\" (en-tête), qui décrit la structure des données."
   ]
  },
  {
   "cell_type": "code",
   "execution_count": 7,
   "metadata": {
    "execution": {
     "iopub.execute_input": "2023-06-12T09:45:38.889087Z",
     "iopub.status.busy": "2023-06-12T09:45:38.888552Z",
     "iopub.status.idle": "2023-06-12T09:45:38.902467Z",
     "shell.execute_reply": "2023-06-12T09:45:38.899334Z"
    }
   },
   "outputs": [
    {
     "data": {
      "text/plain": [
       "{'link': [], 'vars': ['person', 'occupation']}"
      ]
     },
     "execution_count": 7,
     "metadata": {},
     "output_type": "execute_result"
    }
   ],
   "source": [
    "results[\"head\"]"
   ]
  },
  {
   "cell_type": "markdown",
   "metadata": {},
   "source": [
    "L'entrée \"results\"."
   ]
  },
  {
   "cell_type": "code",
   "execution_count": 8,
   "metadata": {
    "execution": {
     "iopub.execute_input": "2023-06-12T09:45:38.913550Z",
     "iopub.status.busy": "2023-06-12T09:45:38.912432Z",
     "iopub.status.idle": "2023-06-12T09:45:38.932081Z",
     "shell.execute_reply": "2023-06-12T09:45:38.929013Z"
    }
   },
   "outputs": [
    {
     "name": "stdout",
     "output_type": "stream",
     "text": [
      "results[\"results\"][\"distinct\"]: <class 'bool'> False\n",
      "results[\"results\"][\"ordered\"]: <class 'bool'> True\n",
      "results[\"results\"][\"bindings\"]: <class 'list'> [{'person': {'type': 'uri', 'value': 'http://dbpedia.org/resource/Caiseal_Mór'}, 'occupation': {'type': 'uri', 'value': 'http://dbpedia.org/resource/Musician'}}, {'person': {'type': 'uri', 'value': 'http://dbpedia.org/resource/Caiseal_Mór'}, 'occupation': {'type': 'uri', 'value': 'http://dbpedia.org/resource/Artist'}}]\n"
     ]
    }
   ],
   "source": [
    "for i, j in results[\"results\"].items():\n",
    "    if type(j) == list:\n",
    "        print(f'results[\"results\"][\"{i}\"]:', type(j), j[:2])\n",
    "    elif type(j) == dict:\n",
    "        print(\n",
    "            f'results[\"results\"][\"{i}\"]:', type(j), list(j.keys())[:3]\n",
    "        )\n",
    "    else:\n",
    "        print(f'results[\"results\"][\"{i}\"]:', type(j), j)"
   ]
  },
  {
   "cell_type": "markdown",
   "metadata": {},
   "source": [
    "Seul ce qui se trouve dans ['results']['bindings'] m'intéresse. Je commence par construire un simple liste de tuples selon le schéma (person, occupation)."
   ]
  },
  {
   "cell_type": "code",
   "execution_count": 9,
   "metadata": {
    "execution": {
     "iopub.execute_input": "2023-06-12T09:45:38.942895Z",
     "iopub.status.busy": "2023-06-12T09:45:38.941865Z",
     "iopub.status.idle": "2023-06-12T09:45:38.970764Z",
     "shell.execute_reply": "2023-06-12T09:45:38.967552Z"
    }
   },
   "outputs": [
    {
     "data": {
      "text/plain": [
       "[('http://dbpedia.org/resource/Caiseal_Mór',\n",
       "  'http://dbpedia.org/resource/Musician'),\n",
       " ('http://dbpedia.org/resource/Caiseal_Mór',\n",
       "  'http://dbpedia.org/resource/Artist'),\n",
       " ('http://dbpedia.org/resource/Caiseal_Mór',\n",
       "  'http://dbpedia.org/resource/Writer')]"
      ]
     },
     "execution_count": 9,
     "metadata": {},
     "output_type": "execute_result"
    }
   ],
   "source": [
    "pairs = [\n",
    "    (i[\"person\"][\"value\"], i[\"occupation\"][\"value\"])\n",
    "    for i in results[\"results\"][\"bindings\"]\n",
    "]\n",
    "pairs[:3]"
   ]
  },
  {
   "cell_type": "markdown",
   "metadata": {},
   "source": [
    "Pour augmenter le nombre de données (la raison apparaitra plus bas, mais repose sur la limitation à 10000 résultats par requête auprès de dbpedia), je fais également des requêtes avec d'autres occupations que Writers."
   ]
  },
  {
   "cell_type": "code",
   "execution_count": 10,
   "metadata": {
    "execution": {
     "iopub.execute_input": "2023-06-12T09:45:38.981349Z",
     "iopub.status.busy": "2023-06-12T09:45:38.980486Z",
     "iopub.status.idle": "2023-06-12T09:45:56.226260Z",
     "shell.execute_reply": "2023-06-12T09:45:56.225451Z"
    }
   },
   "outputs": [],
   "source": [
    "groups = [\"Novelist\", \"Poet\", \"Playwright\"]\n",
    "for i in groups:\n",
    "    q = SPARQLWrapper(\"http://dbpedia.org/sparql\")\n",
    "    q.setReturnFormat(JSON)\n",
    "    q.setQuery(\n",
    "        \"PREFIX dbo: <http://dbpedia.org/ontology/>\\n\"\n",
    "        \"PREFIX dbr: <http://dbpedia.org/resource/>\\n\"\n",
    "        \"\\n\"\n",
    "        \"SELECT DISTINCT ?person ?occupation\\n\"\n",
    "        \"WHERE {\\n\"\n",
    "        f\"    ?person ?a dbr:{i} ;\\n\"\n",
    "        \"            dbo:occupation ?occupation .\\n\"\n",
    "        \"}\\n\"\n",
    "    )\n",
    "    res = sparql.queryAndConvert()\n",
    "    p = [\n",
    "        (i[\"person\"][\"value\"], i[\"occupation\"][\"value\"])\n",
    "        for i in res[\"results\"][\"bindings\"]\n",
    "    ]\n",
    "    pairs.extend(p)"
   ]
  },
  {
   "cell_type": "markdown",
   "metadata": {},
   "source": [
    "J'enlève le début des URI, pour ne garder que les noms et les occupations."
   ]
  },
  {
   "cell_type": "code",
   "execution_count": 11,
   "metadata": {
    "execution": {
     "iopub.execute_input": "2023-06-12T09:45:56.229473Z",
     "iopub.status.busy": "2023-06-12T09:45:56.229122Z",
     "iopub.status.idle": "2023-06-12T09:45:56.273721Z",
     "shell.execute_reply": "2023-06-12T09:45:56.270879Z"
    }
   },
   "outputs": [
    {
     "data": {
      "text/plain": [
       "[('Caiseal_Mór', 'musician'),\n",
       " ('Caiseal_Mór', 'artist'),\n",
       " ('Caiseal_Mór', 'writer')]"
      ]
     },
     "execution_count": 11,
     "metadata": {},
     "output_type": "execute_result"
    }
   ],
   "source": [
    "clean_pairs = [\n",
    "    (\n",
    "        i.replace(\"http://dbpedia.org/resource/\", \"\"),\n",
    "        # Je passe les occupations en lowercase pour faciliter\n",
    "        # les recherches de caractères.\n",
    "        j.replace(\"http://dbpedia.org/resource/\", \"\").lower(),\n",
    "    )\n",
    "    for i, j in pairs\n",
    "]\n",
    "clean_pairs[:3]"
   ]
  },
  {
   "cell_type": "markdown",
   "metadata": {},
   "source": [
    "Certaines paires me sont inutiles, celles qui ont comme occupation \"[nom de la personne]_PersonFunction\"."
   ]
  },
  {
   "cell_type": "code",
   "execution_count": 12,
   "metadata": {
    "execution": {
     "iopub.execute_input": "2023-06-12T09:45:56.285242Z",
     "iopub.status.busy": "2023-06-12T09:45:56.283726Z",
     "iopub.status.idle": "2023-06-12T09:45:56.313757Z",
     "shell.execute_reply": "2023-06-12T09:45:56.310613Z"
    }
   },
   "outputs": [
    {
     "data": {
      "text/plain": [
       "[('Caitlin_Flanagan', 'caitlin_flanagan__personfunction__1'),\n",
       " ('Carl_Washington', 'carl_washington__personfunction__1'),\n",
       " ('Carlo_Mattogno', 'carlo_mattogno__personfunction__1'),\n",
       " ('Carlos_Alberto_Montaner', 'carlos_alberto_montaner__personfunction__1'),\n",
       " ('Carlos_Francisco_Chang_Marín',\n",
       "  'carlos_francisco_chang_marín__personfunction__1')]"
      ]
     },
     "execution_count": 12,
     "metadata": {},
     "output_type": "execute_result"
    }
   ],
   "source": [
    "[i for i in clean_pairs if \"personfunction\" in i[1]][:5]"
   ]
  },
  {
   "cell_type": "markdown",
   "metadata": {},
   "source": [
    "Je construis donc une nouvelle liste sans ces paires."
   ]
  },
  {
   "cell_type": "code",
   "execution_count": 13,
   "metadata": {
    "execution": {
     "iopub.execute_input": "2023-06-12T09:45:56.324894Z",
     "iopub.status.busy": "2023-06-12T09:45:56.323828Z",
     "iopub.status.idle": "2023-06-12T09:45:56.353195Z",
     "shell.execute_reply": "2023-06-12T09:45:56.350121Z"
    }
   },
   "outputs": [
    {
     "data": {
      "text/plain": [
       "25680"
      ]
     },
     "execution_count": 13,
     "metadata": {},
     "output_type": "execute_result"
    }
   ],
   "source": [
    "non_trivial_pairs = [\n",
    "    i for i in clean_pairs if \"personfunction\" not in i[1]\n",
    "]\n",
    "len(non_trivial_pairs)"
   ]
  },
  {
   "cell_type": "markdown",
   "metadata": {},
   "source": [
    "Il y a des répétitions de paires, puisque les Novelist, les Poets, etc., sont souvent aussi catégorisé-es comme Writer. En fait, l'ajout des nouveaux groupes n'a peut-être pas été si utile. [À faire, peut-être: ajouter des occupations liées à la littérature mais plutôt, par exemple, du côté des éditeurices, des bibliothécaires, des critiques. Ou, à l'inverse, des artistes, des musicien-nes, pour voir si les activités annexes sont du même type, s'il y a des recoupements, etc.]"
   ]
  },
  {
   "cell_type": "code",
   "execution_count": 14,
   "metadata": {
    "execution": {
     "iopub.execute_input": "2023-06-12T09:45:56.364345Z",
     "iopub.status.busy": "2023-06-12T09:45:56.363304Z",
     "iopub.status.idle": "2023-06-12T09:45:56.395110Z",
     "shell.execute_reply": "2023-06-12T09:45:56.392697Z"
    }
   },
   "outputs": [
    {
     "data": {
      "text/plain": [
       "6420"
      ]
     },
     "execution_count": 14,
     "metadata": {},
     "output_type": "execute_result"
    }
   ],
   "source": [
    "uniqpairs = list(set(non_trivial_pairs))\n",
    "len(uniqpairs)"
   ]
  },
  {
   "cell_type": "markdown",
   "metadata": {},
   "source": [
    "Je vais aussi éliminer les occupations pour lesquelles il y a une seule occurrence."
   ]
  },
  {
   "cell_type": "code",
   "execution_count": 15,
   "metadata": {
    "execution": {
     "iopub.execute_input": "2023-06-12T09:45:56.406619Z",
     "iopub.status.busy": "2023-06-12T09:45:56.404669Z",
     "iopub.status.idle": "2023-06-12T09:45:56.464099Z",
     "shell.execute_reply": "2023-06-12T09:45:56.461668Z"
    }
   },
   "outputs": [
    {
     "data": {
      "text/plain": [
       "[('Uche_Jombo', 'actress'),\n",
       " ('Enrique_Lafourcade', 'writer'),\n",
       " ('Mahmoud_Kassem', 'writer')]"
      ]
     },
     "execution_count": 15,
     "metadata": {},
     "output_type": "execute_result"
    }
   ],
   "source": [
    "occupations = [j for i, j in uniqpairs]\n",
    "notuniqocc = []\n",
    "count = Counter(occupations)\n",
    "for i, j in count.items():\n",
    "    if j > 1:\n",
    "        notuniqocc.append(i)\n",
    "uniqpairs = [(i, j) for i, j in uniqpairs if j in notuniqocc]\n",
    "uniqpairs[:3]"
   ]
  },
  {
   "cell_type": "markdown",
   "metadata": {},
   "source": [
    "Puisque ce sont les interactions entre occupations qui m'intéresse, je ne vais garder que les données qui concernent les personnes avec au moins deux entrées. Je commence par faire une liste des noms."
   ]
  },
  {
   "cell_type": "code",
   "execution_count": 16,
   "metadata": {
    "execution": {
     "iopub.execute_input": "2023-06-12T09:45:56.474403Z",
     "iopub.status.busy": "2023-06-12T09:45:56.473542Z",
     "iopub.status.idle": "2023-06-12T09:45:56.491300Z",
     "shell.execute_reply": "2023-06-12T09:45:56.488237Z"
    }
   },
   "outputs": [
    {
     "data": {
      "text/plain": [
       "['Uche_Jombo', 'Enrique_Lafourcade', 'Mahmoud_Kassem']"
      ]
     },
     "execution_count": 16,
     "metadata": {},
     "output_type": "execute_result"
    }
   ],
   "source": [
    "names = [i for i, j in uniqpairs]\n",
    "names[:3]"
   ]
  },
  {
   "cell_type": "markdown",
   "metadata": {},
   "source": [
    "Le nombre total d'occurences de noms."
   ]
  },
  {
   "cell_type": "code",
   "execution_count": 17,
   "metadata": {
    "execution": {
     "iopub.execute_input": "2023-06-12T09:45:56.503257Z",
     "iopub.status.busy": "2023-06-12T09:45:56.501039Z",
     "iopub.status.idle": "2023-06-12T09:45:56.516855Z",
     "shell.execute_reply": "2023-06-12T09:45:56.513842Z"
    }
   },
   "outputs": [
    {
     "data": {
      "text/plain": [
       "5816"
      ]
     },
     "execution_count": 17,
     "metadata": {},
     "output_type": "execute_result"
    }
   ],
   "source": [
    "len(names)"
   ]
  },
  {
   "cell_type": "markdown",
   "metadata": {},
   "source": [
    "Le nombre d'occurences de noms qui apparaissent plusieurs fois."
   ]
  },
  {
   "cell_type": "code",
   "execution_count": 18,
   "metadata": {
    "execution": {
     "iopub.execute_input": "2023-06-12T09:45:56.527572Z",
     "iopub.status.busy": "2023-06-12T09:45:56.526532Z",
     "iopub.status.idle": "2023-06-12T09:45:57.198930Z",
     "shell.execute_reply": "2023-06-12T09:45:57.198041Z"
    }
   },
   "outputs": [
    {
     "data": {
      "text/plain": [
       "4520"
      ]
     },
     "execution_count": 18,
     "metadata": {},
     "output_type": "execute_result"
    }
   ],
   "source": [
    "names_repeated = [i for i in names if names.count(i) > 1]\n",
    "len(names_repeated)"
   ]
  },
  {
   "cell_type": "markdown",
   "metadata": {},
   "source": [
    "Le nombre de noms qui apparaissent plusieurs fois. (Les données sont plus minces que ce que je pouvais espérer et il faudrait probablement opter pour une autre manière d'interroger DBPedia.)"
   ]
  },
  {
   "cell_type": "code",
   "execution_count": 19,
   "metadata": {
    "execution": {
     "iopub.execute_input": "2023-06-12T09:45:57.202102Z",
     "iopub.status.busy": "2023-06-12T09:45:57.201849Z",
     "iopub.status.idle": "2023-06-12T09:45:57.206801Z",
     "shell.execute_reply": "2023-06-12T09:45:57.206110Z"
    }
   },
   "outputs": [
    {
     "data": {
      "text/plain": [
       "1647"
      ]
     },
     "execution_count": 19,
     "metadata": {},
     "output_type": "execute_result"
    }
   ],
   "source": [
    "len(set(names_repeated))"
   ]
  },
  {
   "cell_type": "markdown",
   "metadata": {},
   "source": [
    "Les premiers noms."
   ]
  },
  {
   "cell_type": "code",
   "execution_count": 20,
   "metadata": {
    "execution": {
     "iopub.execute_input": "2023-06-12T09:45:57.209691Z",
     "iopub.status.busy": "2023-06-12T09:45:57.209431Z",
     "iopub.status.idle": "2023-06-12T09:45:57.214487Z",
     "shell.execute_reply": "2023-06-12T09:45:57.213783Z"
    }
   },
   "outputs": [
    {
     "name": "stdout",
     "output_type": "stream",
     "text": [
      "A._C._Sreehari\n",
      "A._Dorian_Otvos\n",
      "A._N._Murthy_Rao\n",
      "Aaron_Ehasz\n",
      "Abd_Al_Munim_Al_Gilyani\n"
     ]
    }
   ],
   "source": [
    "uniqnames = list(set(names_repeated))\n",
    "uniqnames.sort()\n",
    "for i in uniqnames[:5]:\n",
    "    print(i)"
   ]
  },
  {
   "cell_type": "markdown",
   "metadata": {},
   "source": [
    "Puisque chaque nom est unique, je peux utiliser les noms comme clés pour un dictionnaire. La valeur qui y sera attribuée sera une liste des occupations."
   ]
  },
  {
   "cell_type": "code",
   "execution_count": 21,
   "metadata": {
    "execution": {
     "iopub.execute_input": "2023-06-12T09:45:57.217482Z",
     "iopub.status.busy": "2023-06-12T09:45:57.217205Z",
     "iopub.status.idle": "2023-06-12T09:45:57.222374Z",
     "shell.execute_reply": "2023-06-12T09:45:57.221685Z"
    }
   },
   "outputs": [],
   "source": [
    "d = {}\n",
    "for i in uniqnames:\n",
    "    d[i] = []"
   ]
  },
  {
   "cell_type": "markdown",
   "metadata": {},
   "source": [
    "Observer le dictionnaire avant d'y mettre les données."
   ]
  },
  {
   "cell_type": "code",
   "execution_count": 22,
   "metadata": {
    "execution": {
     "iopub.execute_input": "2023-06-12T09:45:57.225462Z",
     "iopub.status.busy": "2023-06-12T09:45:57.225129Z",
     "iopub.status.idle": "2023-06-12T09:45:57.229281Z",
     "shell.execute_reply": "2023-06-12T09:45:57.228526Z"
    }
   },
   "outputs": [
    {
     "name": "stdout",
     "output_type": "stream",
     "text": [
      "('A._C._Sreehari', [])\n",
      "('A._Dorian_Otvos', [])\n",
      "('A._N._Murthy_Rao', [])\n"
     ]
    }
   ],
   "source": [
    "for i in list(d.items())[:3]:\n",
    "    print(i)"
   ]
  },
  {
   "cell_type": "markdown",
   "metadata": {},
   "source": [
    "Iterate sur les éléments de la variable clean_pairs qui contient les paires person/occupation, et append la liste des occupations de la personne"
   ]
  },
  {
   "cell_type": "code",
   "execution_count": 23,
   "metadata": {
    "execution": {
     "iopub.execute_input": "2023-06-12T09:45:57.232395Z",
     "iopub.status.busy": "2023-06-12T09:45:57.232088Z",
     "iopub.status.idle": "2023-06-12T09:45:57.312097Z",
     "shell.execute_reply": "2023-06-12T09:45:57.311368Z"
    }
   },
   "outputs": [],
   "source": [
    "for name, occupation in uniqpairs:\n",
    "    if name in uniqnames:\n",
    "        d[name].append(occupation)"
   ]
  },
  {
   "cell_type": "markdown",
   "metadata": {},
   "source": [
    "Observer une partie du dictionnaire."
   ]
  },
  {
   "cell_type": "code",
   "execution_count": 24,
   "metadata": {
    "execution": {
     "iopub.execute_input": "2023-06-12T09:45:57.315193Z",
     "iopub.status.busy": "2023-06-12T09:45:57.314874Z",
     "iopub.status.idle": "2023-06-12T09:45:57.318957Z",
     "shell.execute_reply": "2023-06-12T09:45:57.318244Z"
    }
   },
   "outputs": [
    {
     "name": "stdout",
     "output_type": "stream",
     "text": [
      "('A._C._Sreehari', ['writer', 'teacher', 'poet', 'lyricist'])\n",
      "('A._Dorian_Otvos', ['composer', 'writer'])\n",
      "('A._N._Murthy_Rao', ['writer', 'professor'])\n"
     ]
    }
   ],
   "source": [
    "for i in list(d.items())[:3]:\n",
    "    print(i)"
   ]
  },
  {
   "cell_type": "markdown",
   "metadata": {},
   "source": [
    "L'occupation \"Writer\" est très présente C'est pour cela que j'ai fait des requêtes supplémentaires. Cela a permis d'ajouter un certain nombre d'entrées."
   ]
  },
  {
   "cell_type": "code",
   "execution_count": 25,
   "metadata": {
    "execution": {
     "iopub.execute_input": "2023-06-12T09:45:57.322074Z",
     "iopub.status.busy": "2023-06-12T09:45:57.321790Z",
     "iopub.status.idle": "2023-06-12T09:45:57.327332Z",
     "shell.execute_reply": "2023-06-12T09:45:57.326612Z"
    }
   },
   "outputs": [
    {
     "data": {
      "text/plain": [
       "520"
      ]
     },
     "execution_count": 25,
     "metadata": {},
     "output_type": "execute_result"
    }
   ],
   "source": [
    "len([i for i, j in list(d.items()) if \"writer\" not in j])"
   ]
  },
  {
   "cell_type": "markdown",
   "metadata": {},
   "source": [
    "Mais la question se pose, tout de même, de l'intérêt ici de l'occupation \"Writer\" (qui est aussi, dans DBPedia, une méta-occupation). Je préfère la retirer, étant donné que les poète-sses, les romancier-ères, les dramaturges, sont aussi des écrivain-es. Puisque les réseaux que je vais construire sont des réseaux d'occupations annexes à l'écriture, il est inutile que tous les points du réseaux soient reliés à un point central \"écriture\": c'est leur intégration au graphe qui constitue cette relation commune."
   ]
  },
  {
   "cell_type": "code",
   "execution_count": 26,
   "metadata": {
    "execution": {
     "iopub.execute_input": "2023-06-12T09:45:57.330365Z",
     "iopub.status.busy": "2023-06-12T09:45:57.330091Z",
     "iopub.status.idle": "2023-06-12T09:45:57.334863Z",
     "shell.execute_reply": "2023-06-12T09:45:57.334139Z"
    }
   },
   "outputs": [],
   "source": [
    "data_to_pop = [\n",
    "    i for i in list(d.keys()) if len(d[i]) < 3 and \"writer\" in d[i]\n",
    "]\n",
    "len(data_to_pop)\n",
    "for i in data_to_pop:\n",
    "    d.pop(i)"
   ]
  },
  {
   "cell_type": "markdown",
   "metadata": {},
   "source": [
    "Enlever également des entrées restantes l'item 'writer'."
   ]
  },
  {
   "cell_type": "code",
   "execution_count": 27,
   "metadata": {
    "execution": {
     "iopub.execute_input": "2023-06-12T09:45:57.337988Z",
     "iopub.status.busy": "2023-06-12T09:45:57.337680Z",
     "iopub.status.idle": "2023-06-12T09:45:57.343086Z",
     "shell.execute_reply": "2023-06-12T09:45:57.341143Z"
    }
   },
   "outputs": [],
   "source": [
    "for i, j in d.items():\n",
    "    if 'writer' in j:\n",
    "        d[i].pop(d[i].index('writer'))"
   ]
  },
  {
   "cell_type": "markdown",
   "metadata": {},
   "source": [
    "Le nombre d'entrées restantes dans le dictionnaires."
   ]
  },
  {
   "cell_type": "code",
   "execution_count": 28,
   "metadata": {
    "execution": {
     "iopub.execute_input": "2023-06-12T09:45:57.353452Z",
     "iopub.status.busy": "2023-06-12T09:45:57.352545Z",
     "iopub.status.idle": "2023-06-12T09:45:57.368954Z",
     "shell.execute_reply": "2023-06-12T09:45:57.365806Z"
    }
   },
   "outputs": [
    {
     "data": {
      "text/plain": [
       "1106"
      ]
     },
     "execution_count": 28,
     "metadata": {},
     "output_type": "execute_result"
    }
   ],
   "source": [
    "len(d)"
   ]
  },
  {
   "cell_type": "markdown",
   "metadata": {},
   "source": [
    "Il va désormais s'agir d'explorer les relations entre occupations en utilisant l'analyse de réseaux. Pour le début de l'exploration, je vais simplifier les données et regarder les relations d'occupations uniquement, en excluant les personnes des graphes, ou plus exactement: je vais créer un graphe avec un seul type de noeud, les occupations, et en réduisant les personnes à des nombres qui renforceront le poids des relations entre les noeuds-occupations. Plus une relation entre deux occupations (deux noeuds) sera répandue, et plus le lien entre elles sera considéré comme lourd.<br>\n",
    "Pour créer un réseau reliant les occupations les unes aux autres, il faut d'abord créer des relations entre occupations, des nouvelles paires occupation/occupation."
   ]
  },
  {
   "cell_type": "code",
   "execution_count": 29,
   "metadata": {
    "execution": {
     "iopub.execute_input": "2023-06-12T09:45:57.379514Z",
     "iopub.status.busy": "2023-06-12T09:45:57.378470Z",
     "iopub.status.idle": "2023-06-12T09:45:57.405429Z",
     "shell.execute_reply": "2023-06-12T09:45:57.402234Z"
    }
   },
   "outputs": [],
   "source": [
    "occ_pairs = []\n",
    "for name, occupations in d.items():\n",
    "    for occ_one in occupations:\n",
    "        for occ_two in occupations:\n",
    "            if occ_two != occ_one:\n",
    "                o = [occ_one, occ_two]\n",
    "                o.sort()\n",
    "                p = (o[0], o[1])\n",
    "                occ_pairs.append(p)"
   ]
  },
  {
   "cell_type": "markdown",
   "metadata": {},
   "source": [
    "Certaines paires ont plusieurs occurences: quand deux occupations cohabitent chez plusieurs personnes."
   ]
  },
  {
   "cell_type": "code",
   "execution_count": 30,
   "metadata": {
    "execution": {
     "iopub.execute_input": "2023-06-12T09:45:57.416114Z",
     "iopub.status.busy": "2023-06-12T09:45:57.415247Z",
     "iopub.status.idle": "2023-06-12T09:45:57.433934Z",
     "shell.execute_reply": "2023-06-12T09:45:57.431478Z"
    }
   },
   "outputs": [
    {
     "data": {
      "text/plain": [
       "[('biographer', 'novelist'),\n",
       " ('biographer', 'novelist'),\n",
       " ('biographer', 'novelist'),\n",
       " ('biographer', 'novelist'),\n",
       " ('biographer', 'novelist'),\n",
       " ('biographer', 'novelist'),\n",
       " ('biographer', 'novelist'),\n",
       " ('biographer', 'novelist')]"
      ]
     },
     "execution_count": 30,
     "metadata": {},
     "output_type": "execute_result"
    }
   ],
   "source": [
    "[i for i in occ_pairs if \"biographer\" in i and \"novelist\" in i][:10]"
   ]
  },
  {
   "cell_type": "markdown",
   "metadata": {},
   "source": [
    "Plutôt que d'avoir ainsi des doublons, on peut représenter le nombre d'occurences comme la force de la relation. Observer les relations avec le plus d'occurences."
   ]
  },
  {
   "cell_type": "code",
   "execution_count": 31,
   "metadata": {
    "execution": {
     "iopub.execute_input": "2023-06-12T09:45:57.444764Z",
     "iopub.status.busy": "2023-06-12T09:45:57.443896Z",
     "iopub.status.idle": "2023-06-12T09:45:57.468022Z",
     "shell.execute_reply": "2023-06-12T09:45:57.464852Z"
    }
   },
   "outputs": [
    {
     "data": {
      "text/plain": [
       "[(('film_director', 'film_producer'), 164),\n",
       " (('film_director', 'screenwriter'), 130),\n",
       " (('actor', 'film_director'), 86),\n",
       " (('television_producer', 'television_writer'), 76),\n",
       " (('film_producer', 'screenwriter'), 70),\n",
       " (('screenwriter', 'television_producer'), 66),\n",
       " (('journalist', 'poet'), 66),\n",
       " (('playwright', 'poet'), 62),\n",
       " (('novelist', 'poet'), 62),\n",
       " (('actor', 'film_producer'), 56)]"
      ]
     },
     "execution_count": 31,
     "metadata": {},
     "output_type": "execute_result"
    }
   ],
   "source": [
    "count = Counter(occ_pairs)\n",
    "count.most_common()[:10]"
   ]
  },
  {
   "cell_type": "markdown",
   "metadata": {},
   "source": [
    "relations_most_common = [<br>\n",
    "    (i[0], i[1], j)<br>\n",
    "    for i, j in list(count.most_common()[:10])<br>\n",
    "]<br>\n",
    "relations_most_common[:10]"
   ]
  },
  {
   "cell_type": "code",
   "execution_count": 32,
   "metadata": {
    "execution": {
     "iopub.execute_input": "2023-06-12T09:45:57.478661Z",
     "iopub.status.busy": "2023-06-12T09:45:57.477788Z",
     "iopub.status.idle": "2023-06-12T09:45:57.497597Z",
     "shell.execute_reply": "2023-06-12T09:45:57.495078Z"
    }
   },
   "outputs": [],
   "source": [
    "def faire_un_graphe_simple_most_common(relations, nb: str):\n",
    "    \"\"\"\n",
    "    Construit un graphe (avec visualisation) des relations les plus répandues.\n",
    "    En paramètre: une liste de relations et le nombre de relations à sélectionner.\n",
    "    \"\"\"\n",
    "    # Compter les relations.\n",
    "    count = Counter(relations)\n",
    "    relations_selected = [\n",
    "        (i[0], i[1], j)\n",
    "        for i, j in list(count.most_common()[:nb])\n",
    "    ]\n",
    "    # Construire le graphe\n",
    "    g = nx.Graph()\n",
    "    for relation in relations_selected:\n",
    "        node1, node2 = relation[0], relation[1]\n",
    "        g.add_edge(node1, node2)\n",
    "    # Tracer le graphe.\n",
    "    pos = nx.spring_layout(g)\n",
    "    nx.draw_networkx_nodes(g, pos, alpha=0.6)\n",
    "    nx.draw_networkx_edges(g, pos, alpha=0.6)\n",
    "    nx.draw_networkx_labels(g, pos, alpha=0.7, font_size=9)\n",
    "    plt.show()"
   ]
  },
  {
   "cell_type": "markdown",
   "metadata": {},
   "source": [
    "Construction d'un graphe avec ces paires d'occupations."
   ]
  },
  {
   "cell_type": "code",
   "execution_count": 33,
   "metadata": {
    "execution": {
     "iopub.execute_input": "2023-06-12T09:45:57.508287Z",
     "iopub.status.busy": "2023-06-12T09:45:57.507448Z",
     "iopub.status.idle": "2023-06-12T09:45:57.871205Z",
     "shell.execute_reply": "2023-06-12T09:45:57.870465Z"
    }
   },
   "outputs": [
    {
     "data": {
      "image/png": "[encoded data removed]",
      "text/plain": [
       "<Figure size 640x480 with 1 Axes>"
      ]
     },
     "metadata": {},
     "output_type": "display_data"
    }
   ],
   "source": [
    "faire_un_graphe_simple_most_common(occ_pairs, 10)"
   ]
  },
  {
   "cell_type": "markdown",
   "metadata": {},
   "source": [
    "Cette première visualisation nous montre déjà des choses intéressantes, quoi que relativement triviales. Le graphe est séparé en deux clusters: les écritures littéraires et le journalisme d'un côté, les activités liées au cinéma ou à la télévision de l'autre. Ce premier découpage est intéressant du fait de l'annexion de l'occupation journalistique aux écritures littéraires. Le journalisme, du point de vue de ce graphe, peut bien apparaître, d'une part, comme un métier d'appoint typique des littérateurices; et d'autre part comme un espace d'expression publique dont les littérateurices se saisissent davantage que d'autres groupes d'écrivain-es. Surtout, ce découpage en deux clusters est moins un découpage entre deux types d'activités qu'entre deux \"mondes de l'art\" au sens de Howard Becker. Car, d'un point de vue technique, technologique, physiologique, etc., l'écriture pour la télévision est bien plus proche de l'écriture d'une pièce de théâtre que de l'acting. À moins qu'on entende par \"écriture\" un ensemble large de pratiques intégrant les formes de collaboration (réécrire sous la contrainte des équipes de tournages, discuter, reprendre des parties de scripts existants, etc.), auquel cas \"l'écriture\" du screenwriter a en effet beaucoup à voir avec l'acting, puisqu'il s'agit essentiellement d'une activité consistant à employer les mêmes critères et à cotoyer les mêmes personnes: celles et ceux du monde du cinéma.<br>\n",
    "Par ailleurs, on peut voir, dans le cluster lié au cinéma, que les nodes 'actor' et 'television writer' sont très éloigné, tandis que les nodes 'actor' et 'screen writer' (l'écriture pour le cinéma) sont plus rapprochés: on peut ainsi faire l'hypothèse que le monde de la télévision n'est pas structuré avec la même souplesse que le monde du cinéma, et que l'assignation à des rôles professionnels définis y est plus forte. Toutefois, il faut fortement relativiser cette hypothèse: ces résultats sont probablement liés au biais induit par la sélection des paires d'occupations les plus courantes."
   ]
  },
  {
   "cell_type": "markdown",
   "metadata": {},
   "source": [
    "La sociologie des Mondes de l'art de Howard Becker semble d'ailleurs particulièrement approprié ici, davantage, par exemple, que la théorie des champs de Bourdieu (qui conçoit le fonctionnement du champ littéraire comme un ensemble de positions). Becker, en effet, décrit les mondes de l'art comme des \"réseaux de coopérations\", et le succès de la réalisation d'une oeuvre d'art est en fait moins la conséquence des 'talents' de l'artiste que de la capacité de l'artiste à coopérer avec les autres membres du réseaux. Les artistes doivent apprendre à manier les jeux de langages et les critères des autres corps professionnels avec lesquels iels sont amené-es à collaborer. Il leur est donc naturellement plus facile de jouer elleux-mêmes ces rôles (occupations)."
   ]
  },
  {
   "cell_type": "markdown",
   "metadata": {},
   "source": [
    "Je produis une autre visualisation avec un nombre plus grand de données sélectionnées pour construire le graphe, pour observer ce qu'il se passe si l'on modifie progressivement le grain avec leque on observe ces données. Les deux clusters sont toujours séparés. De nouveaux points apparaissent des deux côtés, mais cela est particulièrement intéressant dans le cluster littéraire. Le rôle de traduction est associé aux poètes (je commenté cela dans un autre carnet), et les romancier-ères sont associés à deux nouveaux noeuds: (1) l'écriture de short-stories (de nouvelles), qui apparait ainsi comme une forme apparentée au roman, écrite avec les mêmes logiques; (2) l'écriture essayiste, ce qui n'est pas étonnant étant données que certains des romans modernes les plus importants du 20e siècle sont souvent perçues sous le prisme de l'essayisme (Proust, Musil, par exemple, en France, les exemples de Sartre ou Camus montre également le lien plus fort entre roman et essai). Tout cela montre le statut particulier du roman dans l'histoire littéraire moderne: forme hybride à la fois narrative et réflexive, forme totale qui a la capacité d'absorber tous les autres genres littéraires (ici: novelist est le seul point qui est connecté à tous les autres points littéraires: poet, playwright, essayist, short-story). "
   ]
  },
  {
   "cell_type": "code",
   "execution_count": 34,
   "metadata": {
    "execution": {
     "iopub.execute_input": "2023-06-12T09:45:57.874260Z",
     "iopub.status.busy": "2023-06-12T09:45:57.873963Z",
     "iopub.status.idle": "2023-06-12T09:45:58.127287Z",
     "shell.execute_reply": "2023-06-12T09:45:58.126440Z"
    }
   },
   "outputs": [
    {
     "data": {
      "image/png": "[encoded data removed]",
      "text/plain": [
       "<Figure size 640x480 with 1 Axes>"
      ]
     },
     "metadata": {},
     "output_type": "display_data"
    }
   ],
   "source": [
    "faire_un_graphe_simple_most_common(occ_pairs, 20)"
   ]
  },
  {
   "cell_type": "markdown",
   "metadata": {},
   "source": [
    "En augmentant encore un peu le nombre de relations à intégrer dans le graphe jusqu'à relier les deux clusters, on peut voir que les occupations qui relient les deux clusters sont screenwriter et playwright, l'écriture pour le théâtre et l'écriture pour le cinéma: deux activités d'écriture qui incluent des formes de coopération et d'anticipation, par exemple concernant la manière dont le texte pourra être interprêté par les comédien-nes, mis en scène, produit. Les contraintes d'écritures (format, durée, etc.) relatives au monde chargé de diffuser l'oeuvre sont ainsi bien plus proches pour le théâtre et le cinéma qu'entre théâtre et roman."
   ]
  },
  {
   "cell_type": "code",
   "execution_count": 35,
   "metadata": {
    "execution": {
     "iopub.execute_input": "2023-06-12T09:45:58.130361Z",
     "iopub.status.busy": "2023-06-12T09:45:58.130024Z",
     "iopub.status.idle": "2023-06-12T09:45:58.364981Z",
     "shell.execute_reply": "2023-06-12T09:45:58.364133Z"
    }
   },
   "outputs": [
    {
     "data": {
      "image/png": "[encoded data removed]",
      "text/plain": [
       "<Figure size 640x480 with 1 Axes>"
      ]
     },
     "metadata": {},
     "output_type": "display_data"
    }
   ],
   "source": [
    "faire_un_graphe_simple_most_common(occ_pairs, 23)"
   ]
  },
  {
   "cell_type": "markdown",
   "metadata": {},
   "source": [
    "Construire un graphe avec toutes les données. Impossible à visualiser, mais à partir duquel faire des recherches et produire des sous-graphes à visualiser.<br>\n",
    "<br>\n",
    "# Commencer par placer les nodes<br>\n",
    "g = nx.Graph()<br>\n",
    "for name, occupation in uniqpairs:<br>\n",
    "    node_person = (name, {\"node_type\": \"P\"})<br>\n",
    "    node_occupation = (occupation, {\"node_type\": \"O\"})<br>\n",
    "    g.add_nodes_from([node_person])<br>\n",
    "    g.add_nodes_from([node_occupation])<br>\n",
    "    g.add_edge(name, occupation)<br>\n",
    "<br>\n",
    "# Puis les edges, avec un attribut \"poids\" (weight): le nombre de paires de ces occupations.<br>\n",
    "count = Counter(occ_pairs).items()<br>\n",
    "for occs, nb in count:<br>\n",
    "    g.add_edges_from([(occs[0], occs[1], {\"weight\": nb})])<br>\n",
    "<br>\n",
    "start_node = \"poet\"<br>\n",
    "end_node = \"actor\"<br>\n",
    "a = nx.shortest_path_length(g, start_node, end_node)<br>\n",
    "a<br>\n",
    "#<br>\n",
    "reachable_nodes = [<br>\n",
    "    node<br>\n",
    "    for node in g.nodes()<br>\n",
    "    if nx.has_path(g, node, end_node)<br>\n",
    "    and nx.has_path(g, start_node, node)<br>\n",
    "    and nx.shortest_path_length(g, start_node, node) <= 2<br>\n",
    "    and nx.shortest_path_length(g, node, end_node) <= 2<br>\n",
    "]<br>\n",
    "len(reachable_nodes)<br>\n",
    "len([i for i in g.nodes()])"
   ]
  }
 ],
 "metadata": {
  "kernelspec": {
   "display_name": "Python 3",
   "language": "python",
   "name": "python3"
  },
  "language_info": {
   "codemirror_mode": {
    "name": "ipython",
    "version": 3
   },
   "file_extension": ".py",
   "mimetype": "text/x-python",
   "name": "python",
   "nbconvert_exporter": "python",
   "pygments_lexer": "ipython3",
   "version": "3.9.2"
  }
 },
 "nbformat": 4,
 "nbformat_minor": 2
}
