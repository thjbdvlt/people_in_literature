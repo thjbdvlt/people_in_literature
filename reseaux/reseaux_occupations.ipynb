{
 "cells": [
  {
   "cell_type": "markdown",
   "metadata": {},
   "source": [
    "\n",
    "<br>\n",
    "Observation des réseaux de relations entre les différentes occupations des écrivain-es.<br>\n"
   ]
  },
  {
   "cell_type": "code",
   "execution_count": 1,
   "metadata": {
    "execution": {
     "iopub.execute_input": "2023-06-11T22:05:33.340887Z",
     "iopub.status.busy": "2023-06-11T22:05:33.339738Z",
     "iopub.status.idle": "2023-06-11T22:05:33.933888Z",
     "shell.execute_reply": "2023-06-11T22:05:33.933045Z"
    }
   },
   "outputs": [],
   "source": [
    "from SPARQLWrapper import SPARQLWrapper, JSON\n",
    "from collections import Counter\n",
    "import networkx as nx\n",
    "import matplotlib.pyplot as plt"
   ]
  },
  {
   "cell_type": "markdown",
   "metadata": {},
   "source": [
    "L'adresse de DBPedia, où la requête doit être adressée."
   ]
  },
  {
   "cell_type": "code",
   "execution_count": 2,
   "metadata": {
    "execution": {
     "iopub.execute_input": "2023-06-11T22:05:33.937399Z",
     "iopub.status.busy": "2023-06-11T22:05:33.936967Z",
     "iopub.status.idle": "2023-06-11T22:05:33.940797Z",
     "shell.execute_reply": "2023-06-11T22:05:33.940052Z"
    }
   },
   "outputs": [],
   "source": [
    "sparql = SPARQLWrapper(\"http://dbpedia.org/sparql\")"
   ]
  },
  {
   "cell_type": "markdown",
   "metadata": {},
   "source": [
    "Le format du résultat de la requête. L'objet, en python, sera un dictionnaire."
   ]
  },
  {
   "cell_type": "code",
   "execution_count": 3,
   "metadata": {
    "execution": {
     "iopub.execute_input": "2023-06-11T22:05:33.944143Z",
     "iopub.status.busy": "2023-06-11T22:05:33.943519Z",
     "iopub.status.idle": "2023-06-11T22:05:33.947338Z",
     "shell.execute_reply": "2023-06-11T22:05:33.946568Z"
    }
   },
   "outputs": [],
   "source": [
    "sparql.setReturnFormat(JSON)"
   ]
  },
  {
   "cell_type": "markdown",
   "metadata": {},
   "source": [
    "La requête, qui trouve les Writers et leurs occupations."
   ]
  },
  {
   "cell_type": "code",
   "execution_count": 4,
   "metadata": {
    "execution": {
     "iopub.execute_input": "2023-06-11T22:05:33.950686Z",
     "iopub.status.busy": "2023-06-11T22:05:33.950334Z",
     "iopub.status.idle": "2023-06-11T22:05:33.954034Z",
     "shell.execute_reply": "2023-06-11T22:05:33.953328Z"
    }
   },
   "outputs": [],
   "source": [
    "sparql.setQuery(\n",
    "    \"PREFIX dbo: <http://dbpedia.org/ontology/>\\n\"\n",
    "    \"PREFIX dbr: <http://dbpedia.org/resource/>\\n\"\n",
    "    \"\\n\"\n",
    "    \"SELECT DISTINCT ?person ?occupation\\n\"\n",
    "    \"WHERE {\\n\"\n",
    "    \"    ?person ?a dbr:Writer ;\\n\"\n",
    "    \"            dbo:occupation ?occupation .\\n\"\n",
    "    \"}\\n\"\n",
    ")"
   ]
  },
  {
   "cell_type": "markdown",
   "metadata": {},
   "source": [
    "Envoyer la requête."
   ]
  },
  {
   "cell_type": "code",
   "execution_count": 5,
   "metadata": {
    "execution": {
     "iopub.execute_input": "2023-06-11T22:05:33.957215Z",
     "iopub.status.busy": "2023-06-11T22:05:33.956966Z",
     "iopub.status.idle": "2023-06-11T22:05:35.962409Z",
     "shell.execute_reply": "2023-06-11T22:05:35.961696Z"
    }
   },
   "outputs": [],
   "source": [
    "results = sparql.queryAndConvert()"
   ]
  },
  {
   "cell_type": "markdown",
   "metadata": {},
   "source": [
    "Aperçu de la structure de l'objet retourné. Le premier niveau du dictionnaire."
   ]
  },
  {
   "cell_type": "code",
   "execution_count": 6,
   "metadata": {
    "execution": {
     "iopub.execute_input": "2023-06-11T22:05:35.971808Z",
     "iopub.status.busy": "2023-06-11T22:05:35.970937Z",
     "iopub.status.idle": "2023-06-11T22:05:35.994515Z",
     "shell.execute_reply": "2023-06-11T22:05:35.991989Z"
    }
   },
   "outputs": [
    {
     "data": {
      "text/plain": [
       "dict_keys(['head', 'results'])"
      ]
     },
     "execution_count": 6,
     "metadata": {},
     "output_type": "execute_result"
    }
   ],
   "source": [
    "results.keys()"
   ]
  },
  {
   "cell_type": "markdown",
   "metadata": {},
   "source": [
    "L'entrée \"head\" (en-tête), qui décrit la structure des données."
   ]
  },
  {
   "cell_type": "code",
   "execution_count": 7,
   "metadata": {
    "execution": {
     "iopub.execute_input": "2023-06-11T22:05:36.132318Z",
     "iopub.status.busy": "2023-06-11T22:05:36.131631Z",
     "iopub.status.idle": "2023-06-11T22:05:36.143496Z",
     "shell.execute_reply": "2023-06-11T22:05:36.141703Z"
    }
   },
   "outputs": [
    {
     "data": {
      "text/plain": [
       "{'link': [], 'vars': ['person', 'occupation']}"
      ]
     },
     "execution_count": 7,
     "metadata": {},
     "output_type": "execute_result"
    }
   ],
   "source": [
    "results[\"head\"]"
   ]
  },
  {
   "cell_type": "markdown",
   "metadata": {},
   "source": [
    "L'entrée \"results\"."
   ]
  },
  {
   "cell_type": "code",
   "execution_count": 8,
   "metadata": {
    "execution": {
     "iopub.execute_input": "2023-06-11T22:05:36.154255Z",
     "iopub.status.busy": "2023-06-11T22:05:36.153291Z",
     "iopub.status.idle": "2023-06-11T22:05:36.172207Z",
     "shell.execute_reply": "2023-06-11T22:05:36.169213Z"
    }
   },
   "outputs": [
    {
     "name": "stdout",
     "output_type": "stream",
     "text": [
      "results[\"results\"][\"distinct\"]: <class 'bool'> False\n",
      "results[\"results\"][\"ordered\"]: <class 'bool'> True\n",
      "results[\"results\"][\"bindings\"]: <class 'list'> [{'person': {'type': 'uri', 'value': 'http://dbpedia.org/resource/Caiseal_Mór'}, 'occupation': {'type': 'uri', 'value': 'http://dbpedia.org/resource/Musician'}}, {'person': {'type': 'uri', 'value': 'http://dbpedia.org/resource/Caiseal_Mór'}, 'occupation': {'type': 'uri', 'value': 'http://dbpedia.org/resource/Artist'}}]\n"
     ]
    }
   ],
   "source": [
    "for i, j in results[\"results\"].items():\n",
    "    if type(j) == list:\n",
    "        print(f'results[\"results\"][\"{i}\"]:', type(j), j[:2])\n",
    "    elif type(j) == dict:\n",
    "        print(\n",
    "            f'results[\"results\"][\"{i}\"]:', type(j), list(j.keys())[:3]\n",
    "        )\n",
    "    else:\n",
    "        print(f'results[\"results\"][\"{i}\"]:', type(j), j)"
   ]
  },
  {
   "cell_type": "markdown",
   "metadata": {},
   "source": [
    "Seul ce qui se trouve dans ['results']['bindings'] m'intéresse. Je commence par construire un simple liste de tuples selon le schéma (person, occupation)."
   ]
  },
  {
   "cell_type": "code",
   "execution_count": 9,
   "metadata": {
    "execution": {
     "iopub.execute_input": "2023-06-11T22:05:36.183765Z",
     "iopub.status.busy": "2023-06-11T22:05:36.181796Z",
     "iopub.status.idle": "2023-06-11T22:05:36.211970Z",
     "shell.execute_reply": "2023-06-11T22:05:36.208871Z"
    }
   },
   "outputs": [
    {
     "data": {
      "text/plain": [
       "[('http://dbpedia.org/resource/Caiseal_Mór',\n",
       "  'http://dbpedia.org/resource/Musician'),\n",
       " ('http://dbpedia.org/resource/Caiseal_Mór',\n",
       "  'http://dbpedia.org/resource/Artist'),\n",
       " ('http://dbpedia.org/resource/Caiseal_Mór',\n",
       "  'http://dbpedia.org/resource/Writer')]"
      ]
     },
     "execution_count": 9,
     "metadata": {},
     "output_type": "execute_result"
    }
   ],
   "source": [
    "pairs = [\n",
    "    (i[\"person\"][\"value\"], i[\"occupation\"][\"value\"])\n",
    "    for i in results[\"results\"][\"bindings\"]\n",
    "]\n",
    "pairs[:3]"
   ]
  },
  {
   "cell_type": "markdown",
   "metadata": {},
   "source": [
    "Pour augmenter le nombre de données (la raison apparaitra plus bas, mais repose sur la limitation à 10000 résultats par requête auprès de dbpedia), je fais également des requêtes avec d'autres occupations que Writers."
   ]
  },
  {
   "cell_type": "code",
   "execution_count": 10,
   "metadata": {
    "execution": {
     "iopub.execute_input": "2023-06-11T22:05:36.222974Z",
     "iopub.status.busy": "2023-06-11T22:05:36.222081Z",
     "iopub.status.idle": "2023-06-11T22:05:40.220599Z",
     "shell.execute_reply": "2023-06-11T22:05:40.219800Z"
    }
   },
   "outputs": [],
   "source": [
    "queries = {}\n",
    "separated_results = {}\n",
    "pairs_supp = {}\n",
    "groups = [\"Novelist\", \"Poet\", \"Playwright\"]\n",
    "for i in groups:\n",
    "    queries[i] = SPARQLWrapper(\"http://dbpedia.org/sparql\")\n",
    "    queries[i].setReturnFormat(JSON)\n",
    "    queries[i].setQuery(\n",
    "        \"PREFIX dbo: <http://dbpedia.org/ontology/>\\n\"\n",
    "        \"PREFIX dbr: <http://dbpedia.org/resource/>\\n\"\n",
    "        \"\\n\"\n",
    "        \"SELECT DISTINCT ?person ?occupation\\n\"\n",
    "        \"WHERE {\\n\"\n",
    "        f\"    ?person ?a dbr:{i} ;\\n\"\n",
    "        \"            dbo:occupation ?occupation .\\n\"\n",
    "        \"}\\n\"\n",
    "    )\n",
    "    separated_results[i] = sparql.queryAndConvert()\n",
    "    pairs_supp[i] = [\n",
    "        (i[\"person\"][\"value\"], i[\"occupation\"][\"value\"])\n",
    "        for i in separated_results[i][\"results\"][\"bindings\"]\n",
    "    ]\n",
    "    pairs.extend(pairs_supp[i])"
   ]
  },
  {
   "cell_type": "markdown",
   "metadata": {},
   "source": [
    "J'enlève le début des URI, pour ne garder que les noms et les occupations."
   ]
  },
  {
   "cell_type": "code",
   "execution_count": 11,
   "metadata": {
    "execution": {
     "iopub.execute_input": "2023-06-11T22:05:40.227596Z",
     "iopub.status.busy": "2023-06-11T22:05:40.226527Z",
     "iopub.status.idle": "2023-06-11T22:05:40.346006Z",
     "shell.execute_reply": "2023-06-11T22:05:40.342990Z"
    }
   },
   "outputs": [
    {
     "data": {
      "text/plain": [
       "[('Caiseal_Mór', 'Musician'),\n",
       " ('Caiseal_Mór', 'Artist'),\n",
       " ('Caiseal_Mór', 'Writer')]"
      ]
     },
     "execution_count": 11,
     "metadata": {},
     "output_type": "execute_result"
    }
   ],
   "source": [
    "clean_pairs = [\n",
    "    (\n",
    "        i.replace(\"http://dbpedia.org/resource/\", \"\"),\n",
    "        j.replace(\"http://dbpedia.org/resource/\", \"\"),\n",
    "    )\n",
    "    for i, j in pairs\n",
    "]\n",
    "clean_pairs[:3]"
   ]
  },
  {
   "cell_type": "markdown",
   "metadata": {},
   "source": [
    "Certaines paires me sont inutiles, celles qui ont comme occupation \"[nom de la personne]_PersonFunction\"."
   ]
  },
  {
   "cell_type": "code",
   "execution_count": 12,
   "metadata": {
    "execution": {
     "iopub.execute_input": "2023-06-11T22:05:40.356480Z",
     "iopub.status.busy": "2023-06-11T22:05:40.355612Z",
     "iopub.status.idle": "2023-06-11T22:05:40.384974Z",
     "shell.execute_reply": "2023-06-11T22:05:40.382472Z"
    }
   },
   "outputs": [
    {
     "data": {
      "text/plain": [
       "[('Caitlin_Flanagan', 'Caitlin_Flanagan__PersonFunction__1'),\n",
       " ('Caleb_Garling', 'Caleb_Garling__PersonFunction__1'),\n",
       " ('Calla_Curman', 'Calla_Curman__PersonFunction__1'),\n",
       " ('Camille_Lemonnier', 'Camille_Lemonnier__PersonFunction__1'),\n",
       " ('Carl_Binder', 'Carl_Binder__PersonFunction__1')]"
      ]
     },
     "execution_count": 12,
     "metadata": {},
     "output_type": "execute_result"
    }
   ],
   "source": [
    "[i for i in clean_pairs if \"PersonFunction\" in i[1]][:5]"
   ]
  },
  {
   "cell_type": "markdown",
   "metadata": {},
   "source": [
    "Je construis donc une nouvelle liste sans ces paires."
   ]
  },
  {
   "cell_type": "code",
   "execution_count": 13,
   "metadata": {
    "execution": {
     "iopub.execute_input": "2023-06-11T22:05:40.395937Z",
     "iopub.status.busy": "2023-06-11T22:05:40.395041Z",
     "iopub.status.idle": "2023-06-11T22:05:40.427830Z",
     "shell.execute_reply": "2023-06-11T22:05:40.424779Z"
    }
   },
   "outputs": [
    {
     "data": {
      "text/plain": [
       "25692"
      ]
     },
     "execution_count": 13,
     "metadata": {},
     "output_type": "execute_result"
    }
   ],
   "source": [
    "non_trivial_pairs = [\n",
    "    i for i in clean_pairs if \"PersonFunction\" not in i[1]\n",
    "]\n",
    "len(non_trivial_pairs)"
   ]
  },
  {
   "cell_type": "markdown",
   "metadata": {},
   "source": [
    "Il y a des répétitions de paires, puisque les Novelist, les Poets, etc., sont souvent aussi catégorisé-es comme Writer. En fait, l'ajout des nouveaux groupes n'a peut-être pas été si utile. [À faire, peut-être: ajouter des occupations liées à la littérature mais plutôt, par exemple, du côté des éditeurices, des bibliothécaires, des critiques. Ou, à l'inverse, des artistes, des musicien-nes, pour voir si les activités annexes sont du même type, s'il y a des recoupements, etc.]"
   ]
  },
  {
   "cell_type": "code",
   "execution_count": 14,
   "metadata": {
    "execution": {
     "iopub.execute_input": "2023-06-11T22:05:40.438271Z",
     "iopub.status.busy": "2023-06-11T22:05:40.437418Z",
     "iopub.status.idle": "2023-06-11T22:05:40.470873Z",
     "shell.execute_reply": "2023-06-11T22:05:40.467836Z"
    }
   },
   "outputs": [
    {
     "data": {
      "text/plain": [
       "6423"
      ]
     },
     "execution_count": 14,
     "metadata": {},
     "output_type": "execute_result"
    }
   ],
   "source": [
    "uniqpairs = list(set(non_trivial_pairs))\n",
    "len(uniqpairs)"
   ]
  },
  {
   "cell_type": "markdown",
   "metadata": {},
   "source": [
    "Puisque ce sont les interactions entre occupations qui m'intéresse, je ne vais garder que les données qui concernent les personnes avec au moins deux entrées. Je commence par faire une liste des noms."
   ]
  },
  {
   "cell_type": "code",
   "execution_count": 15,
   "metadata": {
    "execution": {
     "iopub.execute_input": "2023-06-11T22:05:40.482304Z",
     "iopub.status.busy": "2023-06-11T22:05:40.481420Z",
     "iopub.status.idle": "2023-06-11T22:05:40.501147Z",
     "shell.execute_reply": "2023-06-11T22:05:40.498012Z"
    }
   },
   "outputs": [
    {
     "data": {
      "text/plain": [
       "['Louis_Ferrante', 'Francisco_Domene', 'Hermann_Kasack']"
      ]
     },
     "execution_count": 15,
     "metadata": {},
     "output_type": "execute_result"
    }
   ],
   "source": [
    "names = [i for i, j in uniqpairs]\n",
    "names[:3]"
   ]
  },
  {
   "cell_type": "code",
   "execution_count": 16,
   "metadata": {
    "execution": {
     "iopub.execute_input": "2023-06-11T22:05:40.511933Z",
     "iopub.status.busy": "2023-06-11T22:05:40.510894Z",
     "iopub.status.idle": "2023-06-11T22:05:41.317893Z",
     "shell.execute_reply": "2023-06-11T22:05:41.317146Z"
    }
   },
   "outputs": [],
   "source": [
    "names_repeated = [i for i in names if names.count(i) > 1]"
   ]
  },
  {
   "cell_type": "markdown",
   "metadata": {},
   "source": [
    "Le nombre total d'occurences de noms."
   ]
  },
  {
   "cell_type": "code",
   "execution_count": 17,
   "metadata": {
    "execution": {
     "iopub.execute_input": "2023-06-11T22:05:41.320996Z",
     "iopub.status.busy": "2023-06-11T22:05:41.320660Z",
     "iopub.status.idle": "2023-06-11T22:05:41.325476Z",
     "shell.execute_reply": "2023-06-11T22:05:41.324665Z"
    }
   },
   "outputs": [
    {
     "data": {
      "text/plain": [
       "6423"
      ]
     },
     "execution_count": 17,
     "metadata": {},
     "output_type": "execute_result"
    }
   ],
   "source": [
    "len(names)"
   ]
  },
  {
   "cell_type": "markdown",
   "metadata": {},
   "source": [
    "Le nombre d'occurences de noms qui apparaissent plusieurs fois."
   ]
  },
  {
   "cell_type": "code",
   "execution_count": 18,
   "metadata": {
    "execution": {
     "iopub.execute_input": "2023-06-11T22:05:41.328405Z",
     "iopub.status.busy": "2023-06-11T22:05:41.328102Z",
     "iopub.status.idle": "2023-06-11T22:05:41.332662Z",
     "shell.execute_reply": "2023-06-11T22:05:41.331931Z"
    }
   },
   "outputs": [
    {
     "data": {
      "text/plain": [
       "5021"
      ]
     },
     "execution_count": 18,
     "metadata": {},
     "output_type": "execute_result"
    }
   ],
   "source": [
    "len(names_repeated)"
   ]
  },
  {
   "cell_type": "markdown",
   "metadata": {},
   "source": [
    "Le nombre de noms qui apparaissent plusieurs fois. (Les données sont plus minces que ce que je pouvais espérer et il faudrait probablement opter pour une autre manière d'interroger DBPedia.)"
   ]
  },
  {
   "cell_type": "code",
   "execution_count": 19,
   "metadata": {
    "execution": {
     "iopub.execute_input": "2023-06-11T22:05:41.335596Z",
     "iopub.status.busy": "2023-06-11T22:05:41.335293Z",
     "iopub.status.idle": "2023-06-11T22:05:41.340659Z",
     "shell.execute_reply": "2023-06-11T22:05:41.339873Z"
    }
   },
   "outputs": [
    {
     "data": {
      "text/plain": [
       "1782"
      ]
     },
     "execution_count": 19,
     "metadata": {},
     "output_type": "execute_result"
    }
   ],
   "source": [
    "len(set(names_repeated))"
   ]
  },
  {
   "cell_type": "markdown",
   "metadata": {},
   "source": [
    "Les premiers noms."
   ]
  },
  {
   "cell_type": "code",
   "execution_count": 20,
   "metadata": {
    "execution": {
     "iopub.execute_input": "2023-06-11T22:05:41.343581Z",
     "iopub.status.busy": "2023-06-11T22:05:41.343228Z",
     "iopub.status.idle": "2023-06-11T22:05:41.348924Z",
     "shell.execute_reply": "2023-06-11T22:05:41.348109Z"
    }
   },
   "outputs": [
    {
     "name": "stdout",
     "output_type": "stream",
     "text": [
      "A._C._Sreehari\n",
      "A._Dorian_Otvos\n",
      "A._N._Murthy_Rao\n",
      "Aaron_Ehasz\n",
      "Abd_Al_Munim_Al_Gilyani\n"
     ]
    }
   ],
   "source": [
    "uniqnames = list(set(names_repeated))\n",
    "uniqnames.sort()\n",
    "for i in uniqnames[:5]:\n",
    "    print(i)"
   ]
  },
  {
   "cell_type": "markdown",
   "metadata": {},
   "source": [
    "Puisque chaque nom est unique, je peux utiliser les noms comme clés pour un dictionnaire. La valeur qui y sera attribuée sera une liste des occupations."
   ]
  },
  {
   "cell_type": "code",
   "execution_count": 21,
   "metadata": {
    "execution": {
     "iopub.execute_input": "2023-06-11T22:05:41.351785Z",
     "iopub.status.busy": "2023-06-11T22:05:41.351482Z",
     "iopub.status.idle": "2023-06-11T22:05:41.360480Z",
     "shell.execute_reply": "2023-06-11T22:05:41.357739Z"
    }
   },
   "outputs": [],
   "source": [
    "d = {}\n",
    "for i in uniqnames:\n",
    "    d[i] = []"
   ]
  },
  {
   "cell_type": "markdown",
   "metadata": {},
   "source": [
    "Observer le dictionnaire avant d'y mettre les données."
   ]
  },
  {
   "cell_type": "code",
   "execution_count": 22,
   "metadata": {
    "execution": {
     "iopub.execute_input": "2023-06-11T22:05:41.371832Z",
     "iopub.status.busy": "2023-06-11T22:05:41.369985Z",
     "iopub.status.idle": "2023-06-11T22:05:41.386163Z",
     "shell.execute_reply": "2023-06-11T22:05:41.383148Z"
    }
   },
   "outputs": [
    {
     "name": "stdout",
     "output_type": "stream",
     "text": [
      "('A._C._Sreehari', [])\n",
      "('A._Dorian_Otvos', [])\n",
      "('A._N._Murthy_Rao', [])\n"
     ]
    }
   ],
   "source": [
    "for i in list(d.items())[:3]:\n",
    "    print(i)"
   ]
  },
  {
   "cell_type": "markdown",
   "metadata": {},
   "source": [
    "Iterate sur les éléments de la variable clean_pairs qui contient les paires person/occupation, et append la liste des occupations de la personne"
   ]
  },
  {
   "cell_type": "code",
   "execution_count": 23,
   "metadata": {
    "execution": {
     "iopub.execute_input": "2023-06-11T22:05:41.396686Z",
     "iopub.status.busy": "2023-06-11T22:05:41.395836Z",
     "iopub.status.idle": "2023-06-11T22:05:41.628658Z",
     "shell.execute_reply": "2023-06-11T22:05:41.627945Z"
    }
   },
   "outputs": [],
   "source": [
    "for name, occupation in uniqpairs:\n",
    "    if name in uniqnames:\n",
    "        d[name].append(occupation)"
   ]
  },
  {
   "cell_type": "markdown",
   "metadata": {},
   "source": [
    "Observer une partie du dictionnaire."
   ]
  },
  {
   "cell_type": "code",
   "execution_count": 24,
   "metadata": {
    "execution": {
     "iopub.execute_input": "2023-06-11T22:05:41.631799Z",
     "iopub.status.busy": "2023-06-11T22:05:41.631548Z",
     "iopub.status.idle": "2023-06-11T22:05:41.635659Z",
     "shell.execute_reply": "2023-06-11T22:05:41.634859Z"
    }
   },
   "outputs": [
    {
     "name": "stdout",
     "output_type": "stream",
     "text": [
      "('A._C._Sreehari', ['Lyricist', 'Writer', 'Poet', 'Teacher'])\n",
      "('A._Dorian_Otvos', ['Writer', 'Composer'])\n",
      "('A._N._Murthy_Rao', ['Professor', 'Writer'])\n"
     ]
    }
   ],
   "source": [
    "for i in list(d.items())[:3]:\n",
    "    print(i)"
   ]
  },
  {
   "cell_type": "markdown",
   "metadata": {},
   "source": [
    "L'occupation \"Writer\" est très présente C'est pour cela que j'ai fait des requêtes supplémentaires. Cela a permis d'ajouter un certain nombre d'entrées."
   ]
  },
  {
   "cell_type": "code",
   "execution_count": 25,
   "metadata": {
    "execution": {
     "iopub.execute_input": "2023-06-11T22:05:41.638959Z",
     "iopub.status.busy": "2023-06-11T22:05:41.638652Z",
     "iopub.status.idle": "2023-06-11T22:05:41.644369Z",
     "shell.execute_reply": "2023-06-11T22:05:41.643569Z"
    }
   },
   "outputs": [
    {
     "data": {
      "text/plain": [
       "600"
      ]
     },
     "execution_count": 25,
     "metadata": {},
     "output_type": "execute_result"
    }
   ],
   "source": [
    "len([i for i, j in list(d.items()) if \"Writer\" not in j])"
   ]
  },
  {
   "cell_type": "markdown",
   "metadata": {},
   "source": [
    "Mais la question se pose, tout de même, de l'intérêt ici de l'occupation \"Writer\" (qui est aussi, dans DBPedia, une méta-occupation). Je préfère la retirer, étant donné que les poète-sses, les romancier-ères, les dramaturges, sont aussi des écrivain-es."
   ]
  },
  {
   "cell_type": "code",
   "execution_count": 26,
   "metadata": {
    "execution": {
     "iopub.execute_input": "2023-06-11T22:05:41.647543Z",
     "iopub.status.busy": "2023-06-11T22:05:41.647207Z",
     "iopub.status.idle": "2023-06-11T22:05:41.658182Z",
     "shell.execute_reply": "2023-06-11T22:05:41.655174Z"
    }
   },
   "outputs": [
    {
     "data": {
      "text/plain": [
       "518"
      ]
     },
     "execution_count": 26,
     "metadata": {},
     "output_type": "execute_result"
    }
   ],
   "source": [
    "data_to_pop = [\n",
    "    i for i in list(d.keys()) if len(d[i]) < 3 and \"Writer\" in d[i]\n",
    "]\n",
    "len(data_to_pop)"
   ]
  },
  {
   "cell_type": "code",
   "execution_count": 27,
   "metadata": {
    "execution": {
     "iopub.execute_input": "2023-06-11T22:05:41.669303Z",
     "iopub.status.busy": "2023-06-11T22:05:41.668449Z",
     "iopub.status.idle": "2023-06-11T22:05:41.680097Z",
     "shell.execute_reply": "2023-06-11T22:05:41.677019Z"
    }
   },
   "outputs": [],
   "source": [
    "for i in data_to_pop:\n",
    "    d.pop(i)"
   ]
  },
  {
   "cell_type": "markdown",
   "metadata": {},
   "source": [
    "Le nombre d'entrées restantes dans le dictionnaires."
   ]
  },
  {
   "cell_type": "code",
   "execution_count": 28,
   "metadata": {
    "execution": {
     "iopub.execute_input": "2023-06-11T22:05:41.690858Z",
     "iopub.status.busy": "2023-06-11T22:05:41.689759Z",
     "iopub.status.idle": "2023-06-11T22:05:41.705345Z",
     "shell.execute_reply": "2023-06-11T22:05:41.702286Z"
    }
   },
   "outputs": [
    {
     "data": {
      "text/plain": [
       "1264"
      ]
     },
     "execution_count": 28,
     "metadata": {},
     "output_type": "execute_result"
    }
   ],
   "source": [
    "len(d)"
   ]
  },
  {
   "cell_type": "markdown",
   "metadata": {},
   "source": [
    "Il va désormais s'agir d'explorer les relations entre occupations en utilisant l'analyse de réseaux. Pour créer un réseau reliant les occupations les unes aux autres, il faut d'abord créer des relations entre occupations, des nouvelles paires occupation/occupation."
   ]
  },
  {
   "cell_type": "code",
   "execution_count": 29,
   "metadata": {
    "execution": {
     "iopub.execute_input": "2023-06-11T22:05:41.716252Z",
     "iopub.status.busy": "2023-06-11T22:05:41.715402Z",
     "iopub.status.idle": "2023-06-11T22:05:41.754291Z",
     "shell.execute_reply": "2023-06-11T22:05:41.751781Z"
    }
   },
   "outputs": [],
   "source": [
    "occ_pairs = []\n",
    "for name, occupations in d.items():\n",
    "    for occ_one in occupations:\n",
    "        a = occupations.copy()\n",
    "        a.remove(occ_one)\n",
    "        for occ_two in a:\n",
    "            p = (occ_one, occ_two)\n",
    "            occ_pairs.append(p)"
   ]
  },
  {
   "cell_type": "markdown",
   "metadata": {},
   "source": [
    "Certaines paires ont plusieurs occurences: quand deux occupations cohabitent chez plusieurs personnes."
   ]
  },
  {
   "cell_type": "code",
   "execution_count": 30,
   "metadata": {
    "execution": {
     "iopub.execute_input": "2023-06-11T22:05:41.764817Z",
     "iopub.status.busy": "2023-06-11T22:05:41.763956Z",
     "iopub.status.idle": "2023-06-11T22:05:41.785130Z",
     "shell.execute_reply": "2023-06-11T22:05:41.781897Z"
    }
   },
   "outputs": [
    {
     "data": {
      "text/plain": [
       "[('Biographer', 'Author'),\n",
       " ('Biographer', 'Screenwriter'),\n",
       " ('Author', 'Biographer'),\n",
       " ('Screenwriter', 'Biographer'),\n",
       " ('Biographer', 'Novelist'),\n",
       " ('Biographer', 'Activism'),\n",
       " ('Novelist', 'Biographer'),\n",
       " ('Activism', 'Biographer'),\n",
       " ('Biographer', 'Writer'),\n",
       " ('Biographer', 'Screenwriter')]"
      ]
     },
     "execution_count": 30,
     "metadata": {},
     "output_type": "execute_result"
    }
   ],
   "source": [
    "[i for i in occ_pairs if 'Biographer' in i][:10]"
   ]
  },
  {
   "cell_type": "markdown",
   "metadata": {},
   "source": [
    "Plutôt que d'avoir ainsi des doublons, on peut représenter le nombre d'occurences comme la force de la relation."
   ]
  },
  {
   "cell_type": "code",
   "execution_count": 31,
   "metadata": {
    "execution": {
     "iopub.execute_input": "2023-06-11T22:05:41.796005Z",
     "iopub.status.busy": "2023-06-11T22:05:41.795132Z",
     "iopub.status.idle": "2023-06-11T22:05:41.826870Z",
     "shell.execute_reply": "2023-06-11T22:05:41.823641Z"
    }
   },
   "outputs": [
    {
     "data": {
      "text/plain": [
       "[('Lyricist', 'Writer', 9),\n",
       " ('Lyricist', 'Poet', 7),\n",
       " ('Lyricist', 'Teacher', 1),\n",
       " ('Writer', 'Lyricist', 9),\n",
       " ('Writer', 'Poet', 118),\n",
       " ('Writer', 'Teacher', 15),\n",
       " ('Poet', 'Lyricist', 7),\n",
       " ('Poet', 'Writer', 118),\n",
       " ('Poet', 'Teacher', 6),\n",
       " ('Teacher', 'Lyricist', 1)]"
      ]
     },
     "execution_count": 31,
     "metadata": {},
     "output_type": "execute_result"
    }
   ],
   "source": [
    "c = Counter(occ_pairs)\n",
    "rel = [(i[0], i[1], j) for i, j in list(c.items())]\n",
    "rel[:10]"
   ]
  },
  {
   "cell_type": "code",
   "execution_count": 32,
   "metadata": {
    "execution": {
     "iopub.execute_input": "2023-06-11T22:05:41.838175Z",
     "iopub.status.busy": "2023-06-11T22:05:41.836243Z",
     "iopub.status.idle": "2023-06-11T22:05:41.848322Z",
     "shell.execute_reply": "2023-06-11T22:05:41.845843Z"
    }
   },
   "outputs": [],
   "source": [
    "G = nx.Graph()"
   ]
  },
  {
   "cell_type": "code",
   "execution_count": 33,
   "metadata": {
    "execution": {
     "iopub.execute_input": "2023-06-11T22:05:41.857989Z",
     "iopub.status.busy": "2023-06-11T22:05:41.857123Z",
     "iopub.status.idle": "2023-06-11T22:05:41.869752Z",
     "shell.execute_reply": "2023-06-11T22:05:41.866713Z"
    }
   },
   "outputs": [],
   "source": [
    "for relation in rel[:10]:\n",
    "    node1, node2, weight = relation\n",
    "    G.add_edge(node1, node2, weight=weight)"
   ]
  },
  {
   "cell_type": "markdown",
   "metadata": {},
   "source": [
    "Tracer le graphe"
   ]
  },
  {
   "cell_type": "code",
   "execution_count": 34,
   "metadata": {
    "execution": {
     "iopub.execute_input": "2023-06-11T22:05:41.880104Z",
     "iopub.status.busy": "2023-06-11T22:05:41.879243Z",
     "iopub.status.idle": "2023-06-11T22:05:41.908203Z",
     "shell.execute_reply": "2023-06-11T22:05:41.905123Z"
    }
   },
   "outputs": [],
   "source": [
    "pos = nx.spring_layout(G)  # Positions des nœuds"
   ]
  },
  {
   "cell_type": "markdown",
   "metadata": {},
   "source": [
    "Récupérer les poids des arêtes"
   ]
  },
  {
   "cell_type": "code",
   "execution_count": 35,
   "metadata": {
    "execution": {
     "iopub.execute_input": "2023-06-11T22:05:41.918928Z",
     "iopub.status.busy": "2023-06-11T22:05:41.917838Z",
     "iopub.status.idle": "2023-06-11T22:05:41.929106Z",
     "shell.execute_reply": "2023-06-11T22:05:41.926644Z"
    }
   },
   "outputs": [],
   "source": [
    "edge_weights = [relation[2] for relation in rel[:10]]"
   ]
  },
  {
   "cell_type": "markdown",
   "metadata": {},
   "source": [
    "Tracer les arêtes avec une épaisseur basée sur les poids"
   ]
  },
  {
   "cell_type": "code",
   "execution_count": 36,
   "metadata": {
    "execution": {
     "iopub.execute_input": "2023-06-11T22:05:41.939724Z",
     "iopub.status.busy": "2023-06-11T22:05:41.938860Z",
     "iopub.status.idle": "2023-06-11T22:05:42.298073Z",
     "shell.execute_reply": "2023-06-11T22:05:42.297311Z"
    }
   },
   "outputs": [
    {
     "data": {
      "text/plain": [
       "<matplotlib.collections.LineCollection at 0x7fbf927a64c0>"
      ]
     },
     "execution_count": 36,
     "metadata": {},
     "output_type": "execute_result"
    },
    {
     "data": {
      "image/png": "[encoded data removed]",
      "text/plain": [
       "<Figure size 640x480 with 1 Axes>"
      ]
     },
     "metadata": {},
     "output_type": "display_data"
    }
   ],
   "source": [
    "nx.draw_networkx_edges(G, pos, width=edge_weights, edge_color='gray')"
   ]
  },
  {
   "cell_type": "markdown",
   "metadata": {},
   "source": [
    "Tracer les nœuds et les étiquettes"
   ]
  },
  {
   "cell_type": "code",
   "execution_count": 37,
   "metadata": {
    "execution": {
     "iopub.execute_input": "2023-06-11T22:05:42.301219Z",
     "iopub.status.busy": "2023-06-11T22:05:42.300861Z",
     "iopub.status.idle": "2023-06-11T22:05:42.608774Z",
     "shell.execute_reply": "2023-06-11T22:05:42.607949Z"
    }
   },
   "outputs": [
    {
     "data": {
      "text/plain": [
       "{'Lyricist': Text(0.36195377756969693, -1.0, 'Lyricist'),\n",
       " 'Writer': Text(-0.08219312188462932, 0.04193246747234753, 'Writer'),\n",
       " 'Poet': Text(0.3722905141485911, 0.1514087672847748, 'Poet'),\n",
       " 'Teacher': Text(-0.6520511698336587, 0.8066587652428778, 'Teacher')}"
      ]
     },
     "execution_count": 37,
     "metadata": {},
     "output_type": "execute_result"
    },
    {
     "data": {
      "image/png": "[encoded data removed]",
      "text/plain": [
       "<Figure size 640x480 with 1 Axes>"
      ]
     },
     "metadata": {},
     "output_type": "display_data"
    }
   ],
   "source": [
    "nx.draw_networkx_nodes(G, pos, node_color='lightblue', node_size=800)\n",
    "nx.draw_networkx_labels(G, pos, font_size=12)"
   ]
  },
  {
   "cell_type": "markdown",
   "metadata": {},
   "source": [
    "Afficher le graphe"
   ]
  },
  {
   "cell_type": "code",
   "execution_count": 38,
   "metadata": {
    "execution": {
     "iopub.execute_input": "2023-06-11T22:05:42.611874Z",
     "iopub.status.busy": "2023-06-11T22:05:42.611625Z",
     "iopub.status.idle": "2023-06-11T22:05:42.656384Z",
     "shell.execute_reply": "2023-06-11T22:05:42.655319Z"
    }
   },
   "outputs": [
    {
     "data": {
      "image/png": "[encoded data removed]",
      "text/plain": [
       "<Figure size 640x480 with 1 Axes>"
      ]
     },
     "metadata": {},
     "output_type": "display_data"
    }
   ],
   "source": [
    "plt.axis('off')\n",
    "plt.show()"
   ]
  }
 ],
 "metadata": {
  "kernelspec": {
   "display_name": "Python 3",
   "language": "python",
   "name": "python3"
  },
  "language_info": {
   "codemirror_mode": {
    "name": "ipython",
    "version": 3
   },
   "file_extension": ".py",
   "mimetype": "text/x-python",
   "name": "python",
   "nbconvert_exporter": "python",
   "pygments_lexer": "ipython3",
   "version": "3.9.2"
  }
 },
 "nbformat": 4,
 "nbformat_minor": 2
}
