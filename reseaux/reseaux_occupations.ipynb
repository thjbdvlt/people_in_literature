{
 "cells": [
  {
   "cell_type": "markdown",
   "metadata": {},
   "source": [
    "\n",
    "<br>\n",
    "Observation des réseaux de relations entre les différentes occupations des écrivain-es.<br>\n"
   ]
  },
  {
   "cell_type": "code",
   "execution_count": 1,
   "metadata": {
    "execution": {
     "iopub.execute_input": "2023-06-11T22:10:54.914285Z",
     "iopub.status.busy": "2023-06-11T22:10:54.913153Z",
     "iopub.status.idle": "2023-06-11T22:10:55.501862Z",
     "shell.execute_reply": "2023-06-11T22:10:55.501103Z"
    }
   },
   "outputs": [],
   "source": [
    "from SPARQLWrapper import SPARQLWrapper, JSON\n",
    "from collections import Counter\n",
    "import networkx as nx\n",
    "import matplotlib.pyplot as plt"
   ]
  },
  {
   "cell_type": "markdown",
   "metadata": {},
   "source": [
    "L'adresse de DBPedia, où la requête doit être adressée."
   ]
  },
  {
   "cell_type": "code",
   "execution_count": 2,
   "metadata": {
    "execution": {
     "iopub.execute_input": "2023-06-11T22:10:55.505516Z",
     "iopub.status.busy": "2023-06-11T22:10:55.504872Z",
     "iopub.status.idle": "2023-06-11T22:10:55.508382Z",
     "shell.execute_reply": "2023-06-11T22:10:55.507690Z"
    }
   },
   "outputs": [],
   "source": [
    "sparql = SPARQLWrapper(\"http://dbpedia.org/sparql\")"
   ]
  },
  {
   "cell_type": "markdown",
   "metadata": {},
   "source": [
    "Le format du résultat de la requête. L'objet, en python, sera un dictionnaire."
   ]
  },
  {
   "cell_type": "code",
   "execution_count": 3,
   "metadata": {
    "execution": {
     "iopub.execute_input": "2023-06-11T22:10:55.511436Z",
     "iopub.status.busy": "2023-06-11T22:10:55.511138Z",
     "iopub.status.idle": "2023-06-11T22:10:55.514812Z",
     "shell.execute_reply": "2023-06-11T22:10:55.513814Z"
    }
   },
   "outputs": [],
   "source": [
    "sparql.setReturnFormat(JSON)"
   ]
  },
  {
   "cell_type": "markdown",
   "metadata": {},
   "source": [
    "La requête, qui trouve les Writers et leurs occupations."
   ]
  },
  {
   "cell_type": "code",
   "execution_count": 4,
   "metadata": {
    "execution": {
     "iopub.execute_input": "2023-06-11T22:10:55.522636Z",
     "iopub.status.busy": "2023-06-11T22:10:55.521811Z",
     "iopub.status.idle": "2023-06-11T22:10:55.530373Z",
     "shell.execute_reply": "2023-06-11T22:10:55.528528Z"
    }
   },
   "outputs": [],
   "source": [
    "sparql.setQuery(\n",
    "    \"PREFIX dbo: <http://dbpedia.org/ontology/>\\n\"\n",
    "    \"PREFIX dbr: <http://dbpedia.org/resource/>\\n\"\n",
    "    \"\\n\"\n",
    "    \"SELECT DISTINCT ?person ?occupation\\n\"\n",
    "    \"WHERE {\\n\"\n",
    "    \"    ?person ?a dbr:Writer ;\\n\"\n",
    "    \"            dbo:occupation ?occupation .\\n\"\n",
    "    \"}\\n\"\n",
    ")"
   ]
  },
  {
   "cell_type": "markdown",
   "metadata": {},
   "source": [
    "Envoyer la requête."
   ]
  },
  {
   "cell_type": "code",
   "execution_count": 5,
   "metadata": {
    "execution": {
     "iopub.execute_input": "2023-06-11T22:10:55.539657Z",
     "iopub.status.busy": "2023-06-11T22:10:55.538736Z",
     "iopub.status.idle": "2023-06-11T22:10:58.559796Z",
     "shell.execute_reply": "2023-06-11T22:10:58.558370Z"
    }
   },
   "outputs": [],
   "source": [
    "results = sparql.queryAndConvert()"
   ]
  },
  {
   "cell_type": "markdown",
   "metadata": {},
   "source": [
    "Aperçu de la structure de l'objet retourné. Le premier niveau du dictionnaire."
   ]
  },
  {
   "cell_type": "code",
   "execution_count": 6,
   "metadata": {
    "execution": {
     "iopub.execute_input": "2023-06-11T22:10:58.566633Z",
     "iopub.status.busy": "2023-06-11T22:10:58.565681Z",
     "iopub.status.idle": "2023-06-11T22:10:58.581306Z",
     "shell.execute_reply": "2023-06-11T22:10:58.578839Z"
    }
   },
   "outputs": [
    {
     "data": {
      "text/plain": [
       "dict_keys(['head', 'results'])"
      ]
     },
     "execution_count": 6,
     "metadata": {},
     "output_type": "execute_result"
    }
   ],
   "source": [
    "results.keys()"
   ]
  },
  {
   "cell_type": "markdown",
   "metadata": {},
   "source": [
    "L'entrée \"head\" (en-tête), qui décrit la structure des données."
   ]
  },
  {
   "cell_type": "code",
   "execution_count": 7,
   "metadata": {
    "execution": {
     "iopub.execute_input": "2023-06-11T22:10:58.703184Z",
     "iopub.status.busy": "2023-06-11T22:10:58.702166Z",
     "iopub.status.idle": "2023-06-11T22:10:58.709910Z",
     "shell.execute_reply": "2023-06-11T22:10:58.708797Z"
    }
   },
   "outputs": [
    {
     "data": {
      "text/plain": [
       "{'link': [], 'vars': ['person', 'occupation']}"
      ]
     },
     "execution_count": 7,
     "metadata": {},
     "output_type": "execute_result"
    }
   ],
   "source": [
    "results[\"head\"]"
   ]
  },
  {
   "cell_type": "markdown",
   "metadata": {},
   "source": [
    "L'entrée \"results\"."
   ]
  },
  {
   "cell_type": "code",
   "execution_count": 8,
   "metadata": {
    "execution": {
     "iopub.execute_input": "2023-06-11T22:10:58.720966Z",
     "iopub.status.busy": "2023-06-11T22:10:58.718969Z",
     "iopub.status.idle": "2023-06-11T22:10:58.738529Z",
     "shell.execute_reply": "2023-06-11T22:10:58.736050Z"
    }
   },
   "outputs": [
    {
     "name": "stdout",
     "output_type": "stream",
     "text": [
      "results[\"results\"][\"distinct\"]: <class 'bool'> False\n",
      "results[\"results\"][\"ordered\"]: <class 'bool'> True\n",
      "results[\"results\"][\"bindings\"]: <class 'list'> [{'person': {'type': 'uri', 'value': 'http://dbpedia.org/resource/Caiseal_Mór'}, 'occupation': {'type': 'uri', 'value': 'http://dbpedia.org/resource/Musician'}}, {'person': {'type': 'uri', 'value': 'http://dbpedia.org/resource/Caiseal_Mór'}, 'occupation': {'type': 'uri', 'value': 'http://dbpedia.org/resource/Artist'}}]\n"
     ]
    }
   ],
   "source": [
    "for i, j in results[\"results\"].items():\n",
    "    if type(j) == list:\n",
    "        print(f'results[\"results\"][\"{i}\"]:', type(j), j[:2])\n",
    "    elif type(j) == dict:\n",
    "        print(\n",
    "            f'results[\"results\"][\"{i}\"]:', type(j), list(j.keys())[:3]\n",
    "        )\n",
    "    else:\n",
    "        print(f'results[\"results\"][\"{i}\"]:', type(j), j)"
   ]
  },
  {
   "cell_type": "markdown",
   "metadata": {},
   "source": [
    "Seul ce qui se trouve dans ['results']['bindings'] m'intéresse. Je commence par construire un simple liste de tuples selon le schéma (person, occupation)."
   ]
  },
  {
   "cell_type": "code",
   "execution_count": 9,
   "metadata": {
    "execution": {
     "iopub.execute_input": "2023-06-11T22:10:58.748770Z",
     "iopub.status.busy": "2023-06-11T22:10:58.747890Z",
     "iopub.status.idle": "2023-06-11T22:10:58.776440Z",
     "shell.execute_reply": "2023-06-11T22:10:58.773360Z"
    }
   },
   "outputs": [
    {
     "data": {
      "text/plain": [
       "[('http://dbpedia.org/resource/Caiseal_Mór',\n",
       "  'http://dbpedia.org/resource/Musician'),\n",
       " ('http://dbpedia.org/resource/Caiseal_Mór',\n",
       "  'http://dbpedia.org/resource/Artist'),\n",
       " ('http://dbpedia.org/resource/Caiseal_Mór',\n",
       "  'http://dbpedia.org/resource/Writer')]"
      ]
     },
     "execution_count": 9,
     "metadata": {},
     "output_type": "execute_result"
    }
   ],
   "source": [
    "pairs = [\n",
    "    (i[\"person\"][\"value\"], i[\"occupation\"][\"value\"])\n",
    "    for i in results[\"results\"][\"bindings\"]\n",
    "]\n",
    "pairs[:3]"
   ]
  },
  {
   "cell_type": "markdown",
   "metadata": {},
   "source": [
    "Pour augmenter le nombre de données (la raison apparaitra plus bas, mais repose sur la limitation à 10000 résultats par requête auprès de dbpedia), je fais également des requêtes avec d'autres occupations que Writers."
   ]
  },
  {
   "cell_type": "code",
   "execution_count": 10,
   "metadata": {
    "execution": {
     "iopub.execute_input": "2023-06-11T22:10:58.787342Z",
     "iopub.status.busy": "2023-06-11T22:10:58.786426Z",
     "iopub.status.idle": "2023-06-11T22:11:03.278534Z",
     "shell.execute_reply": "2023-06-11T22:11:03.277790Z"
    }
   },
   "outputs": [],
   "source": [
    "queries = {}\n",
    "separated_results = {}\n",
    "pairs_supp = {}\n",
    "groups = [\"Novelist\", \"Poet\", \"Playwright\"]\n",
    "for i in groups:\n",
    "    queries[i] = SPARQLWrapper(\"http://dbpedia.org/sparql\")\n",
    "    queries[i].setReturnFormat(JSON)\n",
    "    queries[i].setQuery(\n",
    "        \"PREFIX dbo: <http://dbpedia.org/ontology/>\\n\"\n",
    "        \"PREFIX dbr: <http://dbpedia.org/resource/>\\n\"\n",
    "        \"\\n\"\n",
    "        \"SELECT DISTINCT ?person ?occupation\\n\"\n",
    "        \"WHERE {\\n\"\n",
    "        f\"    ?person ?a dbr:{i} ;\\n\"\n",
    "        \"            dbo:occupation ?occupation .\\n\"\n",
    "        \"}\\n\"\n",
    "    )\n",
    "    separated_results[i] = sparql.queryAndConvert()\n",
    "    pairs_supp[i] = [\n",
    "        (i[\"person\"][\"value\"], i[\"occupation\"][\"value\"])\n",
    "        for i in separated_results[i][\"results\"][\"bindings\"]\n",
    "    ]\n",
    "    pairs.extend(pairs_supp[i])"
   ]
  },
  {
   "cell_type": "markdown",
   "metadata": {},
   "source": [
    "J'enlève le début des URI, pour ne garder que les noms et les occupations."
   ]
  },
  {
   "cell_type": "code",
   "execution_count": 11,
   "metadata": {
    "execution": {
     "iopub.execute_input": "2023-06-11T22:11:03.288693Z",
     "iopub.status.busy": "2023-06-11T22:11:03.287648Z",
     "iopub.status.idle": "2023-06-11T22:11:03.397575Z",
     "shell.execute_reply": "2023-06-11T22:11:03.396182Z"
    }
   },
   "outputs": [
    {
     "data": {
      "text/plain": [
       "[('Caiseal_Mór', 'Musician'),\n",
       " ('Caiseal_Mór', 'Artist'),\n",
       " ('Caiseal_Mór', 'Writer')]"
      ]
     },
     "execution_count": 11,
     "metadata": {},
     "output_type": "execute_result"
    }
   ],
   "source": [
    "clean_pairs = [\n",
    "    (\n",
    "        i.replace(\"http://dbpedia.org/resource/\", \"\"),\n",
    "        j.replace(\"http://dbpedia.org/resource/\", \"\"),\n",
    "    )\n",
    "    for i, j in pairs\n",
    "]\n",
    "clean_pairs[:3]"
   ]
  },
  {
   "cell_type": "markdown",
   "metadata": {},
   "source": [
    "Certaines paires me sont inutiles, celles qui ont comme occupation \"[nom de la personne]_PersonFunction\"."
   ]
  },
  {
   "cell_type": "code",
   "execution_count": 12,
   "metadata": {
    "execution": {
     "iopub.execute_input": "2023-06-11T22:11:03.403231Z",
     "iopub.status.busy": "2023-06-11T22:11:03.402754Z",
     "iopub.status.idle": "2023-06-11T22:11:03.420864Z",
     "shell.execute_reply": "2023-06-11T22:11:03.417775Z"
    }
   },
   "outputs": [
    {
     "data": {
      "text/plain": [
       "[('Caitlin_Flanagan', 'Caitlin_Flanagan__PersonFunction__1'),\n",
       " ('Caleb_Garling', 'Caleb_Garling__PersonFunction__1'),\n",
       " ('Calla_Curman', 'Calla_Curman__PersonFunction__1'),\n",
       " ('Camille_Lemonnier', 'Camille_Lemonnier__PersonFunction__1'),\n",
       " ('Carl_Binder', 'Carl_Binder__PersonFunction__1')]"
      ]
     },
     "execution_count": 12,
     "metadata": {},
     "output_type": "execute_result"
    }
   ],
   "source": [
    "[i for i in clean_pairs if \"PersonFunction\" in i[1]][:5]"
   ]
  },
  {
   "cell_type": "markdown",
   "metadata": {},
   "source": [
    "Je construis donc une nouvelle liste sans ces paires."
   ]
  },
  {
   "cell_type": "code",
   "execution_count": 13,
   "metadata": {
    "execution": {
     "iopub.execute_input": "2023-06-11T22:11:03.432253Z",
     "iopub.status.busy": "2023-06-11T22:11:03.430659Z",
     "iopub.status.idle": "2023-06-11T22:11:03.458123Z",
     "shell.execute_reply": "2023-06-11T22:11:03.455743Z"
    }
   },
   "outputs": [
    {
     "data": {
      "text/plain": [
       "25692"
      ]
     },
     "execution_count": 13,
     "metadata": {},
     "output_type": "execute_result"
    }
   ],
   "source": [
    "non_trivial_pairs = [\n",
    "    i for i in clean_pairs if \"PersonFunction\" not in i[1]\n",
    "]\n",
    "len(non_trivial_pairs)"
   ]
  },
  {
   "cell_type": "markdown",
   "metadata": {},
   "source": [
    "Il y a des répétitions de paires, puisque les Novelist, les Poets, etc., sont souvent aussi catégorisé-es comme Writer. En fait, l'ajout des nouveaux groupes n'a peut-être pas été si utile. [À faire, peut-être: ajouter des occupations liées à la littérature mais plutôt, par exemple, du côté des éditeurices, des bibliothécaires, des critiques. Ou, à l'inverse, des artistes, des musicien-nes, pour voir si les activités annexes sont du même type, s'il y a des recoupements, etc.]"
   ]
  },
  {
   "cell_type": "code",
   "execution_count": 14,
   "metadata": {
    "execution": {
     "iopub.execute_input": "2023-06-11T22:11:03.468710Z",
     "iopub.status.busy": "2023-06-11T22:11:03.467804Z",
     "iopub.status.idle": "2023-06-11T22:11:03.501043Z",
     "shell.execute_reply": "2023-06-11T22:11:03.498004Z"
    }
   },
   "outputs": [
    {
     "data": {
      "text/plain": [
       "6423"
      ]
     },
     "execution_count": 14,
     "metadata": {},
     "output_type": "execute_result"
    }
   ],
   "source": [
    "uniqpairs = list(set(non_trivial_pairs))\n",
    "len(uniqpairs)"
   ]
  },
  {
   "cell_type": "markdown",
   "metadata": {},
   "source": [
    "Puisque ce sont les interactions entre occupations qui m'intéresse, je ne vais garder que les données qui concernent les personnes avec au moins deux entrées. Je commence par faire une liste des noms."
   ]
  },
  {
   "cell_type": "code",
   "execution_count": 15,
   "metadata": {
    "execution": {
     "iopub.execute_input": "2023-06-11T22:11:03.512360Z",
     "iopub.status.busy": "2023-06-11T22:11:03.511452Z",
     "iopub.status.idle": "2023-06-11T22:11:03.532610Z",
     "shell.execute_reply": "2023-06-11T22:11:03.529729Z"
    }
   },
   "outputs": [
    {
     "data": {
      "text/plain": [
       "['Jan_Coffey', 'Aleš_Šteger', 'Mark_Osborne_(filmmaker)']"
      ]
     },
     "execution_count": 15,
     "metadata": {},
     "output_type": "execute_result"
    }
   ],
   "source": [
    "names = [i for i, j in uniqpairs]\n",
    "names[:3]"
   ]
  },
  {
   "cell_type": "code",
   "execution_count": 16,
   "metadata": {
    "execution": {
     "iopub.execute_input": "2023-06-11T22:11:03.543058Z",
     "iopub.status.busy": "2023-06-11T22:11:03.542085Z",
     "iopub.status.idle": "2023-06-11T22:11:04.367958Z",
     "shell.execute_reply": "2023-06-11T22:11:04.367248Z"
    }
   },
   "outputs": [],
   "source": [
    "names_repeated = [i for i in names if names.count(i) > 1]"
   ]
  },
  {
   "cell_type": "markdown",
   "metadata": {},
   "source": [
    "Le nombre total d'occurences de noms."
   ]
  },
  {
   "cell_type": "code",
   "execution_count": 17,
   "metadata": {
    "execution": {
     "iopub.execute_input": "2023-06-11T22:11:04.371054Z",
     "iopub.status.busy": "2023-06-11T22:11:04.370801Z",
     "iopub.status.idle": "2023-06-11T22:11:04.375253Z",
     "shell.execute_reply": "2023-06-11T22:11:04.374567Z"
    }
   },
   "outputs": [
    {
     "data": {
      "text/plain": [
       "6423"
      ]
     },
     "execution_count": 17,
     "metadata": {},
     "output_type": "execute_result"
    }
   ],
   "source": [
    "len(names)"
   ]
  },
  {
   "cell_type": "markdown",
   "metadata": {},
   "source": [
    "Le nombre d'occurences de noms qui apparaissent plusieurs fois."
   ]
  },
  {
   "cell_type": "code",
   "execution_count": 18,
   "metadata": {
    "execution": {
     "iopub.execute_input": "2023-06-11T22:11:04.378178Z",
     "iopub.status.busy": "2023-06-11T22:11:04.377885Z",
     "iopub.status.idle": "2023-06-11T22:11:04.382756Z",
     "shell.execute_reply": "2023-06-11T22:11:04.382029Z"
    }
   },
   "outputs": [
    {
     "data": {
      "text/plain": [
       "5021"
      ]
     },
     "execution_count": 18,
     "metadata": {},
     "output_type": "execute_result"
    }
   ],
   "source": [
    "len(names_repeated)"
   ]
  },
  {
   "cell_type": "markdown",
   "metadata": {},
   "source": [
    "Le nombre de noms qui apparaissent plusieurs fois. (Les données sont plus minces que ce que je pouvais espérer et il faudrait probablement opter pour une autre manière d'interroger DBPedia.)"
   ]
  },
  {
   "cell_type": "code",
   "execution_count": 19,
   "metadata": {
    "execution": {
     "iopub.execute_input": "2023-06-11T22:11:04.385853Z",
     "iopub.status.busy": "2023-06-11T22:11:04.385536Z",
     "iopub.status.idle": "2023-06-11T22:11:04.391461Z",
     "shell.execute_reply": "2023-06-11T22:11:04.390630Z"
    }
   },
   "outputs": [
    {
     "data": {
      "text/plain": [
       "1782"
      ]
     },
     "execution_count": 19,
     "metadata": {},
     "output_type": "execute_result"
    }
   ],
   "source": [
    "len(set(names_repeated))"
   ]
  },
  {
   "cell_type": "markdown",
   "metadata": {},
   "source": [
    "Les premiers noms."
   ]
  },
  {
   "cell_type": "code",
   "execution_count": 20,
   "metadata": {
    "execution": {
     "iopub.execute_input": "2023-06-11T22:11:04.394592Z",
     "iopub.status.busy": "2023-06-11T22:11:04.394243Z",
     "iopub.status.idle": "2023-06-11T22:11:04.404799Z",
     "shell.execute_reply": "2023-06-11T22:11:04.402236Z"
    }
   },
   "outputs": [
    {
     "name": "stdout",
     "output_type": "stream",
     "text": [
      "A._C._Sreehari\n",
      "A._Dorian_Otvos\n",
      "A._N._Murthy_Rao\n",
      "Aaron_Ehasz\n",
      "Abd_Al_Munim_Al_Gilyani\n"
     ]
    }
   ],
   "source": [
    "uniqnames = list(set(names_repeated))\n",
    "uniqnames.sort()\n",
    "for i in uniqnames[:5]:\n",
    "    print(i)"
   ]
  },
  {
   "cell_type": "markdown",
   "metadata": {},
   "source": [
    "Puisque chaque nom est unique, je peux utiliser les noms comme clés pour un dictionnaire. La valeur qui y sera attribuée sera une liste des occupations."
   ]
  },
  {
   "cell_type": "code",
   "execution_count": 21,
   "metadata": {
    "execution": {
     "iopub.execute_input": "2023-06-11T22:11:04.415290Z",
     "iopub.status.busy": "2023-06-11T22:11:04.414144Z",
     "iopub.status.idle": "2023-06-11T22:11:04.433022Z",
     "shell.execute_reply": "2023-06-11T22:11:04.430356Z"
    }
   },
   "outputs": [],
   "source": [
    "d = {}\n",
    "for i in uniqnames:\n",
    "    d[i] = []"
   ]
  },
  {
   "cell_type": "markdown",
   "metadata": {},
   "source": [
    "Observer le dictionnaire avant d'y mettre les données."
   ]
  },
  {
   "cell_type": "code",
   "execution_count": 22,
   "metadata": {
    "execution": {
     "iopub.execute_input": "2023-06-11T22:11:04.443439Z",
     "iopub.status.busy": "2023-06-11T22:11:04.442515Z",
     "iopub.status.idle": "2023-06-11T22:11:04.458085Z",
     "shell.execute_reply": "2023-06-11T22:11:04.454898Z"
    }
   },
   "outputs": [
    {
     "name": "stdout",
     "output_type": "stream",
     "text": [
      "('A._C._Sreehari', [])\n",
      "('A._Dorian_Otvos', [])\n",
      "('A._N._Murthy_Rao', [])\n"
     ]
    }
   ],
   "source": [
    "for i in list(d.items())[:3]:\n",
    "    print(i)"
   ]
  },
  {
   "cell_type": "markdown",
   "metadata": {},
   "source": [
    "Iterate sur les éléments de la variable clean_pairs qui contient les paires person/occupation, et append la liste des occupations de la personne"
   ]
  },
  {
   "cell_type": "code",
   "execution_count": 23,
   "metadata": {
    "execution": {
     "iopub.execute_input": "2023-06-11T22:11:04.469385Z",
     "iopub.status.busy": "2023-06-11T22:11:04.468242Z",
     "iopub.status.idle": "2023-06-11T22:11:04.659149Z",
     "shell.execute_reply": "2023-06-11T22:11:04.658406Z"
    }
   },
   "outputs": [],
   "source": [
    "for name, occupation in uniqpairs:\n",
    "    if name in uniqnames:\n",
    "        d[name].append(occupation)"
   ]
  },
  {
   "cell_type": "markdown",
   "metadata": {},
   "source": [
    "Observer une partie du dictionnaire."
   ]
  },
  {
   "cell_type": "code",
   "execution_count": 24,
   "metadata": {
    "execution": {
     "iopub.execute_input": "2023-06-11T22:11:04.662521Z",
     "iopub.status.busy": "2023-06-11T22:11:04.662213Z",
     "iopub.status.idle": "2023-06-11T22:11:04.666574Z",
     "shell.execute_reply": "2023-06-11T22:11:04.665902Z"
    }
   },
   "outputs": [
    {
     "name": "stdout",
     "output_type": "stream",
     "text": [
      "('A._C._Sreehari', ['Poet', 'Teacher', 'Lyricist', 'Writer'])\n",
      "('A._Dorian_Otvos', ['Composer', 'Writer'])\n",
      "('A._N._Murthy_Rao', ['Professor', 'Writer'])\n"
     ]
    }
   ],
   "source": [
    "for i in list(d.items())[:3]:\n",
    "    print(i)"
   ]
  },
  {
   "cell_type": "markdown",
   "metadata": {},
   "source": [
    "L'occupation \"Writer\" est très présente C'est pour cela que j'ai fait des requêtes supplémentaires. Cela a permis d'ajouter un certain nombre d'entrées."
   ]
  },
  {
   "cell_type": "code",
   "execution_count": 25,
   "metadata": {
    "execution": {
     "iopub.execute_input": "2023-06-11T22:11:04.669518Z",
     "iopub.status.busy": "2023-06-11T22:11:04.669223Z",
     "iopub.status.idle": "2023-06-11T22:11:04.674639Z",
     "shell.execute_reply": "2023-06-11T22:11:04.673913Z"
    }
   },
   "outputs": [
    {
     "data": {
      "text/plain": [
       "600"
      ]
     },
     "execution_count": 25,
     "metadata": {},
     "output_type": "execute_result"
    }
   ],
   "source": [
    "len([i for i, j in list(d.items()) if \"Writer\" not in j])"
   ]
  },
  {
   "cell_type": "markdown",
   "metadata": {},
   "source": [
    "Mais la question se pose, tout de même, de l'intérêt ici de l'occupation \"Writer\" (qui est aussi, dans DBPedia, une méta-occupation). Je préfère la retirer, étant donné que les poète-sses, les romancier-ères, les dramaturges, sont aussi des écrivain-es."
   ]
  },
  {
   "cell_type": "code",
   "execution_count": 26,
   "metadata": {
    "execution": {
     "iopub.execute_input": "2023-06-11T22:11:04.677794Z",
     "iopub.status.busy": "2023-06-11T22:11:04.677505Z",
     "iopub.status.idle": "2023-06-11T22:11:04.683489Z",
     "shell.execute_reply": "2023-06-11T22:11:04.682747Z"
    }
   },
   "outputs": [
    {
     "data": {
      "text/plain": [
       "518"
      ]
     },
     "execution_count": 26,
     "metadata": {},
     "output_type": "execute_result"
    }
   ],
   "source": [
    "data_to_pop = [\n",
    "    i for i in list(d.keys()) if len(d[i]) < 3 and \"Writer\" in d[i]\n",
    "]\n",
    "len(data_to_pop)"
   ]
  },
  {
   "cell_type": "code",
   "execution_count": 27,
   "metadata": {
    "execution": {
     "iopub.execute_input": "2023-06-11T22:11:04.692540Z",
     "iopub.status.busy": "2023-06-11T22:11:04.691624Z",
     "iopub.status.idle": "2023-06-11T22:11:04.703515Z",
     "shell.execute_reply": "2023-06-11T22:11:04.700651Z"
    }
   },
   "outputs": [],
   "source": [
    "for i in data_to_pop:\n",
    "    d.pop(i)"
   ]
  },
  {
   "cell_type": "markdown",
   "metadata": {},
   "source": [
    "Le nombre d'entrées restantes dans le dictionnaires."
   ]
  },
  {
   "cell_type": "code",
   "execution_count": 28,
   "metadata": {
    "execution": {
     "iopub.execute_input": "2023-06-11T22:11:04.714435Z",
     "iopub.status.busy": "2023-06-11T22:11:04.713434Z",
     "iopub.status.idle": "2023-06-11T22:11:04.730578Z",
     "shell.execute_reply": "2023-06-11T22:11:04.727345Z"
    }
   },
   "outputs": [
    {
     "data": {
      "text/plain": [
       "1264"
      ]
     },
     "execution_count": 28,
     "metadata": {},
     "output_type": "execute_result"
    }
   ],
   "source": [
    "len(d)"
   ]
  },
  {
   "cell_type": "markdown",
   "metadata": {},
   "source": [
    "Il va désormais s'agir d'explorer les relations entre occupations en utilisant l'analyse de réseaux. Pour créer un réseau reliant les occupations les unes aux autres, il faut d'abord créer des relations entre occupations, des nouvelles paires occupation/occupation."
   ]
  },
  {
   "cell_type": "code",
   "execution_count": 29,
   "metadata": {
    "execution": {
     "iopub.execute_input": "2023-06-11T22:11:04.741735Z",
     "iopub.status.busy": "2023-06-11T22:11:04.740640Z",
     "iopub.status.idle": "2023-06-11T22:11:04.774749Z",
     "shell.execute_reply": "2023-06-11T22:11:04.772048Z"
    }
   },
   "outputs": [],
   "source": [
    "occ_pairs = []\n",
    "for name, occupations in d.items():\n",
    "    for occ_one in occupations:\n",
    "        a = occupations.copy()\n",
    "        a.remove(occ_one)\n",
    "        for occ_two in a:\n",
    "            p = (occ_one, occ_two)\n",
    "            occ_pairs.append(p)"
   ]
  },
  {
   "cell_type": "markdown",
   "metadata": {},
   "source": [
    "Certaines paires ont plusieurs occurences: quand deux occupations cohabitent chez plusieurs personnes."
   ]
  },
  {
   "cell_type": "code",
   "execution_count": 30,
   "metadata": {
    "execution": {
     "iopub.execute_input": "2023-06-11T22:11:04.785223Z",
     "iopub.status.busy": "2023-06-11T22:11:04.784354Z",
     "iopub.status.idle": "2023-06-11T22:11:04.804842Z",
     "shell.execute_reply": "2023-06-11T22:11:04.801744Z"
    }
   },
   "outputs": [
    {
     "data": {
      "text/plain": [
       "[('Biographer', 'Author'),\n",
       " ('Biographer', 'Screenwriter'),\n",
       " ('Author', 'Biographer'),\n",
       " ('Screenwriter', 'Biographer'),\n",
       " ('Biographer', 'Novelist'),\n",
       " ('Biographer', 'Activism'),\n",
       " ('Novelist', 'Biographer'),\n",
       " ('Activism', 'Biographer'),\n",
       " ('Biographer', 'Writer'),\n",
       " ('Biographer', 'Screenwriter')]"
      ]
     },
     "execution_count": 30,
     "metadata": {},
     "output_type": "execute_result"
    }
   ],
   "source": [
    "[i for i in occ_pairs if 'Biographer' in i][:10]"
   ]
  },
  {
   "cell_type": "markdown",
   "metadata": {},
   "source": [
    "Plutôt que d'avoir ainsi des doublons, on peut représenter le nombre d'occurences comme la force de la relation."
   ]
  },
  {
   "cell_type": "code",
   "execution_count": 31,
   "metadata": {
    "execution": {
     "iopub.execute_input": "2023-06-11T22:11:04.815762Z",
     "iopub.status.busy": "2023-06-11T22:11:04.814862Z",
     "iopub.status.idle": "2023-06-11T22:11:04.846755Z",
     "shell.execute_reply": "2023-06-11T22:11:04.843601Z"
    }
   },
   "outputs": [
    {
     "data": {
      "text/plain": [
       "[('Poet', 'Teacher', 6),\n",
       " ('Poet', 'Lyricist', 7),\n",
       " ('Poet', 'Writer', 118),\n",
       " ('Teacher', 'Poet', 6),\n",
       " ('Teacher', 'Lyricist', 1),\n",
       " ('Teacher', 'Writer', 15),\n",
       " ('Lyricist', 'Poet', 7),\n",
       " ('Lyricist', 'Teacher', 1),\n",
       " ('Lyricist', 'Writer', 9),\n",
       " ('Writer', 'Poet', 118)]"
      ]
     },
     "execution_count": 31,
     "metadata": {},
     "output_type": "execute_result"
    }
   ],
   "source": [
    "c = Counter(occ_pairs)\n",
    "relations = [(i[0], i[1], j) for i, j in list(c.items())]\n",
    "relations[:10]"
   ]
  },
  {
   "cell_type": "markdown",
   "metadata": {},
   "source": [
    "Créer un graphe avec ces relations."
   ]
  },
  {
   "cell_type": "code",
   "execution_count": 32,
   "metadata": {
    "execution": {
     "iopub.execute_input": "2023-06-11T22:11:04.858059Z",
     "iopub.status.busy": "2023-06-11T22:11:04.857211Z",
     "iopub.status.idle": "2023-06-11T22:11:04.896168Z",
     "shell.execute_reply": "2023-06-11T22:11:04.893687Z"
    }
   },
   "outputs": [],
   "source": [
    "G = nx.Graph()\n",
    "for relation in relations:\n",
    "    node1, node2, weight = relation\n",
    "    G.add_edge(node1, node2, weight=weight)"
   ]
  },
  {
   "cell_type": "markdown",
   "metadata": {},
   "source": [
    "Hélas, il est déjà minuit: délai pour poster ce carnet (que je continue donc sur un autre fichier pendant la suite de la nuit)."
   ]
  }
 ],
 "metadata": {
  "kernelspec": {
   "display_name": "Python 3",
   "language": "python",
   "name": "python3"
  },
  "language_info": {
   "codemirror_mode": {
    "name": "ipython",
    "version": 3
   },
   "file_extension": ".py",
   "mimetype": "text/x-python",
   "name": "python",
   "nbconvert_exporter": "python",
   "pygments_lexer": "ipython3",
   "version": "3.9.2"
  }
 },
 "nbformat": 4,
 "nbformat_minor": 2
}
