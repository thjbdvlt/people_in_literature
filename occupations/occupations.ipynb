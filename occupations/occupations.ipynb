{
 "cells": [
  {
   "cell_type": "markdown",
   "metadata": {},
   "source": [
    "\n",
    "<br>\n",
    "Observation des relations entre les différentes occupations des écrivain-es.<br>\n"
   ]
  },
  {
   "cell_type": "code",
   "execution_count": 1,
   "metadata": {
    "execution": {
     "iopub.execute_input": "2023-06-11T18:27:04.347545Z",
     "iopub.status.busy": "2023-06-11T18:27:04.345647Z",
     "iopub.status.idle": "2023-06-11T18:27:04.684394Z",
     "shell.execute_reply": "2023-06-11T18:27:04.683689Z"
    }
   },
   "outputs": [],
   "source": [
    "import sparql_dataframe\n",
    "import pandas\n",
    "import re"
   ]
  },
  {
   "cell_type": "markdown",
   "metadata": {},
   "source": [
    "L'adresse de DBPedia, où la requête doit être adressée."
   ]
  },
  {
   "cell_type": "code",
   "execution_count": 2,
   "metadata": {
    "execution": {
     "iopub.execute_input": "2023-06-11T18:27:04.687626Z",
     "iopub.status.busy": "2023-06-11T18:27:04.687320Z",
     "iopub.status.idle": "2023-06-11T18:27:04.690687Z",
     "shell.execute_reply": "2023-06-11T18:27:04.690009Z"
    }
   },
   "outputs": [],
   "source": [
    "dbpedia = \"http://dbpedia.org/sparql\""
   ]
  },
  {
   "cell_type": "markdown",
   "metadata": {},
   "source": [
    "Les requêtes SPARQL. Je sépare en plusieurs requêtes afin de pouvoir avoir plus que 10'000 résultats. Les requêtes portent sur les occupations des personnes ayant une des occupations suivantes: Novelist, Poet, Dramatist, Writers."
   ]
  },
  {
   "cell_type": "code",
   "execution_count": 3,
   "metadata": {
    "execution": {
     "iopub.execute_input": "2023-06-11T18:27:04.693558Z",
     "iopub.status.busy": "2023-06-11T18:27:04.693308Z",
     "iopub.status.idle": "2023-06-11T18:27:09.819788Z",
     "shell.execute_reply": "2023-06-11T18:27:09.819066Z"
    }
   },
   "outputs": [
    {
     "name": "stdout",
     "output_type": "stream",
     "text": [
      "Writer : 10000\n",
      "Novelist : 5976\n",
      "Poet : 8452\n",
      "Playwright : 5021\n"
     ]
    }
   ],
   "source": [
    "queries = {}\n",
    "dataframe = {}\n",
    "writing_group = [\"Writer\", \"Novelist\", \"Poet\", \"Playwright\"]\n",
    "for i in writing_group:\n",
    "    queries[i] = (\n",
    "        \"PREFIX dbo: <http://dbpedia.org/ontology/>\\n\"\n",
    "        \"PREFIX dbr: <http://dbpedia.org/resource/>\\n\"\n",
    "        \"\\n\"\n",
    "        \"SELECT DISTINCT ?person ?occupation\\n\"\n",
    "        \"WHERE {\\n\"\n",
    "        f\"    ?person ?a dbr:{i} ;\\n\"\n",
    "        \"            dbo:occupation ?occupation .\\n\"\n",
    "        \"}\\n\"\n",
    "    )\n",
    "    dataframe[i] = sparql_dataframe.get(dbpedia, queries[i])\n",
    "    dataframe[i][\"Group\"] = i\n",
    "    print(i, \":\", len(dataframe[i]))"
   ]
  },
  {
   "cell_type": "markdown",
   "metadata": {},
   "source": [
    "Assembler (concaténer) les dataframes en un seul dataframe."
   ]
  },
  {
   "cell_type": "code",
   "execution_count": 4,
   "metadata": {
    "execution": {
     "iopub.execute_input": "2023-06-11T18:27:09.822940Z",
     "iopub.status.busy": "2023-06-11T18:27:09.822649Z",
     "iopub.status.idle": "2023-06-11T18:27:09.838128Z",
     "shell.execute_reply": "2023-06-11T18:27:09.836163Z"
    }
   },
   "outputs": [
    {
     "name": "stdout",
     "output_type": "stream",
     "text": [
      "<class 'pandas.core.frame.DataFrame'>\n",
      "Index: 29449 entries, 0 to 5020\n",
      "Data columns (total 3 columns):\n",
      " #   Column      Non-Null Count  Dtype \n",
      "---  ------      --------------  ----- \n",
      " 0   person      29449 non-null  object\n",
      " 1   occupation  29449 non-null  object\n",
      " 2   Group       29449 non-null  object\n",
      "dtypes: object(3)\n",
      "memory usage: 920.3+ KB\n"
     ]
    }
   ],
   "source": [
    "df = pandas.concat(dataframe.values())\n",
    "df.info()"
   ]
  },
  {
   "cell_type": "markdown",
   "metadata": {},
   "source": [
    "Je simplifie les URIs en noms (en enlevant le début)."
   ]
  },
  {
   "cell_type": "code",
   "execution_count": 5,
   "metadata": {
    "execution": {
     "iopub.execute_input": "2023-06-11T18:27:09.848259Z",
     "iopub.status.busy": "2023-06-11T18:27:09.847386Z",
     "iopub.status.idle": "2023-06-11T18:27:10.348407Z",
     "shell.execute_reply": "2023-06-11T18:27:10.345944Z"
    }
   },
   "outputs": [
    {
     "data": {
      "text/plain": [
       "29449"
      ]
     },
     "execution_count": 5,
     "metadata": {},
     "output_type": "execute_result"
    }
   ],
   "source": [
    "df.replace(\n",
    "    r\"http://dbpedia\\.org/(?:resource|ontology)/(.*)\",\n",
    "    \"\\\\1\",\n",
    "    regex=True,\n",
    "    inplace=True,\n",
    ")\n",
    "len(df)"
   ]
  },
  {
   "cell_type": "markdown",
   "metadata": {},
   "source": [
    "Comme on peut le voir en observant le début du tableau, une ligne ne correspond pas à une personne, mais à une occupation. Puisque ce qui va m'intéresser ici consiste dans la multiplication des activités, (par exemple poet + translater + musician) je ne vais chercher à réduire ces lignes à des personnes, et travaillerai sur des relations occupation-occupation."
   ]
  },
  {
   "cell_type": "code",
   "execution_count": 6,
   "metadata": {
    "execution": {
     "iopub.execute_input": "2023-06-11T18:27:10.359427Z",
     "iopub.status.busy": "2023-06-11T18:27:10.358569Z",
     "iopub.status.idle": "2023-06-11T18:27:10.391273Z",
     "shell.execute_reply": "2023-06-11T18:27:10.388295Z"
    }
   },
   "outputs": [
    {
     "data": {
      "text/html": [
       "<div>\n",
       "<style scoped>\n",
       "    .dataframe tbody tr th:only-of-type {\n",
       "        vertical-align: middle;\n",
       "    }\n",
       "\n",
       "    .dataframe tbody tr th {\n",
       "        vertical-align: top;\n",
       "    }\n",
       "\n",
       "    .dataframe thead th {\n",
       "        text-align: right;\n",
       "    }\n",
       "</style>\n",
       "<table border=\"1\" class=\"dataframe\">\n",
       "  <thead>\n",
       "    <tr style=\"text-align: right;\">\n",
       "      <th></th>\n",
       "      <th>person</th>\n",
       "      <th>occupation</th>\n",
       "      <th>Group</th>\n",
       "    </tr>\n",
       "  </thead>\n",
       "  <tbody>\n",
       "    <tr>\n",
       "      <th>0</th>\n",
       "      <td>Caiseal_Mór</td>\n",
       "      <td>Musician</td>\n",
       "      <td>Writer</td>\n",
       "    </tr>\n",
       "    <tr>\n",
       "      <th>1</th>\n",
       "      <td>Caiseal_Mór</td>\n",
       "      <td>Artist</td>\n",
       "      <td>Writer</td>\n",
       "    </tr>\n",
       "    <tr>\n",
       "      <th>2</th>\n",
       "      <td>Caiseal_Mór</td>\n",
       "      <td>Writer</td>\n",
       "      <td>Writer</td>\n",
       "    </tr>\n",
       "    <tr>\n",
       "      <th>3</th>\n",
       "      <td>Caitlin_Flanagan</td>\n",
       "      <td>Caitlin_Flanagan__PersonFunction__1</td>\n",
       "      <td>Writer</td>\n",
       "    </tr>\n",
       "    <tr>\n",
       "      <th>4</th>\n",
       "      <td>Caitlin_Flanagan</td>\n",
       "      <td>Writer</td>\n",
       "      <td>Writer</td>\n",
       "    </tr>\n",
       "  </tbody>\n",
       "</table>\n",
       "</div>"
      ],
      "text/plain": [
       "             person                           occupation   Group\n",
       "0       Caiseal_Mór                             Musician  Writer\n",
       "1       Caiseal_Mór                               Artist  Writer\n",
       "2       Caiseal_Mór                               Writer  Writer\n",
       "3  Caitlin_Flanagan  Caitlin_Flanagan__PersonFunction__1  Writer\n",
       "4  Caitlin_Flanagan                               Writer  Writer"
      ]
     },
     "execution_count": 6,
     "metadata": {},
     "output_type": "execute_result"
    }
   ],
   "source": [
    "df.head()"
   ]
  },
  {
   "cell_type": "markdown",
   "metadata": {},
   "source": [
    "Le tableau contient de nombreuses lignes dont la valeur de la colonne \"occupation\" est en fait le nom de la personne associé à la mention \"PersonFunction\"."
   ]
  },
  {
   "cell_type": "code",
   "execution_count": 7,
   "metadata": {
    "execution": {
     "iopub.execute_input": "2023-06-11T18:27:10.401799Z",
     "iopub.status.busy": "2023-06-11T18:27:10.400917Z",
     "iopub.status.idle": "2023-06-11T18:27:10.472396Z",
     "shell.execute_reply": "2023-06-11T18:27:10.469192Z"
    }
   },
   "outputs": [
    {
     "data": {
      "text/html": [
       "<div>\n",
       "<style scoped>\n",
       "    .dataframe tbody tr th:only-of-type {\n",
       "        vertical-align: middle;\n",
       "    }\n",
       "\n",
       "    .dataframe tbody tr th {\n",
       "        vertical-align: top;\n",
       "    }\n",
       "\n",
       "    .dataframe thead th {\n",
       "        text-align: right;\n",
       "    }\n",
       "</style>\n",
       "<table border=\"1\" class=\"dataframe\">\n",
       "  <thead>\n",
       "    <tr style=\"text-align: right;\">\n",
       "      <th></th>\n",
       "      <th>person</th>\n",
       "      <th>occupation</th>\n",
       "      <th>Group</th>\n",
       "    </tr>\n",
       "  </thead>\n",
       "  <tbody>\n",
       "    <tr>\n",
       "      <th>3</th>\n",
       "      <td>Caitlin_Flanagan</td>\n",
       "      <td>Caitlin_Flanagan__PersonFunction__1</td>\n",
       "      <td>Writer</td>\n",
       "    </tr>\n",
       "    <tr>\n",
       "      <th>10</th>\n",
       "      <td>Carl_Washington</td>\n",
       "      <td>Carl_Washington__PersonFunction__1</td>\n",
       "      <td>Writer</td>\n",
       "    </tr>\n",
       "    <tr>\n",
       "      <th>18</th>\n",
       "      <td>Carlo_Mattogno</td>\n",
       "      <td>Carlo_Mattogno__PersonFunction__1</td>\n",
       "      <td>Writer</td>\n",
       "    </tr>\n",
       "    <tr>\n",
       "      <th>21</th>\n",
       "      <td>Carlos_Alberto_Montaner</td>\n",
       "      <td>Carlos_Alberto_Montaner__PersonFunction__1</td>\n",
       "      <td>Writer</td>\n",
       "    </tr>\n",
       "    <tr>\n",
       "      <th>25</th>\n",
       "      <td>Carlos_Francisco_Chang_Marín</td>\n",
       "      <td>Carlos_Francisco_Chang_Marín__PersonFunction__1</td>\n",
       "      <td>Writer</td>\n",
       "    </tr>\n",
       "    <tr>\n",
       "      <th>...</th>\n",
       "      <td>...</td>\n",
       "      <td>...</td>\n",
       "      <td>...</td>\n",
       "    </tr>\n",
       "    <tr>\n",
       "      <th>4988</th>\n",
       "      <td>Ted_Hamilton__OAM__1</td>\n",
       "      <td>Ted_Hamilton__OAM__1__PersonFunction__1</td>\n",
       "      <td>Playwright</td>\n",
       "    </tr>\n",
       "    <tr>\n",
       "      <th>4999</th>\n",
       "      <td>Andrew_Nicholls_and_Darrell_Vickers__Darrell_V...</td>\n",
       "      <td>Andrew_Nicholls_and_Darrell_Vickers__Darrell_V...</td>\n",
       "      <td>Playwright</td>\n",
       "    </tr>\n",
       "    <tr>\n",
       "      <th>5004</th>\n",
       "      <td>Leah_Purcell__Leah_Purcell__1</td>\n",
       "      <td>Leah_Purcell__Leah_Purcell__1__PersonFunction__1</td>\n",
       "      <td>Playwright</td>\n",
       "    </tr>\n",
       "    <tr>\n",
       "      <th>5008</th>\n",
       "      <td>Mayo_Simon__Mayo_Simon__1</td>\n",
       "      <td>Mayo_Simon__Mayo_Simon__1__PersonFunction__1</td>\n",
       "      <td>Playwright</td>\n",
       "    </tr>\n",
       "    <tr>\n",
       "      <th>5016</th>\n",
       "      <td>Roger_Allers__Roger_Allers__1</td>\n",
       "      <td>Roger_Allers__Roger_Allers__1__PersonFunction__1</td>\n",
       "      <td>Playwright</td>\n",
       "    </tr>\n",
       "  </tbody>\n",
       "</table>\n",
       "<p>8124 rows × 3 columns</p>\n",
       "</div>"
      ],
      "text/plain": [
       "                                                 person  \\\n",
       "3                                      Caitlin_Flanagan   \n",
       "10                                      Carl_Washington   \n",
       "18                                       Carlo_Mattogno   \n",
       "21                              Carlos_Alberto_Montaner   \n",
       "25                         Carlos_Francisco_Chang_Marín   \n",
       "...                                                 ...   \n",
       "4988                               Ted_Hamilton__OAM__1   \n",
       "4999  Andrew_Nicholls_and_Darrell_Vickers__Darrell_V...   \n",
       "5004                      Leah_Purcell__Leah_Purcell__1   \n",
       "5008                          Mayo_Simon__Mayo_Simon__1   \n",
       "5016                      Roger_Allers__Roger_Allers__1   \n",
       "\n",
       "                                             occupation       Group  \n",
       "3                   Caitlin_Flanagan__PersonFunction__1      Writer  \n",
       "10                   Carl_Washington__PersonFunction__1      Writer  \n",
       "18                    Carlo_Mattogno__PersonFunction__1      Writer  \n",
       "21           Carlos_Alberto_Montaner__PersonFunction__1      Writer  \n",
       "25      Carlos_Francisco_Chang_Marín__PersonFunction__1      Writer  \n",
       "...                                                 ...         ...  \n",
       "4988            Ted_Hamilton__OAM__1__PersonFunction__1  Playwright  \n",
       "4999  Andrew_Nicholls_and_Darrell_Vickers__Darrell_V...  Playwright  \n",
       "5004   Leah_Purcell__Leah_Purcell__1__PersonFunction__1  Playwright  \n",
       "5008       Mayo_Simon__Mayo_Simon__1__PersonFunction__1  Playwright  \n",
       "5016   Roger_Allers__Roger_Allers__1__PersonFunction__1  Playwright  \n",
       "\n",
       "[8124 rows x 3 columns]"
      ]
     },
     "execution_count": 7,
     "metadata": {},
     "output_type": "execute_result"
    }
   ],
   "source": [
    "df[df[\"occupation\"].str.contains(\"PersonFunction\")]"
   ]
  },
  {
   "cell_type": "markdown",
   "metadata": {},
   "source": [
    "Ces lignes ne sont pas utiles pour moi. Je les retire donc."
   ]
  },
  {
   "cell_type": "code",
   "execution_count": 8,
   "metadata": {
    "execution": {
     "iopub.execute_input": "2023-06-11T18:27:10.482913Z",
     "iopub.status.busy": "2023-06-11T18:27:10.481799Z",
     "iopub.status.idle": "2023-06-11T18:27:10.538273Z",
     "shell.execute_reply": "2023-06-11T18:27:10.535837Z"
    }
   },
   "outputs": [
    {
     "data": {
      "text/plain": [
       "21325"
      ]
     },
     "execution_count": 8,
     "metadata": {},
     "output_type": "execute_result"
    }
   ],
   "source": [
    "df = df[~df[\"occupation\"].str.contains(\"PersonFunction\")]\n",
    "len(df)"
   ]
  },
  {
   "cell_type": "markdown",
   "metadata": {},
   "source": [
    "Les nombres d'occupations est très elevé."
   ]
  },
  {
   "cell_type": "code",
   "execution_count": 9,
   "metadata": {
    "execution": {
     "iopub.execute_input": "2023-06-11T18:27:10.549454Z",
     "iopub.status.busy": "2023-06-11T18:27:10.548358Z",
     "iopub.status.idle": "2023-06-11T18:27:10.573516Z",
     "shell.execute_reply": "2023-06-11T18:27:10.570512Z"
    }
   },
   "outputs": [
    {
     "data": {
      "text/plain": [
       "1645"
      ]
     },
     "execution_count": 9,
     "metadata": {},
     "output_type": "execute_result"
    }
   ],
   "source": [
    "len(set(df.occupation))"
   ]
  },
  {
   "cell_type": "markdown",
   "metadata": {},
   "source": [
    "Et certaines occupations identiques apparaissent sous des noms différents."
   ]
  },
  {
   "cell_type": "code",
   "execution_count": 10,
   "metadata": {
    "execution": {
     "iopub.execute_input": "2023-06-11T18:27:10.584832Z",
     "iopub.status.busy": "2023-06-11T18:27:10.583982Z",
     "iopub.status.idle": "2023-06-11T18:27:10.609540Z",
     "shell.execute_reply": "2023-06-11T18:27:10.606521Z"
    }
   },
   "outputs": [
    {
     "data": {
      "text/plain": [
       "['Drama',\n",
       " 'Drama_teacher',\n",
       " 'Dramaturg',\n",
       " 'Dramaturgy',\n",
       " 'Dramatist',\n",
       " 'Drama_critic',\n",
       " 'Dramaturge']"
      ]
     },
     "execution_count": 10,
     "metadata": {},
     "output_type": "execute_result"
    }
   ],
   "source": [
    "[i for i in set(df.occupation) if i.startswith(\"Drama\")]"
   ]
  },
  {
   "cell_type": "markdown",
   "metadata": {},
   "source": [
    "Il faut donc procéder à des regroupements. Un tri manuel serait beaucoup trop laborieux, et poserait problème pour répéter l'opération si des nouveaux résultats venaient s'ajouter. Je vais donc opter plutôt pour une approche plus approximative mais permettant d'automatiser cette opération et de l'appliquer à des données en nombre important. L'idée est d'utiliser, comme dans l'exemple ci-dessus, la correspondance de motifs pour sélectionner et grouper des occupations. On peut par exemple grouper un certains nombres d'occupations qui se terminent en \"gist\", et qui, généralement, désignent des activités intellectuelles spécialisées. Cette manière de faire est approximative et les résultats obtenus contiennent des erreurs (ex. Suffragist, Collagist), mais ça permet de travailler rapidement et avec une certaine souplesse dans l'éventualité où les données changeraient."
   ]
  },
  {
   "cell_type": "code",
   "execution_count": 11,
   "metadata": {
    "execution": {
     "iopub.execute_input": "2023-06-11T18:27:10.620307Z",
     "iopub.status.busy": "2023-06-11T18:27:10.619409Z",
     "iopub.status.idle": "2023-06-11T18:27:10.651492Z",
     "shell.execute_reply": "2023-06-11T18:27:10.648483Z"
    }
   },
   "outputs": [
    {
     "data": {
      "text/plain": [
       "['Musicologist',\n",
       " 'Numerologist',\n",
       " 'Philologist',\n",
       " 'Criminologist',\n",
       " 'Life_strategist',\n",
       " 'Archeologist',\n",
       " 'Dermatologist',\n",
       " 'Biologist',\n",
       " 'Parapsychologist',\n",
       " 'Theatrologist',\n",
       " 'Neurologist',\n",
       " 'Phrenologist',\n",
       " 'Seismologist',\n",
       " 'Psychologist',\n",
       " 'Geologist',\n",
       " 'Collagist',\n",
       " 'Anthologist',\n",
       " 'Ufologist',\n",
       " 'Gynecologist',\n",
       " 'Suffragist',\n",
       " 'Sociologist',\n",
       " 'Culturologist',\n",
       " 'Zoologist',\n",
       " 'Meteorologist',\n",
       " 'Marine_biologist',\n",
       " 'Sexologist',\n",
       " 'Archaeologist',\n",
       " 'Monologist',\n",
       " 'Ethnologist',\n",
       " 'Etymologist',\n",
       " 'Pharmacologist',\n",
       " 'Cultural_anthropologist',\n",
       " 'Museologist',\n",
       " 'Speleologist',\n",
       " 'Genealogist',\n",
       " 'Iranologist',\n",
       " 'Turkologist',\n",
       " 'Political_strategist',\n",
       " 'Anti-suffragist',\n",
       " 'Forensic_anthropologist',\n",
       " 'Clinical_psychologist',\n",
       " 'Indologist',\n",
       " 'Anthropologist']"
      ]
     },
     "execution_count": 11,
     "metadata": {},
     "output_type": "execute_result"
    }
   ],
   "source": [
    "[i for i in set(df.occupation) if re.search(\"gist$\", i)]"
   ]
  },
  {
   "cell_type": "markdown",
   "metadata": {},
   "source": [
    "Pour la suite de l'exploration de ces données, l'objectif est d'observer les différences dans les activités annexes à l'activité de création littéraire entre les sous-groupes que constituent les \"poets\", les \"dramatists\" et les \"novelists\" qui constituent les trois genres dominants de la production littéraire occidentale moderne. Je n'intègre pas l'essai ni l'autobiographie, qui représentent des cas à part et sont difficiles à distinguer de pratiques non-littéraires en raison de leur caractère non-fictionnel (ex. les autobiographie de star, ou les essais de développement personnel). L'idée est de voir si certaines activités annexes sont sur- ou sous-représentrées dans certains de ces sous-groupes. Par exemple, trouve-t-on davantages de personnes exerçant des activités religieuses ou mystiques chez les poète-sses que chez les dramaturges? À l'inverse, les dramaturges ont-iels en revanche plus tendance que les poète-sses à écrire pour le cinéma, et les romancier-ères pour la presse écrite? Les poète-sses font-iels plus de musique, les romancier-ères plus de peinture?"
   ]
  },
  {
   "cell_type": "code",
   "execution_count": 12,
   "metadata": {
    "execution": {
     "iopub.execute_input": "2023-06-11T18:27:10.662687Z",
     "iopub.status.busy": "2023-06-11T18:27:10.661783Z",
     "iopub.status.idle": "2023-06-11T18:27:10.684596Z",
     "shell.execute_reply": "2023-06-11T18:27:10.681532Z"
    }
   },
   "outputs": [],
   "source": [
    "occupations_grouped = {\n",
    "    \"intellectual\": [\n",
    "        \"gist\",\n",
    "        \"stud\",\n",
    "        \"scho\",\n",
    "        \"critic\",\n",
    "        \"prof\",\n",
    "        \"lectur\",\n",
    "        \"univ\",\n",
    "        \"search\",\n",
    "        \"anthro\",\n",
    "        \"socio\",\n",
    "        \"ethno\",\n",
    "        \"hist\",\n",
    "        \"theor\",\n",
    "        \"lingu\",\n",
    "        \"philo\",\n",
    "        \"chemis\",\n",
    "        \"biol\",\n",
    "        \"math\",\n",
    "        \"scienc\",\n",
    "        \"lexico\",\n",
    "    ],\n",
    "    \"social sciences\": [\"socio\", \"anthro\", \"ethno\", \"hist\"],\n",
    "    \"natural sciences\": [\"biol\", \"math\", \"phys\", \"chemis\"],\n",
    "    \"non-written media\": [\n",
    "        \"radio\",\n",
    "        \"screen\",\n",
    "        \"cinem\",\n",
    "        \"script\",\n",
    "        \"film\",\n",
    "    ],\n",
    "    \"press\": [\"journ\", \"report\", \"magaz\", \"news\", \"chron\"],\n",
    "    \"religion\": [\n",
    "        \"theol\",\n",
    "        \"relig\",\n",
    "        \"priest\",\n",
    "        \"preach\",\n",
    "        \"saint\",\n",
    "        \"church\",\n",
    "        \"myst\",\n",
    "    ],\n",
    "    \"visual arts\": [\n",
    "        \"comic\",\n",
    "        \"paint\",\n",
    "        \"photo\",\n",
    "        \"illust\",\n",
    "        \"draw\",\n",
    "        \"video\",\n",
    "    ],\n",
    "    \"music\": [\"music\", \"compos\"],\n",
    "    \"books\": [\"edit\", \"book\", \"publish\", \"print\", \"libr\"],\n",
    "    \"politic\": [\n",
    "        \"politic\",\n",
    "        \"deput\",\n",
    "        \"govern\",\n",
    "        \"presid\",\n",
    "        \"law\",\n",
    "        \"lega\",\n",
    "        \"juri\",\n",
    "    ],\n",
    "    \"education\": [\"school\", \"teach\", \"pedag\", \"educ\"],\n",
    "    \"translation\": [\"transl\"],\n",
    "}"
   ]
  },
  {
   "cell_type": "markdown",
   "metadata": {},
   "source": [
    "Je mets en caractères minuscules les occupations, afin de pouvoir effectuer plus facilement les comparaison avec les mots déterminés ci-dessus. Je construis une nouvelle liste à double éléments: l'occupation et le \"writing_group\" (Novelist, Poet, Dramatist, Writer)."
   ]
  },
  {
   "cell_type": "code",
   "execution_count": 13,
   "metadata": {
    "execution": {
     "iopub.execute_input": "2023-06-11T18:27:10.695059Z",
     "iopub.status.busy": "2023-06-11T18:27:10.694157Z",
     "iopub.status.idle": "2023-06-11T18:27:10.758357Z",
     "shell.execute_reply": "2023-06-11T18:27:10.755395Z"
    }
   },
   "outputs": [
    {
     "data": {
      "text/plain": [
       "[('musician', 'Writer'),\n",
       " ('artist', 'Writer'),\n",
       " ('writer', 'Writer'),\n",
       " ('writer', 'Writer'),\n",
       " ('social_critic', 'Writer'),\n",
       " ('novelist', 'Writer'),\n",
       " ('actor', 'Writer'),\n",
       " ('writer', 'Writer'),\n",
       " ('film_producer', 'Writer'),\n",
       " ('psychiatrist', 'Writer')]"
      ]
     },
     "execution_count": 13,
     "metadata": {},
     "output_type": "execute_result"
    }
   ],
   "source": [
    "occupation_and_group = [(i[1].lower(), i[2]) for i in df.values]\n",
    "occupation_and_group[:10]"
   ]
  },
  {
   "cell_type": "markdown",
   "metadata": {},
   "source": [
    "À travers un enchâssement de boucles, je compte, pour chaque \"writing_group\", combien de lignes correspondent à chacun de ces groupes d'occupations (politic, education, etc.)."
   ]
  },
  {
   "cell_type": "code",
   "execution_count": 14,
   "metadata": {
    "execution": {
     "iopub.execute_input": "2023-06-11T18:27:10.769181Z",
     "iopub.status.busy": "2023-06-11T18:27:10.768260Z",
     "iopub.status.idle": "2023-06-11T18:27:11.090276Z",
     "shell.execute_reply": "2023-06-11T18:27:11.088942Z"
    }
   },
   "outputs": [
    {
     "data": {
      "text/plain": [
       "{'Writer': {'intellectual': 482,\n",
       "  'social sciences': 113,\n",
       "  'natural sciences': 29,\n",
       "  'non-written media': 677,\n",
       "  'press': 332,\n",
       "  'religion': 20,\n",
       "  'visual arts': 118,\n",
       "  'music': 111,\n",
       "  'books': 155,\n",
       "  'politic': 127,\n",
       "  'education': 76,\n",
       "  'translation': 72},\n",
       " 'Novelist': {'intellectual': 249,\n",
       "  'social sciences': 45,\n",
       "  'natural sciences': 20,\n",
       "  'non-written media': 342,\n",
       "  'press': 241,\n",
       "  'religion': 10,\n",
       "  'visual arts': 28,\n",
       "  'music': 26,\n",
       "  'books': 93,\n",
       "  'politic': 58,\n",
       "  'education': 39,\n",
       "  'translation': 55},\n",
       " 'Poet': {'intellectual': 488,\n",
       "  'social sciences': 70,\n",
       "  'natural sciences': 35,\n",
       "  'non-written media': 134,\n",
       "  'press': 204,\n",
       "  'religion': 22,\n",
       "  'visual arts': 62,\n",
       "  'music': 103,\n",
       "  'books': 116,\n",
       "  'politic': 117,\n",
       "  'education': 100,\n",
       "  'translation': 203},\n",
       " 'Playwright': {'intellectual': 128,\n",
       "  'social sciences': 20,\n",
       "  'natural sciences': 6,\n",
       "  'non-written media': 457,\n",
       "  'press': 88,\n",
       "  'religion': 2,\n",
       "  'visual arts': 15,\n",
       "  'music': 59,\n",
       "  'books': 81,\n",
       "  'politic': 34,\n",
       "  'education': 32,\n",
       "  'translation': 47}}"
      ]
     },
     "execution_count": 14,
     "metadata": {},
     "output_type": "execute_result"
    }
   ],
   "source": [
    "count = {}\n",
    "for i in writing_group:\n",
    "    count[i] = {}\n",
    "    for word_group in occupations_grouped:\n",
    "        count[i][word_group] = 0\n",
    "        for row in [r for r in occupation_and_group if r[1] == i]:\n",
    "            for word in occupations_grouped[word_group]:\n",
    "                if word in row[0]:\n",
    "                    count[i][word_group] = count[i][word_group] + 1\n",
    "                    break\n",
    "count"
   ]
  },
  {
   "cell_type": "markdown",
   "metadata": {},
   "source": [
    "Les données peuvent être remises dans un DataFrame pandas:"
   ]
  },
  {
   "cell_type": "code",
   "execution_count": 15,
   "metadata": {
    "execution": {
     "iopub.execute_input": "2023-06-11T18:27:11.099248Z",
     "iopub.status.busy": "2023-06-11T18:27:11.097621Z",
     "iopub.status.idle": "2023-06-11T18:27:11.120266Z",
     "shell.execute_reply": "2023-06-11T18:27:11.117830Z"
    }
   },
   "outputs": [
    {
     "data": {
      "text/html": [
       "<div>\n",
       "<style scoped>\n",
       "    .dataframe tbody tr th:only-of-type {\n",
       "        vertical-align: middle;\n",
       "    }\n",
       "\n",
       "    .dataframe tbody tr th {\n",
       "        vertical-align: top;\n",
       "    }\n",
       "\n",
       "    .dataframe thead th {\n",
       "        text-align: right;\n",
       "    }\n",
       "</style>\n",
       "<table border=\"1\" class=\"dataframe\">\n",
       "  <thead>\n",
       "    <tr style=\"text-align: right;\">\n",
       "      <th></th>\n",
       "      <th>Writer</th>\n",
       "      <th>Novelist</th>\n",
       "      <th>Poet</th>\n",
       "      <th>Playwright</th>\n",
       "    </tr>\n",
       "  </thead>\n",
       "  <tbody>\n",
       "    <tr>\n",
       "      <th>intellectual</th>\n",
       "      <td>482</td>\n",
       "      <td>249</td>\n",
       "      <td>488</td>\n",
       "      <td>128</td>\n",
       "    </tr>\n",
       "    <tr>\n",
       "      <th>social sciences</th>\n",
       "      <td>113</td>\n",
       "      <td>45</td>\n",
       "      <td>70</td>\n",
       "      <td>20</td>\n",
       "    </tr>\n",
       "    <tr>\n",
       "      <th>natural sciences</th>\n",
       "      <td>29</td>\n",
       "      <td>20</td>\n",
       "      <td>35</td>\n",
       "      <td>6</td>\n",
       "    </tr>\n",
       "    <tr>\n",
       "      <th>non-written media</th>\n",
       "      <td>677</td>\n",
       "      <td>342</td>\n",
       "      <td>134</td>\n",
       "      <td>457</td>\n",
       "    </tr>\n",
       "    <tr>\n",
       "      <th>press</th>\n",
       "      <td>332</td>\n",
       "      <td>241</td>\n",
       "      <td>204</td>\n",
       "      <td>88</td>\n",
       "    </tr>\n",
       "    <tr>\n",
       "      <th>religion</th>\n",
       "      <td>20</td>\n",
       "      <td>10</td>\n",
       "      <td>22</td>\n",
       "      <td>2</td>\n",
       "    </tr>\n",
       "    <tr>\n",
       "      <th>visual arts</th>\n",
       "      <td>118</td>\n",
       "      <td>28</td>\n",
       "      <td>62</td>\n",
       "      <td>15</td>\n",
       "    </tr>\n",
       "    <tr>\n",
       "      <th>music</th>\n",
       "      <td>111</td>\n",
       "      <td>26</td>\n",
       "      <td>103</td>\n",
       "      <td>59</td>\n",
       "    </tr>\n",
       "    <tr>\n",
       "      <th>books</th>\n",
       "      <td>155</td>\n",
       "      <td>93</td>\n",
       "      <td>116</td>\n",
       "      <td>81</td>\n",
       "    </tr>\n",
       "    <tr>\n",
       "      <th>politic</th>\n",
       "      <td>127</td>\n",
       "      <td>58</td>\n",
       "      <td>117</td>\n",
       "      <td>34</td>\n",
       "    </tr>\n",
       "    <tr>\n",
       "      <th>education</th>\n",
       "      <td>76</td>\n",
       "      <td>39</td>\n",
       "      <td>100</td>\n",
       "      <td>32</td>\n",
       "    </tr>\n",
       "    <tr>\n",
       "      <th>translation</th>\n",
       "      <td>72</td>\n",
       "      <td>55</td>\n",
       "      <td>203</td>\n",
       "      <td>47</td>\n",
       "    </tr>\n",
       "  </tbody>\n",
       "</table>\n",
       "</div>"
      ],
      "text/plain": [
       "                   Writer  Novelist  Poet  Playwright\n",
       "intellectual          482       249   488         128\n",
       "social sciences       113        45    70          20\n",
       "natural sciences       29        20    35           6\n",
       "non-written media     677       342   134         457\n",
       "press                 332       241   204          88\n",
       "religion               20        10    22           2\n",
       "visual arts           118        28    62          15\n",
       "music                 111        26   103          59\n",
       "books                 155        93   116          81\n",
       "politic               127        58   117          34\n",
       "education              76        39   100          32\n",
       "translation            72        55   203          47"
      ]
     },
     "execution_count": 15,
     "metadata": {},
     "output_type": "execute_result"
    }
   ],
   "source": [
    "occount = pandas.DataFrame(count)\n",
    "occount"
   ]
  },
  {
   "cell_type": "markdown",
   "metadata": {},
   "source": [
    "Un rapide regard des données donne déjà des informations intéressantes. Par exemple, l'activité de traduction, qui est une activité importante des poète-sses modernistes et contemporain-es, apparaît nettement comme une spécificité de ce groupe. Ce n'est pas une surprise, pour plusieurs raisons: (1) la traduction de poésie s'accomplit plus rapidement et peut donc cohabiter plus facilement avec une activité d'écriture; (2) la traduction de la poésie pose des problèmes complexes qui la font souvent percevoir comme une forme de création à part entière et au premier degré, et de fait il y a des traductions célèbres de poésie (ex. Poe traduit par Baudelaire); (3) éventuellement, la recherche d'innovation linguistique, peut-être plus présente en poésie que dans l'écriture romanesque, pousserait davantage les poéte-sses à lire ce qui se fait ailleurs -- la recherche d'un écart avec le langage ordinaire (qui caractérise la poésie) peut également être une source de motivation à lire et faire circuler des textes en langue étrangère. Il s'agit également du seul groupe chez lequel le groupe d'occupation \"press\" est plus élevé que le groupe \"non-written media\". Ici encore, ce n'est pas surprenant: la poésie étant, contrairement aux écritures romanesque et dramatique, souvent non-narrative, les poète-sses ont naturellement moins de relation avec le cinéma (du moins le cinéma traditionnel, où leurs compétences s'exportent plus difficilement). Par ailleurs, peut-être les groupes ne sont-ils pas distribués de façon homogène dans le temps: il est possible que si les poète-sses ont moins travaillé pour la télévision, c'est car la plupart des poète-sses de mon jeu de données sont né-es et mort-es avant l'essor de la télévision."
   ]
  },
  {
   "cell_type": "markdown",
   "metadata": {},
   "source": [
    "Ajouter une colonne \"total\" à droite afin de pouvoir plutôt travailler avec des nombres relatifs aux totaux."
   ]
  },
  {
   "cell_type": "code",
   "execution_count": 16,
   "metadata": {
    "execution": {
     "iopub.execute_input": "2023-06-11T18:27:11.129749Z",
     "iopub.status.busy": "2023-06-11T18:27:11.128025Z",
     "iopub.status.idle": "2023-06-11T18:27:11.163296Z",
     "shell.execute_reply": "2023-06-11T18:27:11.160234Z"
    }
   },
   "outputs": [
    {
     "data": {
      "text/html": [
       "<div>\n",
       "<style scoped>\n",
       "    .dataframe tbody tr th:only-of-type {\n",
       "        vertical-align: middle;\n",
       "    }\n",
       "\n",
       "    .dataframe tbody tr th {\n",
       "        vertical-align: top;\n",
       "    }\n",
       "\n",
       "    .dataframe thead th {\n",
       "        text-align: right;\n",
       "    }\n",
       "</style>\n",
       "<table border=\"1\" class=\"dataframe\">\n",
       "  <thead>\n",
       "    <tr style=\"text-align: right;\">\n",
       "      <th></th>\n",
       "      <th>Writer</th>\n",
       "      <th>Novelist</th>\n",
       "      <th>Poet</th>\n",
       "      <th>Playwright</th>\n",
       "      <th>total</th>\n",
       "    </tr>\n",
       "  </thead>\n",
       "  <tbody>\n",
       "    <tr>\n",
       "      <th>intellectual</th>\n",
       "      <td>482</td>\n",
       "      <td>249</td>\n",
       "      <td>488</td>\n",
       "      <td>128</td>\n",
       "      <td>1347</td>\n",
       "    </tr>\n",
       "    <tr>\n",
       "      <th>social sciences</th>\n",
       "      <td>113</td>\n",
       "      <td>45</td>\n",
       "      <td>70</td>\n",
       "      <td>20</td>\n",
       "      <td>248</td>\n",
       "    </tr>\n",
       "    <tr>\n",
       "      <th>natural sciences</th>\n",
       "      <td>29</td>\n",
       "      <td>20</td>\n",
       "      <td>35</td>\n",
       "      <td>6</td>\n",
       "      <td>90</td>\n",
       "    </tr>\n",
       "    <tr>\n",
       "      <th>non-written media</th>\n",
       "      <td>677</td>\n",
       "      <td>342</td>\n",
       "      <td>134</td>\n",
       "      <td>457</td>\n",
       "      <td>1610</td>\n",
       "    </tr>\n",
       "    <tr>\n",
       "      <th>press</th>\n",
       "      <td>332</td>\n",
       "      <td>241</td>\n",
       "      <td>204</td>\n",
       "      <td>88</td>\n",
       "      <td>865</td>\n",
       "    </tr>\n",
       "    <tr>\n",
       "      <th>religion</th>\n",
       "      <td>20</td>\n",
       "      <td>10</td>\n",
       "      <td>22</td>\n",
       "      <td>2</td>\n",
       "      <td>54</td>\n",
       "    </tr>\n",
       "    <tr>\n",
       "      <th>visual arts</th>\n",
       "      <td>118</td>\n",
       "      <td>28</td>\n",
       "      <td>62</td>\n",
       "      <td>15</td>\n",
       "      <td>223</td>\n",
       "    </tr>\n",
       "    <tr>\n",
       "      <th>music</th>\n",
       "      <td>111</td>\n",
       "      <td>26</td>\n",
       "      <td>103</td>\n",
       "      <td>59</td>\n",
       "      <td>299</td>\n",
       "    </tr>\n",
       "    <tr>\n",
       "      <th>books</th>\n",
       "      <td>155</td>\n",
       "      <td>93</td>\n",
       "      <td>116</td>\n",
       "      <td>81</td>\n",
       "      <td>445</td>\n",
       "    </tr>\n",
       "    <tr>\n",
       "      <th>politic</th>\n",
       "      <td>127</td>\n",
       "      <td>58</td>\n",
       "      <td>117</td>\n",
       "      <td>34</td>\n",
       "      <td>336</td>\n",
       "    </tr>\n",
       "    <tr>\n",
       "      <th>education</th>\n",
       "      <td>76</td>\n",
       "      <td>39</td>\n",
       "      <td>100</td>\n",
       "      <td>32</td>\n",
       "      <td>247</td>\n",
       "    </tr>\n",
       "    <tr>\n",
       "      <th>translation</th>\n",
       "      <td>72</td>\n",
       "      <td>55</td>\n",
       "      <td>203</td>\n",
       "      <td>47</td>\n",
       "      <td>377</td>\n",
       "    </tr>\n",
       "    <tr>\n",
       "      <th>total</th>\n",
       "      <td>2312</td>\n",
       "      <td>1206</td>\n",
       "      <td>1654</td>\n",
       "      <td>969</td>\n",
       "      <td>6141</td>\n",
       "    </tr>\n",
       "  </tbody>\n",
       "</table>\n",
       "</div>"
      ],
      "text/plain": [
       "                   Writer  Novelist  Poet  Playwright  total\n",
       "intellectual          482       249   488         128   1347\n",
       "social sciences       113        45    70          20    248\n",
       "natural sciences       29        20    35           6     90\n",
       "non-written media     677       342   134         457   1610\n",
       "press                 332       241   204          88    865\n",
       "religion               20        10    22           2     54\n",
       "visual arts           118        28    62          15    223\n",
       "music                 111        26   103          59    299\n",
       "books                 155        93   116          81    445\n",
       "politic               127        58   117          34    336\n",
       "education              76        39   100          32    247\n",
       "translation            72        55   203          47    377\n",
       "total                2312      1206  1654         969   6141"
      ]
     },
     "execution_count": 16,
     "metadata": {},
     "output_type": "execute_result"
    }
   ],
   "source": [
    "occount[\"total\"] = occount.sum(axis=1)\n",
    "occount.loc[\"total\"] = occount.sum(numeric_only=True, axis=0)\n",
    "occount"
   ]
  },
  {
   "cell_type": "code",
   "execution_count": 17,
   "metadata": {
    "execution": {
     "iopub.execute_input": "2023-06-11T18:27:11.173527Z",
     "iopub.status.busy": "2023-06-11T18:27:11.172475Z",
     "iopub.status.idle": "2023-06-11T18:27:11.190260Z",
     "shell.execute_reply": "2023-06-11T18:27:11.187006Z"
    }
   },
   "outputs": [
    {
     "name": "stdout",
     "output_type": "stream",
     "text": [
      "proportion de traduction:\n",
      "\n",
      "Writer : 0.03\n",
      "Novelist : 0.05\n",
      "Poet : 0.12\n",
      "Playwright : 0.05\n"
     ]
    }
   ],
   "source": [
    "print(\"proportion de traduction:\\n\")\n",
    "for i in writing_group:\n",
    "    print(i, \":\", round(occount[i].translation / occount[i].total, 2))"
   ]
  },
  {
   "cell_type": "markdown",
   "metadata": {},
   "source": [
    "La proportion d'occupation-traduction chez les poète-sses est largement supérieure à celles qu'on trouve chez les romancier-ères et dramaturges, lesquelles sont identiques (0.05). Le rapport entre la proportion chez les poète-sses et chez les dramaturges, de 1/2, est identique au rapport entre dramaturge et writers, donc il pourrait sembler peu significatif. Mais cela n'est à mon avis pas le cas. Car la proportion plus basse chez les \"Writers\" s'explique autrement: en effet, ce groupe est constitué d'un nombre important d'auteurices identifié comme \"writer\" pour des activités non-littéraires (ex. écrivain-es de livres scientifiques, de philosophie, etc.), et qui n'ont pas la situation économique précaire des auteurices littéraires, puisque les Writers sont aussi des neurologistes reconnu-es publiant des essais de vulgarisation, etc. Il va de soit que l'activité de traduction dans ces catégorie socioprofessionnelle est une activité très secondaire; puisque l'écriture ne constitue pas nécessairement leur compétence principale, les individus de ce groupe n'ont aucune raison de la mobiliser pour en faire une activité rémunératrice."
   ]
  },
  {
   "cell_type": "markdown",
   "metadata": {},
   "source": [
    "Calculer l'effectif attendu des poète-sses traducteurices."
   ]
  },
  {
   "cell_type": "code",
   "execution_count": 18,
   "metadata": {
    "execution": {
     "iopub.execute_input": "2023-06-11T18:27:11.201914Z",
     "iopub.status.busy": "2023-06-11T18:27:11.200371Z",
     "iopub.status.idle": "2023-06-11T18:27:11.216929Z",
     "shell.execute_reply": "2023-06-11T18:27:11.214484Z"
    }
   },
   "outputs": [
    {
     "data": {
      "text/plain": [
       "101.54014004233838"
      ]
     },
     "execution_count": 18,
     "metadata": {},
     "output_type": "execute_result"
    }
   ],
   "source": [
    "occount.total.translation * (occount.Poet.total / occount.total.total)"
   ]
  },
  {
   "cell_type": "markdown",
   "metadata": {},
   "source": [
    "Le rapport entre effectif attendu et effectif observé."
   ]
  },
  {
   "cell_type": "code",
   "execution_count": 19,
   "metadata": {
    "execution": {
     "iopub.execute_input": "2023-06-11T18:27:11.227188Z",
     "iopub.status.busy": "2023-06-11T18:27:11.226272Z",
     "iopub.status.idle": "2023-06-11T18:27:11.244209Z",
     "shell.execute_reply": "2023-06-11T18:27:11.241118Z"
    }
   },
   "outputs": [
    {
     "data": {
      "text/plain": [
       "2.0"
      ]
     },
     "execution_count": 19,
     "metadata": {},
     "output_type": "execute_result"
    }
   ],
   "source": [
    "round(\n",
    "    occount.Poet.translation\n",
    "    / (\n",
    "        occount.total.translation\n",
    "        * (occount.Poet.total / occount.total.total)\n",
    "    ),\n",
    "    2,\n",
    ")"
   ]
  },
  {
   "cell_type": "markdown",
   "metadata": {},
   "source": [
    "Vérifier, enfin, que le nombre élevé de poète-sses traducteurices n'est pas lié à un biais dans ma méthode de groupement des occupations. Puisque les deux seuls résultats sont \"Translation\" et \"Translator\", il n'y a pas de biais à ce niveau-là."
   ]
  },
  {
   "cell_type": "code",
   "execution_count": 20,
   "metadata": {
    "execution": {
     "iopub.execute_input": "2023-06-11T18:27:11.255312Z",
     "iopub.status.busy": "2023-06-11T18:27:11.254362Z",
     "iopub.status.idle": "2023-06-11T18:27:11.307602Z",
     "shell.execute_reply": "2023-06-11T18:27:11.304636Z"
    }
   },
   "outputs": [
    {
     "data": {
      "text/plain": [
       "{'http://dbpedia.org/resource/Translation',\n",
       " 'http://dbpedia.org/resource/Translator'}"
      ]
     },
     "execution_count": 20,
     "metadata": {},
     "output_type": "execute_result"
    }
   ],
   "source": [
    "set([\n",
    "    i\n",
    "    for i in list(dataframe[\"Poet\"].occupation)\n",
    "    if re.search(\"[Tt]ransl\", i) and 'PersonFunction' not in i\n",
    "])"
   ]
  }
 ],
 "metadata": {
  "kernelspec": {
   "display_name": "Python 3",
   "language": "python",
   "name": "python3"
  },
  "language_info": {
   "codemirror_mode": {
    "name": "ipython",
    "version": 3
   },
   "file_extension": ".py",
   "mimetype": "text/x-python",
   "name": "python",
   "nbconvert_exporter": "python",
   "pygments_lexer": "ipython3",
   "version": "3.9.2"
  }
 },
 "nbformat": 4,
 "nbformat_minor": 2
}
