{
 "cells": [
  {
   "cell_type": "markdown",
   "metadata": {},
   "source": [
    "import pandas as pd<br>\n",
    "import matplotlib.pyplot as plt<br>\n",
    "import numpy as np<br>\n",
    "import seaborn as sns"
   ]
  },
  {
   "cell_type": "code",
   "execution_count": null,
   "metadata": {},
   "outputs": [],
   "source": [
    "import calendar\n",
    "from collections import Counter"
   ]
  },
  {
   "cell_type": "markdown",
   "metadata": {},
   "source": [
    "fonction pour csv -> liste de liste"
   ]
  },
  {
   "cell_type": "code",
   "execution_count": null,
   "metadata": {},
   "outputs": [],
   "source": [
    "def csv_from_file(fp, delimiter:str=','):\n",
    "    with open(fp) as f:\n",
    "        c = f.readlines()\n",
    "    a = [i.replace('\\n', '').split(delimiter) for i in c]\n",
    "    return a"
   ]
  },
  {
   "cell_type": "markdown",
   "metadata": {},
   "source": [
    "ouvrir le csv, mettre le contenu dans une variable"
   ]
  },
  {
   "cell_type": "code",
   "execution_count": null,
   "metadata": {},
   "outputs": [],
   "source": [
    "fp = './Hotel Reservations.csv'\n",
    "c = csv_from_file(fp)\n",
    "c[:2] # observer les noms de colonnes et une ligne"
   ]
  },
  {
   "cell_type": "markdown",
   "metadata": {},
   "source": [
    "premier regard sur les données: les années d'arrivée, qui nous montre que toutes les réservations sont réparties dans seulement deux années: 2017 et 2018"
   ]
  },
  {
   "cell_type": "code",
   "execution_count": null,
   "metadata": {},
   "outputs": [],
   "source": [
    "c[0][9] # id / arrival_year\n",
    "a = [(i[0],i[9]) for i in c]\n",
    "Counter([i[1] for i in a])"
   ]
  },
  {
   "cell_type": "markdown",
   "metadata": {},
   "source": [
    "Question qui nous permettra peut-etre d'en apprendre davantage sur le type d'établissement: les saisons de réservations."
   ]
  },
  {
   "cell_type": "code",
   "execution_count": null,
   "metadata": {},
   "outputs": [],
   "source": [
    "d = Counter([i[10] for i in c[1:]])\n",
    "e = [int(i) for i in d]\n",
    "e.sort()\n",
    "f = [(i, d[str(i)]) for i in e]\n",
    "f"
   ]
  },
  {
   "cell_type": "markdown",
   "metadata": {},
   "source": [
    "faire un \"plot\" simple, qui nous permet de voir le mois avec le plus d'arrivées: octobre"
   ]
  },
  {
   "cell_type": "code",
   "execution_count": null,
   "metadata": {},
   "outputs": [],
   "source": [
    "print('Répartition des réservations dans les mois de l\\'année:')\n",
    "for i in f:\n",
    "    j = '|' * int(i[1] / 100)\n",
    "    print(calendar.month_name[i[0]][:3], j, i[1])"
   ]
  },
  {
   "cell_type": "markdown",
   "metadata": {},
   "source": [
    "required_car_parking_space: les valeurs sont 0 / 1<br>\n",
    "on peut voir que la plupart des personnes ne reservent pas de place de parking."
   ]
  },
  {
   "cell_type": "code",
   "execution_count": null,
   "metadata": {},
   "outputs": [],
   "source": [
    "p = Counter([i[6] for i in c])\n",
    "p\n",
    "q = [i for i in p if i.isdigit()]\n",
    "print('Combien de personnes réservent une place de parking pour voiture?')\n",
    "for i in q:\n",
    "    if int(i) == 0:\n",
    "        k = 'non'\n",
    "    else: \n",
    "        k = 'oui'\n",
    "    j = '|' * int(p[i] / 1000)\n",
    "    print(k, j, p[i])"
   ]
  },
  {
   "cell_type": "markdown",
   "metadata": {},
   "source": [
    "les personnes qui reservent, à quel moment de l'année viennent-elles?"
   ]
  },
  {
   "cell_type": "code",
   "execution_count": null,
   "metadata": {},
   "outputs": [],
   "source": [
    "g = Counter([i[10] for i in c if i[6] == '1'])\n",
    "print('Quand viennent les personnes qui souhaitent avoir une place de parking?')\n",
    "for i in g:\n",
    "    j = '|' * int(int(g[i]) / 10)\n",
    "    print(calendar.month_name[int(i)][:3], j, g[i])"
   ]
  }
 ],
 "metadata": {
  "kernelspec": {
   "display_name": "Python 3",
   "language": "python",
   "name": "python3"
  },
  "language_info": {
   "codemirror_mode": {
    "name": "ipython",
    "version": 3
   },
   "file_extension": ".py",
   "mimetype": "text/x-python",
   "name": "python",
   "nbconvert_exporter": "python",
   "pygments_lexer": "ipython3",
   "version": "3.6.4"
  }
 },
 "nbformat": 4,
 "nbformat_minor": 2
}
