{
 "cells": [
  {
   "cell_type": "markdown",
   "metadata": {},
   "source": [
    "\n",
    "<br>\n",
    "Exploration d'une jeu de données de réservations d'hôtel issu du site Kaggle.<br>\n"
   ]
  },
  {
   "cell_type": "code",
   "execution_count": 1,
   "metadata": {
    "execution": {
     "iopub.execute_input": "2023-06-10T20:37:40.167968Z",
     "iopub.status.busy": "2023-06-10T20:37:40.166369Z",
     "iopub.status.idle": "2023-06-10T20:37:40.192067Z",
     "shell.execute_reply": "2023-06-10T20:37:40.189347Z"
    }
   },
   "outputs": [],
   "source": [
    "import calendar"
   ]
  },
  {
   "cell_type": "markdown",
   "metadata": {},
   "source": [
    "Je place le contenu du csv dans un fichier, en tant que liste (liste de lignes: chaque ligne est une réservation.)"
   ]
  },
  {
   "cell_type": "code",
   "execution_count": 2,
   "metadata": {
    "execution": {
     "iopub.execute_input": "2023-06-10T20:37:40.203075Z",
     "iopub.status.busy": "2023-06-10T20:37:40.202168Z",
     "iopub.status.idle": "2023-06-10T20:37:40.244689Z",
     "shell.execute_reply": "2023-06-10T20:37:40.242253Z"
    }
   },
   "outputs": [],
   "source": [
    "csvpath = \"./hotel_reservations.csv\"\n",
    "with open(csvpath, \"r\") as f:\n",
    "    csv = f.readlines()"
   ]
  },
  {
   "cell_type": "markdown",
   "metadata": {},
   "source": [
    "Je transforme chaque ligne en une liste. L'ensemble est donc une liste de listes. Chaque ligne est une liste de valeurs."
   ]
  },
  {
   "cell_type": "code",
   "execution_count": 3,
   "metadata": {
    "execution": {
     "iopub.execute_input": "2023-06-10T20:37:40.255366Z",
     "iopub.status.busy": "2023-06-10T20:37:40.254424Z",
     "iopub.status.idle": "2023-06-10T20:37:40.424412Z",
     "shell.execute_reply": "2023-06-10T20:37:40.423410Z"
    }
   },
   "outputs": [
    {
     "name": "stdout",
     "output_type": "stream",
     "text": [
      "['Booking_ID', 'no_of_adults', 'no_of_children', 'no_of_weekend_nights', 'no_of_week_nights', 'type_of_meal_plan', 'required_car_parking_space', 'room_type_reserved', 'lead_time', 'arrival_year', 'arrival_month', 'arrival_date', 'market_segment_type', 'repeated_guest', 'no_of_previous_cancellations', 'no_of_previous_bookings_not_canceled', 'avg_price_per_room', 'no_of_special_requests', 'booking_status\\n']\n",
      "['INN00001', '2', '0', '1', '2', 'Meal Plan 1', '0', 'Room_Type 1', '224', '2017', '10', '2', 'Offline', '0', '0', '0', '65', '0', 'Not_Canceled\\n']\n",
      "['INN00002', '2', '0', '2', '3', 'Not Selected', '0', 'Room_Type 1', '5', '2018', '11', '6', 'Online', '0', '0', '0', '106.68', '1', 'Not_Canceled\\n']\n"
     ]
    }
   ],
   "source": [
    "csv = [line.split(\",\") for line in csv]\n",
    "for i in csv[:3]:\n",
    "    print(i)"
   ]
  },
  {
   "cell_type": "markdown",
   "metadata": {},
   "source": [
    "Pour pouvoir plus facilement travailler, je transforme la liste de listes en dictionnaires de dictionnaires. L'ensemble est un dictionnaire, et chaque ligne du csv (chaque réservation) va constituer un sous-dictionnaire, dont les clés correspondront aux entêtes du csv (les intitulés des colonnes)"
   ]
  },
  {
   "cell_type": "code",
   "execution_count": 4,
   "metadata": {
    "execution": {
     "iopub.execute_input": "2023-06-10T20:37:40.468027Z",
     "iopub.status.busy": "2023-06-10T20:37:40.467724Z",
     "iopub.status.idle": "2023-06-10T20:37:40.761149Z",
     "shell.execute_reply": "2023-06-10T20:37:40.759647Z"
    }
   },
   "outputs": [],
   "source": [
    "data = {}\n",
    "for line in csv[1:]:\n",
    "    no_reservation = line[0]\n",
    "    data[no_reservation] = {}\n",
    "    colonnes = [i for i in range(1, len(line))]\n",
    "    for no in colonnes:\n",
    "        data[no_reservation][csv[0][no]] = line[no]"
   ]
  },
  {
   "cell_type": "markdown",
   "metadata": {},
   "source": [
    "Aperçu de la structure, deux entrées:"
   ]
  },
  {
   "cell_type": "code",
   "execution_count": 5,
   "metadata": {
    "execution": {
     "iopub.execute_input": "2023-06-10T20:37:40.767360Z",
     "iopub.status.busy": "2023-06-10T20:37:40.766852Z",
     "iopub.status.idle": "2023-06-10T20:37:40.792551Z",
     "shell.execute_reply": "2023-06-10T20:37:40.790050Z"
    }
   },
   "outputs": [
    {
     "name": "stdout",
     "output_type": "stream",
     "text": [
      "('INN00001', {'no_of_adults': '2', 'no_of_children': '0', 'no_of_weekend_nights': '1', 'no_of_week_nights': '2', 'type_of_meal_plan': 'Meal Plan 1', 'required_car_parking_space': '0', 'room_type_reserved': 'Room_Type 1', 'lead_time': '224', 'arrival_year': '2017', 'arrival_month': '10', 'arrival_date': '2', 'market_segment_type': 'Offline', 'repeated_guest': '0', 'no_of_previous_cancellations': '0', 'no_of_previous_bookings_not_canceled': '0', 'avg_price_per_room': '65', 'no_of_special_requests': '0', 'booking_status\\n': 'Not_Canceled\\n'})\n",
      "('INN00002', {'no_of_adults': '2', 'no_of_children': '0', 'no_of_weekend_nights': '2', 'no_of_week_nights': '3', 'type_of_meal_plan': 'Not Selected', 'required_car_parking_space': '0', 'room_type_reserved': 'Room_Type 1', 'lead_time': '5', 'arrival_year': '2018', 'arrival_month': '11', 'arrival_date': '6', 'market_segment_type': 'Online', 'repeated_guest': '0', 'no_of_previous_cancellations': '0', 'no_of_previous_bookings_not_canceled': '0', 'avg_price_per_room': '106.68', 'no_of_special_requests': '1', 'booking_status\\n': 'Not_Canceled\\n'})\n"
     ]
    }
   ],
   "source": [
    "for j in [i for i in data.items()][:2]:\n",
    "    print(j)"
   ]
  },
  {
   "cell_type": "markdown",
   "metadata": {},
   "source": [
    "Plus lisible:"
   ]
  },
  {
   "cell_type": "code",
   "execution_count": 6,
   "metadata": {
    "execution": {
     "iopub.execute_input": "2023-06-10T20:37:40.803570Z",
     "iopub.status.busy": "2023-06-10T20:37:40.802641Z",
     "iopub.status.idle": "2023-06-10T20:37:40.982435Z",
     "shell.execute_reply": "2023-06-10T20:37:40.980391Z"
    }
   },
   "outputs": [
    {
     "name": "stdout",
     "output_type": "stream",
     "text": [
      "no_of_adults : 2\n",
      "no_of_children : 0\n",
      "no_of_weekend_nights : 2\n",
      "no_of_week_nights : 3\n",
      "type_of_meal_plan : Not Selected\n",
      "required_car_parking_space : 0\n",
      "room_type_reserved : Room_Type 1\n",
      "lead_time : 5\n",
      "arrival_year : 2018\n",
      "arrival_month : 11\n",
      "arrival_date : 6\n",
      "market_segment_type : Online\n",
      "repeated_guest : 0\n",
      "no_of_previous_cancellations : 0\n",
      "no_of_previous_bookings_not_canceled : 0\n",
      "avg_price_per_room : 106.68\n",
      "no_of_special_requests : 1\n",
      "booking_status\n",
      " : Not_Canceled\n",
      "\n"
     ]
    }
   ],
   "source": [
    "for k in [data[i] for i in data.keys()][1].keys():\n",
    "    print(k, \":\", [data[i] for i in data.keys()][1][k])"
   ]
  },
  {
   "cell_type": "markdown",
   "metadata": {},
   "source": [
    "Je crée quelques fonctions simples pour explorer quelques aspects de ces données.<br>\n",
    "Une fonction qui retourne une liste de tuples: l'id de la réservation et la valeur d'une colonne à choix, entrée comme paramètre."
   ]
  },
  {
   "cell_type": "code",
   "execution_count": 7,
   "metadata": {
    "execution": {
     "iopub.execute_input": "2023-06-10T20:37:40.994406Z",
     "iopub.status.busy": "2023-06-10T20:37:40.992536Z",
     "iopub.status.idle": "2023-06-10T20:37:41.006258Z",
     "shell.execute_reply": "2023-06-10T20:37:41.003340Z"
    }
   },
   "outputs": [],
   "source": [
    "def query_id_col(col: str):\n",
    "    a = [(i, data[i][col]) for i in data.keys()]\n",
    "    return a"
   ]
  },
  {
   "cell_type": "markdown",
   "metadata": {},
   "source": [
    "Fonction qui retourne un dictionnaire associant (clé) l'id de la réservation à (valeur) la valeur attribuée à la colonne choisie pour cette réservation."
   ]
  },
  {
   "cell_type": "code",
   "execution_count": 8,
   "metadata": {
    "execution": {
     "iopub.execute_input": "2023-06-10T20:37:41.017173Z",
     "iopub.status.busy": "2023-06-10T20:37:41.016282Z",
     "iopub.status.idle": "2023-06-10T20:37:41.028591Z",
     "shell.execute_reply": "2023-06-10T20:37:41.026071Z"
    }
   },
   "outputs": [],
   "source": [
    "def query_id_dict(col: str):\n",
    "    di = {}\n",
    "    for i in data.keys():\n",
    "        di[i] = data[i][col]\n",
    "    return di"
   ]
  },
  {
   "cell_type": "markdown",
   "metadata": {},
   "source": [
    "Fonction qui retourne pour une colonne, un dictionnaire qui associe (clé) les valeurs existantes pour cette colonnes au (valeur) nombre de réservation avec cette valeur dans cette colonne."
   ]
  },
  {
   "cell_type": "code",
   "execution_count": 9,
   "metadata": {
    "execution": {
     "iopub.execute_input": "2023-06-10T20:37:41.039397Z",
     "iopub.status.busy": "2023-06-10T20:37:41.038464Z",
     "iopub.status.idle": "2023-06-10T20:37:41.053322Z",
     "shell.execute_reply": "2023-06-10T20:37:41.050638Z"
    }
   },
   "outputs": [],
   "source": [
    "def query_valeur_nb(col: str):\n",
    "    a = [(i, data[i][col]) for i in data.keys()]\n",
    "    values = {}\n",
    "    for i in a:\n",
    "        if i[1] not in values.keys():\n",
    "            values[i[1]] = 1\n",
    "        else:\n",
    "            values[i[1]] = values[i[1]] + 1\n",
    "    return values"
   ]
  },
  {
   "cell_type": "markdown",
   "metadata": {},
   "source": [
    "Fonction qui retourne, pour une colonne, un dictionnaire associant (clé) les valeurs existantes pour cette colonne à (valeur) une liste des ids des réservations ayant cette valeur."
   ]
  },
  {
   "cell_type": "code",
   "execution_count": 10,
   "metadata": {
    "execution": {
     "iopub.execute_input": "2023-06-10T20:37:41.064130Z",
     "iopub.status.busy": "2023-06-10T20:37:41.063244Z",
     "iopub.status.idle": "2023-06-10T20:37:41.079172Z",
     "shell.execute_reply": "2023-06-10T20:37:41.076046Z"
    }
   },
   "outputs": [],
   "source": [
    "def query_valeur_id(col: str):\n",
    "    a = [(i, data[i][col]) for i in data.keys()]\n",
    "    values = {}\n",
    "    for i in a:\n",
    "        if i[1] not in values.keys():\n",
    "            values[i[1]] = []\n",
    "        else:\n",
    "            values[i[1]].append(i[0])\n",
    "    return values"
   ]
  },
  {
   "cell_type": "markdown",
   "metadata": {},
   "source": [
    "Combien d'années différentes sont concernées par ces réservations?"
   ]
  },
  {
   "cell_type": "code",
   "execution_count": 11,
   "metadata": {
    "execution": {
     "iopub.execute_input": "2023-06-10T20:37:41.091676Z",
     "iopub.status.busy": "2023-06-10T20:37:41.089737Z",
     "iopub.status.idle": "2023-06-10T20:37:41.260642Z",
     "shell.execute_reply": "2023-06-10T20:37:41.259635Z"
    }
   },
   "outputs": [
    {
     "data": {
      "text/plain": [
       "{'2017': 6514, '2018': 29761}"
      ]
     },
     "execution_count": 11,
     "metadata": {},
     "output_type": "execute_result"
    }
   ],
   "source": [
    "query_valeur_nb(\"arrival_year\")"
   ]
  },
  {
   "cell_type": "markdown",
   "metadata": {},
   "source": [
    "Y a-t-il des réservations pour tous les mois de l'années?"
   ]
  },
  {
   "cell_type": "code",
   "execution_count": 12,
   "metadata": {
    "execution": {
     "iopub.execute_input": "2023-06-10T20:37:41.265207Z",
     "iopub.status.busy": "2023-06-10T20:37:41.264856Z",
     "iopub.status.idle": "2023-06-10T20:37:41.306907Z",
     "shell.execute_reply": "2023-06-10T20:37:41.304540Z"
    }
   },
   "outputs": [
    {
     "data": {
      "text/plain": [
       "{'10': 5317,\n",
       " '11': 2980,\n",
       " '2': 1704,\n",
       " '5': 2598,\n",
       " '4': 2736,\n",
       " '9': 4611,\n",
       " '12': 3021,\n",
       " '7': 2920,\n",
       " '6': 3203,\n",
       " '8': 3813,\n",
       " '3': 2358,\n",
       " '1': 1014}"
      ]
     },
     "execution_count": 12,
     "metadata": {},
     "output_type": "execute_result"
    }
   ],
   "source": [
    "query_valeur_nb(\"arrival_month\")"
   ]
  },
  {
   "cell_type": "markdown",
   "metadata": {},
   "source": [
    "Question qui nous permettra peut-etre d'en apprendre davantage sur le type d'établissement: la distribution des réservations dans l'année."
   ]
  },
  {
   "cell_type": "code",
   "execution_count": 13,
   "metadata": {
    "execution": {
     "iopub.execute_input": "2023-06-10T20:37:41.317306Z",
     "iopub.status.busy": "2023-06-10T20:37:41.316447Z",
     "iopub.status.idle": "2023-06-10T20:37:41.407590Z",
     "shell.execute_reply": "2023-06-10T20:37:41.404607Z"
    }
   },
   "outputs": [
    {
     "name": "stdout",
     "output_type": "stream",
     "text": [
      "Oct ||||||||||||||||||||||||||||||||||||||||||||||||||||| 5317\n",
      "Nov ||||||||||||||||||||||||||||| 2980\n",
      "Feb ||||||||||||||||| 1704\n",
      "May ||||||||||||||||||||||||| 2598\n",
      "Apr ||||||||||||||||||||||||||| 2736\n",
      "Sep |||||||||||||||||||||||||||||||||||||||||||||| 4611\n",
      "Dec |||||||||||||||||||||||||||||| 3021\n",
      "Jul ||||||||||||||||||||||||||||| 2920\n",
      "Jun |||||||||||||||||||||||||||||||| 3203\n",
      "Aug |||||||||||||||||||||||||||||||||||||| 3813\n",
      "Mar ||||||||||||||||||||||| 2358\n",
      "Jan |||||||||| 1014\n"
     ]
    }
   ],
   "source": [
    "months = query_valeur_nb(\"arrival_month\")\n",
    "for m in months.keys():\n",
    "    j = \"|\" * int(months[m] / 100)\n",
    "    print(calendar.month_name[int(m)][:3], j, months[m])"
   ]
  },
  {
   "cell_type": "markdown",
   "metadata": {},
   "source": [
    "Pour y voir un peu mieux, mettre les mois dans l'ordre, et répéter l'opération."
   ]
  },
  {
   "cell_type": "code",
   "execution_count": 14,
   "metadata": {
    "execution": {
     "iopub.execute_input": "2023-06-10T20:37:41.418709Z",
     "iopub.status.busy": "2023-06-10T20:37:41.417572Z",
     "iopub.status.idle": "2023-06-10T20:37:41.434449Z",
     "shell.execute_reply": "2023-06-10T20:37:41.431710Z"
    }
   },
   "outputs": [
    {
     "name": "stdout",
     "output_type": "stream",
     "text": [
      "Jan |||||||||| 1014\n",
      "Feb ||||||||||||||||| 1704\n",
      "Mar ||||||||||||||||||||||| 2358\n",
      "Apr ||||||||||||||||||||||||||| 2736\n",
      "May ||||||||||||||||||||||||| 2598\n",
      "Jun |||||||||||||||||||||||||||||||| 3203\n",
      "Jul ||||||||||||||||||||||||||||| 2920\n",
      "Aug |||||||||||||||||||||||||||||||||||||| 3813\n",
      "Sep |||||||||||||||||||||||||||||||||||||||||||||| 4611\n",
      "Oct ||||||||||||||||||||||||||||||||||||||||||||||||||||| 5317\n",
      "Nov ||||||||||||||||||||||||||||| 2980\n",
      "Dec |||||||||||||||||||||||||||||| 3021\n"
     ]
    }
   ],
   "source": [
    "months_sorted = [(int(m), months[m]) for m in months.keys()]\n",
    "months_sorted.sort()\n",
    "months_sorted\n",
    "for m in months_sorted:\n",
    "    j = \"|\" * int(m[1] / 100)\n",
    "    print(calendar.month_name[m[0]][:3], j, m[1])"
   ]
  },
  {
   "cell_type": "markdown",
   "metadata": {},
   "source": [
    "Vraisemblablement, il ne s'agit pas (par exemple) d'un hôtel dont le public-cible est constitué de skieureuses. Les mois d'hivers et du début du printemps sont ceux pour lesquels il y a le moins de réservations."
   ]
  },
  {
   "cell_type": "markdown",
   "metadata": {},
   "source": [
    "Une autre colonne, \"required_car_parking_space\", qui comporte deux valeurs possible: 0 ou 1, sans ou avec."
   ]
  },
  {
   "cell_type": "code",
   "execution_count": 15,
   "metadata": {
    "execution": {
     "iopub.execute_input": "2023-06-10T20:37:41.447188Z",
     "iopub.status.busy": "2023-06-10T20:37:41.446017Z",
     "iopub.status.idle": "2023-06-10T20:37:41.531832Z",
     "shell.execute_reply": "2023-06-10T20:37:41.529263Z"
    }
   },
   "outputs": [
    {
     "data": {
      "text/plain": [
       "{'0': 35151, '1': 1124}"
      ]
     },
     "execution_count": 15,
     "metadata": {},
     "output_type": "execute_result"
    }
   ],
   "source": [
    "query_valeur_nb(\"required_car_parking_space\")"
   ]
  },
  {
   "cell_type": "markdown",
   "metadata": {},
   "source": [
    "Le champ \"required_car_parking_space\" me semble être intéressant à croiser avec d'autres champs. Par exemple: y a-t-il un rapport entre le mois de la réservation et le fait d'avoir besoin d'une place de parking? Peut-être qu'en été les gens viennent à pieds dans cet hôtel."
   ]
  },
  {
   "cell_type": "markdown",
   "metadata": {},
   "source": [
    "Pour chaque mois, le nombre de réservation avec une place de parking, et le nombre de réservation sans place de parking."
   ]
  },
  {
   "cell_type": "code",
   "execution_count": 16,
   "metadata": {
    "execution": {
     "iopub.execute_input": "2023-06-10T20:37:41.542948Z",
     "iopub.status.busy": "2023-06-10T20:37:41.541864Z",
     "iopub.status.idle": "2023-06-10T20:37:41.687802Z",
     "shell.execute_reply": "2023-06-10T20:37:41.687096Z"
    }
   },
   "outputs": [],
   "source": [
    "months = query_valeur_id(\"arrival_month\")\n",
    "parking = query_id_dict(\"required_car_parking_space\")\n",
    "a = {}\n",
    "for i in months.keys():\n",
    "    a[i] = {}\n",
    "    a[i][\"0\"] = 0\n",
    "    a[i][\"1\"] = 0\n",
    "    for r in months[i]:\n",
    "        if parking[r] == \"0\":\n",
    "            a[i][\"0\"] = a[i][\"0\"] + 1\n",
    "        elif parking[r] == \"1\":\n",
    "            a[i][\"1\"] = a[i][\"1\"] + 1\n",
    "        else:\n",
    "            pass\n",
    "    a[i][\"total\"] = a[i][\"0\"] + a[i][\"1\"]\n",
    "    a[i][\"proportion\"] = round(a[i][\"1\"] / a[i][\"total\"], 3)"
   ]
  },
  {
   "cell_type": "markdown",
   "metadata": {},
   "source": [
    "On peut voir des différences importantes dans les proportions de réservations avec voitures: de 0.018 par réservation en octobre à 0.058 en Aout."
   ]
  },
  {
   "cell_type": "code",
   "execution_count": 17,
   "metadata": {
    "execution": {
     "iopub.execute_input": "2023-06-10T20:37:41.690917Z",
     "iopub.status.busy": "2023-06-10T20:37:41.690619Z",
     "iopub.status.idle": "2023-06-10T20:37:41.695314Z",
     "shell.execute_reply": "2023-06-10T20:37:41.694443Z"
    }
   },
   "outputs": [
    {
     "name": "stdout",
     "output_type": "stream",
     "text": [
      "Oct {'0': 5222, '1': 94, 'total': 5316, 'proportion': 0.018}\n",
      "Nov {'0': 2897, '1': 82, 'total': 2979, 'proportion': 0.028}\n",
      "Feb {'0': 1650, '1': 53, 'total': 1703, 'proportion': 0.031}\n",
      "May {'0': 2532, '1': 65, 'total': 2597, 'proportion': 0.025}\n",
      "Apr {'0': 2670, '1': 65, 'total': 2735, 'proportion': 0.024}\n",
      "Sep {'0': 4509, '1': 101, 'total': 4610, 'proportion': 0.022}\n",
      "Dec {'0': 2918, '1': 102, 'total': 3020, 'proportion': 0.034}\n",
      "Jul {'0': 2801, '1': 118, 'total': 2919, 'proportion': 0.04}\n",
      "Jun {'0': 3129, '1': 73, 'total': 3202, 'proportion': 0.023}\n",
      "Aug {'0': 3590, '1': 222, 'total': 3812, 'proportion': 0.058}\n",
      "Mar {'0': 2262, '1': 95, 'total': 2357, 'proportion': 0.04}\n",
      "Jan {'0': 959, '1': 54, 'total': 1013, 'proportion': 0.053}\n"
     ]
    }
   ],
   "source": [
    "for i in a.keys():\n",
    "    print(calendar.month_name[int(i)][:3], a[i])"
   ]
  },
  {
   "cell_type": "markdown",
   "metadata": {},
   "source": [
    "Calculer l'écart entre les valeurs extrêmes."
   ]
  },
  {
   "cell_type": "code",
   "execution_count": 18,
   "metadata": {
    "execution": {
     "iopub.execute_input": "2023-06-10T20:37:41.698489Z",
     "iopub.status.busy": "2023-06-10T20:37:41.698130Z",
     "iopub.status.idle": "2023-06-10T20:37:41.703104Z",
     "shell.execute_reply": "2023-06-10T20:37:41.702328Z"
    }
   },
   "outputs": [
    {
     "name": "stdout",
     "output_type": "stream",
     "text": [
      "0.018 / 0.058 = 3.2\n"
     ]
    }
   ],
   "source": [
    "proportions = [a[i][\"proportion\"] for i in a.keys()]\n",
    "proportions.sort()\n",
    "print(\n",
    "    proportions[0],\n",
    "    \"/\",\n",
    "    proportions[-1],\n",
    "    \"=\",\n",
    "    round(proportions[-1] / proportions[0], 1),\n",
    ")"
   ]
  },
  {
   "cell_type": "markdown",
   "metadata": {},
   "source": [
    "Print les mois dans l'ordre allant de la plus grande proportion de réservation avec voiture à la plus faible. Octobre, qui a le nombre de reéservation le plus haut, a aussi, proportionnellement, le taux le plus faible de demande pour une place de parking."
   ]
  },
  {
   "cell_type": "code",
   "execution_count": 19,
   "metadata": {
    "execution": {
     "iopub.execute_input": "2023-06-10T20:37:41.706216Z",
     "iopub.status.busy": "2023-06-10T20:37:41.705931Z",
     "iopub.status.idle": "2023-06-10T20:37:41.709766Z",
     "shell.execute_reply": "2023-06-10T20:37:41.709082Z"
    }
   },
   "outputs": [],
   "source": [
    "p = [\n",
    "    (a[i][\"proportion\"], calendar.month_name[int(i)][:3])\n",
    "    for i in a.keys()\n",
    "]\n",
    "p.sort()\n",
    "p.reverse()"
   ]
  },
  {
   "cell_type": "code",
   "execution_count": 20,
   "metadata": {
    "execution": {
     "iopub.execute_input": "2023-06-10T20:37:41.712759Z",
     "iopub.status.busy": "2023-06-10T20:37:41.712508Z",
     "iopub.status.idle": "2023-06-10T20:37:41.716361Z",
     "shell.execute_reply": "2023-06-10T20:37:41.715689Z"
    }
   },
   "outputs": [
    {
     "name": "stdout",
     "output_type": "stream",
     "text": [
      "Aug : 0.058\n",
      "Jan : 0.053\n",
      "Mar : 0.04\n",
      "Jul : 0.04\n",
      "Dec : 0.034\n",
      "Feb : 0.031\n",
      "Nov : 0.028\n",
      "May : 0.025\n",
      "Apr : 0.024\n",
      "Jun : 0.023\n",
      "Sep : 0.022\n",
      "Oct : 0.018\n"
     ]
    }
   ],
   "source": [
    "for n, m in p:\n",
    "    print(m, \":\", n)"
   ]
  },
  {
   "cell_type": "markdown",
   "metadata": {},
   "source": [
    "Une explication possible aurait pu être un nombre de place limité de places de parking, qui plafonnerait le nombre absolu de demande pour des places de parking et réduirait donc mécaniquement la proportion de demande pour une place de parc pour les mois avec le plus de réservations. Mais on peut probablement écarter cela, puisque le nombre le plus haut de demande de réservation en un mois est de 222 et que le nombre de réservation en octobre est très largement inférieur (94). Il faudrait toutefois, si l'on voulait s'en assurer, étudier les dates de réservations et non les mois, pour voir le nombre le plus haut de réservations simultanées de places de parking. Une hypothèse que je formule à partir de ces résultats: les réservations de place de parking sont corrélées avec le nombre d'enfants. Des vacances d'été (s'il y en a dans le pays dans lequel se trouve cet hôtel, où dans les pays dans lesquels vivent ses clients) dans une période (disons) standardisée pour l'ensemble d'une population pourrait être une explication pour ces disparités. Je commence par faire la même opération mais avec la colonne \"no_of_children\"."
   ]
  },
  {
   "cell_type": "code",
   "execution_count": 21,
   "metadata": {
    "execution": {
     "iopub.execute_input": "2023-06-10T20:37:41.719336Z",
     "iopub.status.busy": "2023-06-10T20:37:41.719089Z",
     "iopub.status.idle": "2023-06-10T20:37:41.777881Z",
     "shell.execute_reply": "2023-06-10T20:37:41.777165Z"
    }
   },
   "outputs": [],
   "source": [
    "months = query_valeur_id(\"arrival_month\")\n",
    "children = query_id_dict(\"no_of_children\")\n",
    "b = {}\n",
    "for i in months.keys():\n",
    "    b[i] = {}\n",
    "    b[i][\"0\"] = 0\n",
    "    b[i][\"1\"] = 0\n",
    "    for r in months[i]:\n",
    "        if children[r] == \"0\":\n",
    "            b[i][\"0\"] = b[i][\"0\"] + 1\n",
    "        elif int(children[r]) > 0:\n",
    "            b[i][\"1\"] = b[i][\"1\"] + 1\n",
    "        else:\n",
    "            pass\n",
    "    b[i][\"total\"] = b[i][\"0\"] + b[i][\"1\"]\n",
    "    b[i][\"proportion\"] = round(b[i][\"1\"] / b[i][\"total\"], 3)"
   ]
  },
  {
   "cell_type": "markdown",
   "metadata": {},
   "source": [
    "Calculer l'écart entre les valeur extrêmes."
   ]
  },
  {
   "cell_type": "code",
   "execution_count": 22,
   "metadata": {
    "execution": {
     "iopub.execute_input": "2023-06-10T20:37:41.781064Z",
     "iopub.status.busy": "2023-06-10T20:37:41.780819Z",
     "iopub.status.idle": "2023-06-10T20:37:41.785302Z",
     "shell.execute_reply": "2023-06-10T20:37:41.784564Z"
    }
   },
   "outputs": [
    {
     "name": "stdout",
     "output_type": "stream",
     "text": [
      "0.04 / 0.139 = 3.5\n"
     ]
    }
   ],
   "source": [
    "proportions = [b[i][\"proportion\"] for i in b.keys()]\n",
    "proportions.sort()\n",
    "print(\n",
    "    proportions[0],\n",
    "    \"/\",\n",
    "    proportions[-1],\n",
    "    \"=\",\n",
    "    round(proportions[-1] / proportions[0], 1),\n",
    ")"
   ]
  },
  {
   "cell_type": "code",
   "execution_count": 23,
   "metadata": {
    "execution": {
     "iopub.execute_input": "2023-06-10T20:37:41.788635Z",
     "iopub.status.busy": "2023-06-10T20:37:41.788347Z",
     "iopub.status.idle": "2023-06-10T20:37:41.797855Z",
     "shell.execute_reply": "2023-06-10T20:37:41.794712Z"
    }
   },
   "outputs": [],
   "source": [
    "q = [\n",
    "    (b[i][\"proportion\"], calendar.month_name[int(i)][:3])\n",
    "    for i in b.keys()\n",
    "]\n",
    "q.sort()\n",
    "q.reverse()"
   ]
  },
  {
   "cell_type": "markdown",
   "metadata": {},
   "source": [
    "Print les résultats. Comme pour les places de parking, le mois avec, proportionnellement, le plus de réservation avec enfant est le mois d'aout."
   ]
  },
  {
   "cell_type": "code",
   "execution_count": 24,
   "metadata": {
    "execution": {
     "iopub.execute_input": "2023-06-10T20:37:41.808616Z",
     "iopub.status.busy": "2023-06-10T20:37:41.807756Z",
     "iopub.status.idle": "2023-06-10T20:37:41.820284Z",
     "shell.execute_reply": "2023-06-10T20:37:41.817858Z"
    }
   },
   "outputs": [
    {
     "name": "stdout",
     "output_type": "stream",
     "text": [
      "Aug : 0.139\n",
      "Jul : 0.131\n",
      "Dec : 0.098\n",
      "Apr : 0.078\n",
      "Mar : 0.076\n",
      "Feb : 0.07\n",
      "May : 0.061\n",
      "Oct : 0.053\n",
      "Sep : 0.048\n",
      "Jun : 0.048\n",
      "Jan : 0.041\n",
      "Nov : 0.04\n"
     ]
    }
   ],
   "source": [
    "for n, m in q:\n",
    "    print(m, \":\", n)"
   ]
  },
  {
   "cell_type": "markdown",
   "metadata": {},
   "source": [
    "Maintenant, je vais essayer de voir si les familles avec enfant sont aussi les familles avec parking."
   ]
  },
  {
   "cell_type": "code",
   "execution_count": 25,
   "metadata": {
    "execution": {
     "iopub.execute_input": "2023-06-10T20:37:41.831796Z",
     "iopub.status.busy": "2023-06-10T20:37:41.830849Z",
     "iopub.status.idle": "2023-06-10T20:37:41.959115Z",
     "shell.execute_reply": "2023-06-10T20:37:41.956677Z"
    }
   },
   "outputs": [],
   "source": [
    "children = query_valeur_id(\"no_of_children\")\n",
    "parking = query_id_dict(\"required_car_parking_space\")"
   ]
  },
  {
   "cell_type": "markdown",
   "metadata": {},
   "source": [
    "Deux fonctions qui retournent \"True\" si les reservations contiennent une valeur supérieure à 0 pour, respectivement, la colonne \"no_of_children\" et la colonne \"required_car_parking_space\"."
   ]
  },
  {
   "cell_type": "code",
   "execution_count": 26,
   "metadata": {
    "execution": {
     "iopub.execute_input": "2023-06-10T20:37:41.970171Z",
     "iopub.status.busy": "2023-06-10T20:37:41.969345Z",
     "iopub.status.idle": "2023-06-10T20:37:41.980555Z",
     "shell.execute_reply": "2023-06-10T20:37:41.978100Z"
    }
   },
   "outputs": [],
   "source": [
    "def with_children(key: str):\n",
    "    return int(data[key][\"no_of_children\"]) > 0"
   ]
  },
  {
   "cell_type": "code",
   "execution_count": 27,
   "metadata": {
    "execution": {
     "iopub.execute_input": "2023-06-10T20:37:41.991022Z",
     "iopub.status.busy": "2023-06-10T20:37:41.989920Z",
     "iopub.status.idle": "2023-06-10T20:37:42.002326Z",
     "shell.execute_reply": "2023-06-10T20:37:41.999062Z"
    }
   },
   "outputs": [],
   "source": [
    "def with_parking(key: str):\n",
    "    return data[key][\"required_car_parking_space\"] != \"0\""
   ]
  },
  {
   "cell_type": "markdown",
   "metadata": {},
   "source": [
    "Compter les réservations pour construire les quatre possibilités: sans enfant ni parking, sans enfant mais avec parking, avec enfant mais sans parking, avec enfant et avec parking. (Le code est un peu désespérant, toutes mes excuses.)"
   ]
  },
  {
   "cell_type": "code",
   "execution_count": 28,
   "metadata": {
    "execution": {
     "iopub.execute_input": "2023-06-10T20:37:42.013366Z",
     "iopub.status.busy": "2023-06-10T20:37:42.012490Z",
     "iopub.status.idle": "2023-06-10T20:37:42.166557Z",
     "shell.execute_reply": "2023-06-10T20:37:42.165595Z"
    }
   },
   "outputs": [],
   "source": [
    "d = {}\n",
    "d[\"children, parking\"] = len(\n",
    "    [i for i in data.keys() if with_children(i) and with_parking(i)]\n",
    ")\n",
    "d[\"children, no parking\"] = len(\n",
    "    [\n",
    "        i\n",
    "        for i in data.keys()\n",
    "        if with_children(i) and not with_parking(i)\n",
    "    ]\n",
    ")\n",
    "d[\"no children, no parking\"] = len(\n",
    "    [\n",
    "        i\n",
    "        for i in data.keys()\n",
    "        if not with_children(i) and not with_parking(i)\n",
    "    ]\n",
    ")\n",
    "d[\"no children, parking\"] = len(\n",
    "    [\n",
    "        i\n",
    "        for i in data.keys()\n",
    "        if not with_children(i) and with_parking(i)\n",
    "    ]\n",
    ")\n",
    "d[\"children\"] = d[\"children, parking\"] + d[\"children, no parking\"]\n",
    "d[\"no children\"] = (\n",
    "    d[\"no children, parking\"] + d[\"no children, no parking\"]\n",
    ")\n",
    "d[\"parking\"] = d[\"children, parking\"] + d[\"no children, parking\"]\n",
    "d[\"no parking\"] = (\n",
    "    d[\"children, no parking\"] + d[\"no children, no parking\"]\n",
    ")\n",
    "total = len(csv[1:])"
   ]
  },
  {
   "cell_type": "code",
   "execution_count": 29,
   "metadata": {
    "execution": {
     "iopub.execute_input": "2023-06-10T20:37:42.170933Z",
     "iopub.status.busy": "2023-06-10T20:37:42.170549Z",
     "iopub.status.idle": "2023-06-10T20:37:42.177095Z",
     "shell.execute_reply": "2023-06-10T20:37:42.175465Z"
    }
   },
   "outputs": [
    {
     "name": "stdout",
     "output_type": "stream",
     "text": [
      "children, parking : 137\n",
      "children, no parking : 2561\n",
      "no children, no parking : 32590\n",
      "no children, parking : 987\n",
      "children : 2698\n",
      "no children : 33577\n",
      "parking : 1124\n",
      "no parking : 35151\n"
     ]
    }
   ],
   "source": [
    "for i in d.keys():\n",
    "    print(i, \":\", d[i])"
   ]
  },
  {
   "cell_type": "markdown",
   "metadata": {},
   "source": [
    "Parmi les réservations avec enfant, la proportion de réservation avec place de parking est plus importante que la proportion de réservation avec place de parc dans l'ensemble des réservations. Mais je ne saurais trop juger si cela est significatif.(Il faudrait probablement utiliser ici le test statistique du Chi-2.)"
   ]
  },
  {
   "cell_type": "code",
   "execution_count": 30,
   "metadata": {
    "execution": {
     "iopub.execute_input": "2023-06-10T20:37:42.182644Z",
     "iopub.status.busy": "2023-06-10T20:37:42.182183Z",
     "iopub.status.idle": "2023-06-10T20:37:42.190113Z",
     "shell.execute_reply": "2023-06-10T20:37:42.188345Z"
    }
   },
   "outputs": [
    {
     "name": "stdout",
     "output_type": "stream",
     "text": [
      "0.051\n",
      "0.031\n"
     ]
    }
   ],
   "source": [
    "print(round(d['children, parking'] / d['children'], 3))\n",
    "print(round(d['parking'] / total, 3))"
   ]
  }
 ],
 "metadata": {
  "kernelspec": {
   "display_name": "Python 3",
   "language": "python",
   "name": "python3"
  },
  "language_info": {
   "codemirror_mode": {
    "name": "ipython",
    "version": 3
   },
   "file_extension": ".py",
   "mimetype": "text/x-python",
   "name": "python",
   "nbconvert_exporter": "python",
   "pygments_lexer": "ipython3",
   "version": "3.9.2"
  }
 },
 "nbformat": 4,
 "nbformat_minor": 2
}
