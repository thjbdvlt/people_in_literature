{
 "cells": [
  {
   "cell_type": "markdown",
   "metadata": {},
   "source": [
    "\n",
    "<br>\n",
    "Exploration d'une jeu de données de réservations d'hôtel issu du site Kaggle.<br>\n"
   ]
  },
  {
   "cell_type": "code",
   "execution_count": 1,
   "metadata": {
    "execution": {
     "iopub.execute_input": "2023-06-10T14:46:44.577819Z",
     "iopub.status.busy": "2023-06-10T14:46:44.577373Z",
     "iopub.status.idle": "2023-06-10T14:46:44.589873Z",
     "shell.execute_reply": "2023-06-10T14:46:44.588504Z"
    }
   },
   "outputs": [],
   "source": [
    "from collections import Counter\n",
    "import calendar"
   ]
  },
  {
   "cell_type": "markdown",
   "metadata": {},
   "source": [
    "Je lis le contenu du csv."
   ]
  },
  {
   "cell_type": "code",
   "execution_count": 2,
   "metadata": {
    "execution": {
     "iopub.execute_input": "2023-06-10T14:46:44.597063Z",
     "iopub.status.busy": "2023-06-10T14:46:44.595987Z",
     "iopub.status.idle": "2023-06-10T14:46:44.628516Z",
     "shell.execute_reply": "2023-06-10T14:46:44.626790Z"
    }
   },
   "outputs": [],
   "source": [
    "csvpath = \"./hotel_reservations.csv\"\n",
    "with open(csvpath, \"r\") as f:\n",
    "    csv = f.readlines()"
   ]
  },
  {
   "cell_type": "markdown",
   "metadata": {},
   "source": [
    "Je transforme chaque ligne en une liste. L'ensemble est donc une liste de listes."
   ]
  },
  {
   "cell_type": "code",
   "execution_count": 3,
   "metadata": {
    "execution": {
     "iopub.execute_input": "2023-06-10T14:46:44.636313Z",
     "iopub.status.busy": "2023-06-10T14:46:44.635547Z",
     "iopub.status.idle": "2023-06-10T14:46:44.781792Z",
     "shell.execute_reply": "2023-06-10T14:46:44.780764Z"
    }
   },
   "outputs": [
    {
     "data": {
      "text/plain": [
       "[['Booking_ID',\n",
       "  'no_of_adults',\n",
       "  'no_of_children',\n",
       "  'no_of_weekend_nights',\n",
       "  'no_of_week_nights',\n",
       "  'type_of_meal_plan',\n",
       "  'required_car_parking_space',\n",
       "  'room_type_reserved',\n",
       "  'lead_time',\n",
       "  'arrival_year',\n",
       "  'arrival_month',\n",
       "  'arrival_date',\n",
       "  'market_segment_type',\n",
       "  'repeated_guest',\n",
       "  'no_of_previous_cancellations',\n",
       "  'no_of_previous_bookings_not_canceled',\n",
       "  'avg_price_per_room',\n",
       "  'no_of_special_requests',\n",
       "  'booking_status\\n']]"
      ]
     },
     "execution_count": 3,
     "metadata": {},
     "output_type": "execute_result"
    }
   ],
   "source": [
    "csv = [line.split(\",\") for line in csv]\n",
    "csv[:1]"
   ]
  },
  {
   "cell_type": "markdown",
   "metadata": {},
   "source": [
    "Pour pouvoir plus facilement travailler, je transforme la liste de listes en dictionnaires de dictionnaires (nested dicts). L'ensemble est un dictionnaire, et chaque ligne du csv (= chaque réservation) va constituer un sous-dictionnaire, dont les clés correspondront aux entêtes du csv (les intitulés des colonnes)"
   ]
  },
  {
   "cell_type": "code",
   "execution_count": 4,
   "metadata": {
    "execution": {
     "iopub.execute_input": "2023-06-10T14:46:44.838706Z",
     "iopub.status.busy": "2023-06-10T14:46:44.838364Z",
     "iopub.status.idle": "2023-06-10T14:46:45.051820Z",
     "shell.execute_reply": "2023-06-10T14:46:45.051117Z"
    }
   },
   "outputs": [],
   "source": [
    "c = {}\n",
    "for line in csv[1:]:\n",
    "    no_reservation = line[0]\n",
    "    c[no_reservation] = {}\n",
    "    colonnes = [i for i in range(1, len(line))]\n",
    "    for no in colonnes:\n",
    "        c[no_reservation][csv[0][no]] = line[no]"
   ]
  },
  {
   "cell_type": "markdown",
   "metadata": {},
   "source": [
    "Combien d'années différentes sont concernées par ces réservations?"
   ]
  },
  {
   "cell_type": "code",
   "execution_count": 5,
   "metadata": {
    "execution": {
     "iopub.execute_input": "2023-06-10T14:46:45.055129Z",
     "iopub.status.busy": "2023-06-10T14:46:45.054884Z",
     "iopub.status.idle": "2023-06-10T14:46:45.073757Z",
     "shell.execute_reply": "2023-06-10T14:46:45.072941Z"
    }
   },
   "outputs": [
    {
     "data": {
      "text/plain": [
       "Counter({'2018': 29761, '2017': 6514})"
      ]
     },
     "execution_count": 5,
     "metadata": {},
     "output_type": "execute_result"
    }
   ],
   "source": [
    "years = [c[i][\"arrival_year\"] for i in c.keys()]\n",
    "Counter(years)"
   ]
  },
  {
   "cell_type": "markdown",
   "metadata": {},
   "source": [
    "Y a-t-il des réservations pour tous les mois de l'années?"
   ]
  },
  {
   "cell_type": "code",
   "execution_count": 6,
   "metadata": {
    "execution": {
     "iopub.execute_input": "2023-06-10T14:46:45.076907Z",
     "iopub.status.busy": "2023-06-10T14:46:45.076567Z",
     "iopub.status.idle": "2023-06-10T14:46:45.096820Z",
     "shell.execute_reply": "2023-06-10T14:46:45.096158Z"
    }
   },
   "outputs": [
    {
     "data": {
      "text/plain": [
       "Counter({'10': 5317,\n",
       "         '9': 4611,\n",
       "         '8': 3813,\n",
       "         '6': 3203,\n",
       "         '12': 3021,\n",
       "         '11': 2980,\n",
       "         '7': 2920,\n",
       "         '4': 2736,\n",
       "         '5': 2598,\n",
       "         '3': 2358,\n",
       "         '2': 1704,\n",
       "         '1': 1014})"
      ]
     },
     "execution_count": 6,
     "metadata": {},
     "output_type": "execute_result"
    }
   ],
   "source": [
    "months = [c[i][\"arrival_month\"] for i in c.keys()]\n",
    "Counter(months)"
   ]
  },
  {
   "cell_type": "markdown",
   "metadata": {},
   "source": [
    "Je crée quelques fonctions simples pour explorer quelques aspects de ces données."
   ]
  },
  {
   "cell_type": "markdown",
   "metadata": {},
   "source": [
    "Fonction qui retourne une liste de tuples: l'id de la réservation et la valeur d'une colonne à choix, entrée comme paramètre."
   ]
  },
  {
   "cell_type": "code",
   "execution_count": 7,
   "metadata": {
    "execution": {
     "iopub.execute_input": "2023-06-10T14:46:45.100198Z",
     "iopub.status.busy": "2023-06-10T14:46:45.099908Z",
     "iopub.status.idle": "2023-06-10T14:46:45.103555Z",
     "shell.execute_reply": "2023-06-10T14:46:45.102845Z"
    }
   },
   "outputs": [],
   "source": [
    "def query_id_col(col: str):\n",
    "    a = [(i, c[i][col]) for i in c.keys()]\n",
    "    return a"
   ]
  },
  {
   "cell_type": "markdown",
   "metadata": {},
   "source": [
    "Fonction qui retourne un dictionnaire associant (clé) l'id de la réservation à (valeur) la valeur attribuée à la colonne choisie pour cette réservation."
   ]
  },
  {
   "cell_type": "code",
   "execution_count": 8,
   "metadata": {
    "execution": {
     "iopub.execute_input": "2023-06-10T14:46:45.106558Z",
     "iopub.status.busy": "2023-06-10T14:46:45.106232Z",
     "iopub.status.idle": "2023-06-10T14:46:45.110356Z",
     "shell.execute_reply": "2023-06-10T14:46:45.109517Z"
    }
   },
   "outputs": [],
   "source": [
    "def query_id_dict(col: str):\n",
    "    di = {}\n",
    "    for i in c.keys():\n",
    "        di[i] = c[i][col]\n",
    "    return di"
   ]
  },
  {
   "cell_type": "markdown",
   "metadata": {},
   "source": [
    "Fonction qui retourne pour une colonne, un dictionnaire qui associe (clé) les valeurs existantes pour cette colonnes au (valeur) nombre de réservation avec cette valeur dans cette colonne."
   ]
  },
  {
   "cell_type": "code",
   "execution_count": 9,
   "metadata": {
    "execution": {
     "iopub.execute_input": "2023-06-10T14:46:45.113328Z",
     "iopub.status.busy": "2023-06-10T14:46:45.113001Z",
     "iopub.status.idle": "2023-06-10T14:46:45.117625Z",
     "shell.execute_reply": "2023-06-10T14:46:45.116876Z"
    }
   },
   "outputs": [],
   "source": [
    "def query_valeur_nb(col: str):\n",
    "    a = [(i, c[i][col]) for i in c.keys()]\n",
    "    values = {}\n",
    "    for i in a:\n",
    "        if i[1] not in values.keys():\n",
    "            values[i[1]] = 0\n",
    "        else:\n",
    "            values[i[1]] = values[i[1]] + 1\n",
    "    return values"
   ]
  },
  {
   "cell_type": "markdown",
   "metadata": {},
   "source": [
    "Fonction qui retourne, pour une colonne, un dictionnaire associant (clé) les valeurs existantes pour cette colonne à (valeur) une liste des ids des réservations ayant cette valeur."
   ]
  },
  {
   "cell_type": "code",
   "execution_count": 10,
   "metadata": {
    "execution": {
     "iopub.execute_input": "2023-06-10T14:46:45.120600Z",
     "iopub.status.busy": "2023-06-10T14:46:45.120275Z",
     "iopub.status.idle": "2023-06-10T14:46:45.124712Z",
     "shell.execute_reply": "2023-06-10T14:46:45.124009Z"
    }
   },
   "outputs": [],
   "source": [
    "def query_valeur_id(col: str):\n",
    "    a = [(i, c[i][col]) for i in c.keys()]\n",
    "    values = {}\n",
    "    for i in a:\n",
    "        if i[1] not in values.keys():\n",
    "            values[i[1]] = []\n",
    "        else:\n",
    "            values[i[1]].append(i[0])\n",
    "    return values"
   ]
  },
  {
   "cell_type": "markdown",
   "metadata": {},
   "source": [
    "Question qui nous permettra peut-etre d'en apprendre davantage sur le type d'établissement: les saisons de réservations."
   ]
  },
  {
   "cell_type": "code",
   "execution_count": 11,
   "metadata": {
    "execution": {
     "iopub.execute_input": "2023-06-10T14:46:45.127796Z",
     "iopub.status.busy": "2023-06-10T14:46:45.127529Z",
     "iopub.status.idle": "2023-06-10T14:46:45.161680Z",
     "shell.execute_reply": "2023-06-10T14:46:45.161013Z"
    }
   },
   "outputs": [
    {
     "name": "stdout",
     "output_type": "stream",
     "text": [
      "Oct ||||||||||||||||||||||||||||||||||||||||||||||||||||| 5316\n",
      "Nov ||||||||||||||||||||||||||||| 2979\n",
      "Feb ||||||||||||||||| 1703\n",
      "May ||||||||||||||||||||||||| 2597\n",
      "Apr ||||||||||||||||||||||||||| 2735\n",
      "Sep |||||||||||||||||||||||||||||||||||||||||||||| 4610\n",
      "Dec |||||||||||||||||||||||||||||| 3020\n",
      "Jul ||||||||||||||||||||||||||||| 2919\n",
      "Jun |||||||||||||||||||||||||||||||| 3202\n",
      "Aug |||||||||||||||||||||||||||||||||||||| 3812\n",
      "Mar ||||||||||||||||||||||| 2357\n",
      "Jan |||||||||| 1013\n"
     ]
    }
   ],
   "source": [
    "months = query_valeur_nb(\"arrival_month\")\n",
    "for m in months.keys():\n",
    "    j = \"|\" * int(months[m] / 100)\n",
    "    print(calendar.month_name[int(m)][:3], j, months[m])"
   ]
  },
  {
   "cell_type": "markdown",
   "metadata": {},
   "source": [
    "Pour y voir un peu mieux, mettre les mois dans l'ordre, et répéter l'opération."
   ]
  },
  {
   "cell_type": "code",
   "execution_count": 12,
   "metadata": {
    "execution": {
     "iopub.execute_input": "2023-06-10T14:46:45.164773Z",
     "iopub.status.busy": "2023-06-10T14:46:45.164500Z",
     "iopub.status.idle": "2023-06-10T14:46:45.169466Z",
     "shell.execute_reply": "2023-06-10T14:46:45.168719Z"
    }
   },
   "outputs": [
    {
     "name": "stdout",
     "output_type": "stream",
     "text": [
      "Jan |||||||||| 1013\n",
      "Feb ||||||||||||||||| 1703\n",
      "Mar ||||||||||||||||||||||| 2357\n",
      "Apr ||||||||||||||||||||||||||| 2735\n",
      "May ||||||||||||||||||||||||| 2597\n",
      "Jun |||||||||||||||||||||||||||||||| 3202\n",
      "Jul ||||||||||||||||||||||||||||| 2919\n",
      "Aug |||||||||||||||||||||||||||||||||||||| 3812\n",
      "Sep |||||||||||||||||||||||||||||||||||||||||||||| 4610\n",
      "Oct ||||||||||||||||||||||||||||||||||||||||||||||||||||| 5316\n",
      "Nov ||||||||||||||||||||||||||||| 2979\n",
      "Dec |||||||||||||||||||||||||||||| 3020\n"
     ]
    }
   ],
   "source": [
    "months_sorted = [(int(m), months[m]) for m in months.keys()]\n",
    "months_sorted.sort()\n",
    "months_sorted\n",
    "for m in months_sorted:\n",
    "    j = \"|\" * int(m[1] / 100)\n",
    "    print(calendar.month_name[m[0]][:3], j, m[1])"
   ]
  },
  {
   "cell_type": "markdown",
   "metadata": {},
   "source": [
    "Vraisemblablement, il ne s'agit pas d'un hôtel dont le public-cible est constitué de skieureuses. Les mois d'hivers et du début du printemps sont ceux pour lesquels il y a le moins de réservations."
   ]
  },
  {
   "cell_type": "markdown",
   "metadata": {},
   "source": [
    "La colonne \"required_car_parking_space\"."
   ]
  },
  {
   "cell_type": "code",
   "execution_count": 13,
   "metadata": {
    "execution": {
     "iopub.execute_input": "2023-06-10T14:46:45.172742Z",
     "iopub.status.busy": "2023-06-10T14:46:45.172455Z",
     "iopub.status.idle": "2023-06-10T14:46:45.199529Z",
     "shell.execute_reply": "2023-06-10T14:46:45.198716Z"
    }
   },
   "outputs": [
    {
     "data": {
      "text/plain": [
       "{'0': 35150, '1': 1123}"
      ]
     },
     "execution_count": 13,
     "metadata": {},
     "output_type": "execute_result"
    }
   ],
   "source": [
    "query_valeur_nb(\"required_car_parking_space\")"
   ]
  },
  {
   "cell_type": "markdown",
   "metadata": {},
   "source": [
    "Le champ \"required_car_parking_space\" me semble être intéressant à croiser avec d'autres champs. Par exemple, y a-t-il un rapport entre le mois de la réservation et le fait d'avoir besoin d'une place de parking? Peut-être qu'en été les gens viennent à pieds dans cet hôtel."
   ]
  },
  {
   "cell_type": "markdown",
   "metadata": {},
   "source": [
    "Pour chaque mois, le nombre de réservation avec une place de parking, et le nombre de réservation sans place de parking.<br>\n",
    "months_id = query_id_dict(\"required_car_parking_space\")<br>\n",
    "parking = query_valeur_id(\"required_car_parking_space\")"
   ]
  },
  {
   "cell_type": "code",
   "execution_count": 14,
   "metadata": {
    "execution": {
     "iopub.execute_input": "2023-06-10T14:46:45.202486Z",
     "iopub.status.busy": "2023-06-10T14:46:45.202233Z",
     "iopub.status.idle": "2023-06-10T14:46:45.259021Z",
     "shell.execute_reply": "2023-06-10T14:46:45.258331Z"
    }
   },
   "outputs": [],
   "source": [
    "months = query_valeur_id(\"arrival_month\")\n",
    "parking = query_id_dict(\"required_car_parking_space\")\n",
    "a = {}\n",
    "for i in months.keys():\n",
    "    a[i] = {}\n",
    "    a[i][\"0\"] = 0\n",
    "    a[i][\"1\"] = 0\n",
    "    for r in months[i]:\n",
    "        if parking[r] == \"0\":\n",
    "            a[i][\"0\"] = a[i][\"0\"] + 1\n",
    "        elif parking[r] == \"1\":\n",
    "            a[i][\"1\"] = a[i][\"1\"] + 1\n",
    "        else:\n",
    "            pass\n",
    "    a[i][\"total\"] = a[i][\"0\"] + a[i][\"1\"]\n",
    "    a[i][\"proportion\"] = round(a[i][\"1\"] / a[i][\"total\"], 3)"
   ]
  },
  {
   "cell_type": "markdown",
   "metadata": {},
   "source": [
    "On peut voir des différences importantes dans les proportions de réservations avec voitures: de 0.018 par réservation en octobre à 0.058 en Aout."
   ]
  },
  {
   "cell_type": "code",
   "execution_count": 15,
   "metadata": {
    "execution": {
     "iopub.execute_input": "2023-06-10T14:46:45.262208Z",
     "iopub.status.busy": "2023-06-10T14:46:45.261903Z",
     "iopub.status.idle": "2023-06-10T14:46:45.266056Z",
     "shell.execute_reply": "2023-06-10T14:46:45.265332Z"
    }
   },
   "outputs": [
    {
     "name": "stdout",
     "output_type": "stream",
     "text": [
      "Oct {'0': 5222, '1': 94, 'total': 5316, 'proportion': 0.018}\n",
      "Nov {'0': 2897, '1': 82, 'total': 2979, 'proportion': 0.028}\n",
      "Feb {'0': 1650, '1': 53, 'total': 1703, 'proportion': 0.031}\n",
      "May {'0': 2532, '1': 65, 'total': 2597, 'proportion': 0.025}\n",
      "Apr {'0': 2670, '1': 65, 'total': 2735, 'proportion': 0.024}\n",
      "Sep {'0': 4509, '1': 101, 'total': 4610, 'proportion': 0.022}\n",
      "Dec {'0': 2918, '1': 102, 'total': 3020, 'proportion': 0.034}\n",
      "Jul {'0': 2801, '1': 118, 'total': 2919, 'proportion': 0.04}\n",
      "Jun {'0': 3129, '1': 73, 'total': 3202, 'proportion': 0.023}\n",
      "Aug {'0': 3590, '1': 222, 'total': 3812, 'proportion': 0.058}\n",
      "Mar {'0': 2262, '1': 95, 'total': 2357, 'proportion': 0.04}\n",
      "Jan {'0': 959, '1': 54, 'total': 1013, 'proportion': 0.053}\n"
     ]
    }
   ],
   "source": [
    "for i in a.keys():\n",
    "    print(calendar.month_name[int(i)][:3], a[i])"
   ]
  },
  {
   "cell_type": "markdown",
   "metadata": {},
   "source": [
    "Calculer l'écart."
   ]
  },
  {
   "cell_type": "code",
   "execution_count": 16,
   "metadata": {
    "execution": {
     "iopub.execute_input": "2023-06-10T14:46:45.269492Z",
     "iopub.status.busy": "2023-06-10T14:46:45.269204Z",
     "iopub.status.idle": "2023-06-10T14:46:45.273672Z",
     "shell.execute_reply": "2023-06-10T14:46:45.272941Z"
    }
   },
   "outputs": [
    {
     "name": "stdout",
     "output_type": "stream",
     "text": [
      "0.018 / 0.058 = 3.2\n"
     ]
    }
   ],
   "source": [
    "proportions = [a[i][\"proportion\"] for i in a.keys()]\n",
    "proportions.sort()\n",
    "print(\n",
    "    proportions[0],\n",
    "    \"/\",\n",
    "    proportions[-1],\n",
    "    \"=\",\n",
    "    round(proportions[-1] / proportions[0], 1),\n",
    ")"
   ]
  },
  {
   "cell_type": "markdown",
   "metadata": {},
   "source": [
    "Print les mois par la valeur \"proportion\"."
   ]
  },
  {
   "cell_type": "code",
   "execution_count": 17,
   "metadata": {
    "execution": {
     "iopub.execute_input": "2023-06-10T14:46:45.277119Z",
     "iopub.status.busy": "2023-06-10T14:46:45.276827Z",
     "iopub.status.idle": "2023-06-10T14:46:45.280824Z",
     "shell.execute_reply": "2023-06-10T14:46:45.280094Z"
    }
   },
   "outputs": [],
   "source": [
    "p = [\n",
    "    (a[i][\"proportion\"], calendar.month_name[int(i)][:3])\n",
    "    for i in a.keys()\n",
    "]\n",
    "p.sort()\n",
    "p.reverse()"
   ]
  },
  {
   "cell_type": "code",
   "execution_count": 18,
   "metadata": {
    "execution": {
     "iopub.execute_input": "2023-06-10T14:46:45.283783Z",
     "iopub.status.busy": "2023-06-10T14:46:45.283441Z",
     "iopub.status.idle": "2023-06-10T14:46:45.287953Z",
     "shell.execute_reply": "2023-06-10T14:46:45.287162Z"
    }
   },
   "outputs": [
    {
     "name": "stdout",
     "output_type": "stream",
     "text": [
      "Aug : 0.058\n",
      "Jan : 0.053\n",
      "Mar : 0.04\n",
      "Jul : 0.04\n",
      "Dec : 0.034\n",
      "Feb : 0.031\n",
      "Nov : 0.028\n",
      "May : 0.025\n",
      "Apr : 0.024\n",
      "Jun : 0.023\n",
      "Sep : 0.022\n",
      "Oct : 0.018\n"
     ]
    }
   ],
   "source": [
    "for n, m in p:\n",
    "    print(m, \":\", n)"
   ]
  },
  {
   "cell_type": "markdown",
   "metadata": {},
   "source": [
    "Une hypothèse que je formule à partir de ces résultats: les réservations de place de parking sont corrélées avec le nombre d'enfants. Des vacances d'été (s'il y en a dans le pays dans lequel se trouve cet hôtel, où dans les pays dans lesquels vivent ses clients) dans une période (disons) standardisée pour l'ensemble d'une population pourrait être une explication pour ces disparités. Je commence par faire la même opération mais avec la colonne \"no_of_children\"."
   ]
  },
  {
   "cell_type": "code",
   "execution_count": 19,
   "metadata": {
    "execution": {
     "iopub.execute_input": "2023-06-10T14:46:45.291102Z",
     "iopub.status.busy": "2023-06-10T14:46:45.290788Z",
     "iopub.status.idle": "2023-06-10T14:46:45.349079Z",
     "shell.execute_reply": "2023-06-10T14:46:45.348423Z"
    }
   },
   "outputs": [],
   "source": [
    "months = query_valeur_id(\"arrival_month\")\n",
    "children = query_id_dict(\"no_of_children\")\n",
    "b = {}\n",
    "for i in months.keys():\n",
    "    b[i] = {}\n",
    "    b[i][\"0\"] = 0\n",
    "    b[i][\"1\"] = 0\n",
    "    for r in months[i]:\n",
    "        if children[r] == \"0\":\n",
    "            b[i][\"0\"] = b[i][\"0\"] + 1\n",
    "        elif int(children[r]) > 0:\n",
    "            b[i][\"1\"] = b[i][\"1\"] + 1\n",
    "        else:\n",
    "            pass\n",
    "    b[i][\"total\"] = b[i][\"0\"] + b[i][\"1\"]\n",
    "    b[i][\"proportion\"] = round(b[i][\"1\"] / b[i][\"total\"], 3)"
   ]
  },
  {
   "cell_type": "markdown",
   "metadata": {},
   "source": [
    "On peut voir des différences importantes dans les proportions de réservations avec voitures: de 0.018 par réservation en octobre à 0.058 en Aout."
   ]
  },
  {
   "cell_type": "code",
   "execution_count": 20,
   "metadata": {
    "execution": {
     "iopub.execute_input": "2023-06-10T14:46:45.352392Z",
     "iopub.status.busy": "2023-06-10T14:46:45.352124Z",
     "iopub.status.idle": "2023-06-10T14:46:45.356285Z",
     "shell.execute_reply": "2023-06-10T14:46:45.355631Z"
    }
   },
   "outputs": [
    {
     "name": "stdout",
     "output_type": "stream",
     "text": [
      "Oct {'0': 5035, '1': 281, 'total': 5316, 'proportion': 0.053}\n",
      "Nov {'0': 2861, '1': 118, 'total': 2979, 'proportion': 0.04}\n",
      "Feb {'0': 1583, '1': 120, 'total': 1703, 'proportion': 0.07}\n",
      "May {'0': 2438, '1': 159, 'total': 2597, 'proportion': 0.061}\n",
      "Apr {'0': 2521, '1': 214, 'total': 2735, 'proportion': 0.078}\n",
      "Sep {'0': 4387, '1': 223, 'total': 4610, 'proportion': 0.048}\n",
      "Dec {'0': 2723, '1': 297, 'total': 3020, 'proportion': 0.098}\n",
      "Jul {'0': 2538, '1': 381, 'total': 2919, 'proportion': 0.131}\n",
      "Jun {'0': 3048, '1': 154, 'total': 3202, 'proportion': 0.048}\n",
      "Aug {'0': 3283, '1': 529, 'total': 3812, 'proportion': 0.139}\n",
      "Mar {'0': 2177, '1': 180, 'total': 2357, 'proportion': 0.076}\n",
      "Jan {'0': 971, '1': 42, 'total': 1013, 'proportion': 0.041}\n"
     ]
    }
   ],
   "source": [
    "for i in b.keys():\n",
    "    print(calendar.month_name[int(i)][:3], b[i])"
   ]
  },
  {
   "cell_type": "markdown",
   "metadata": {},
   "source": [
    "Calculer l'écart"
   ]
  },
  {
   "cell_type": "code",
   "execution_count": 21,
   "metadata": {
    "execution": {
     "iopub.execute_input": "2023-06-10T14:46:45.359245Z",
     "iopub.status.busy": "2023-06-10T14:46:45.359002Z",
     "iopub.status.idle": "2023-06-10T14:46:45.363462Z",
     "shell.execute_reply": "2023-06-10T14:46:45.362732Z"
    }
   },
   "outputs": [
    {
     "name": "stdout",
     "output_type": "stream",
     "text": [
      "0.04 / 0.139 = 3.5\n"
     ]
    }
   ],
   "source": [
    "proportions = [b[i][\"proportion\"] for i in b.keys()]\n",
    "proportions.sort()\n",
    "print(\n",
    "    proportions[0],\n",
    "    \"/\",\n",
    "    proportions[-1],\n",
    "    \"=\",\n",
    "    round(proportions[-1] / proportions[0], 1),\n",
    ")"
   ]
  },
  {
   "cell_type": "code",
   "execution_count": 22,
   "metadata": {
    "execution": {
     "iopub.execute_input": "2023-06-10T14:46:45.366617Z",
     "iopub.status.busy": "2023-06-10T14:46:45.366327Z",
     "iopub.status.idle": "2023-06-10T14:46:45.370248Z",
     "shell.execute_reply": "2023-06-10T14:46:45.369521Z"
    }
   },
   "outputs": [],
   "source": [
    "q = [\n",
    "    (b[i][\"proportion\"], calendar.month_name[int(i)][:3])\n",
    "    for i in b.keys()\n",
    "]\n",
    "q.sort()\n",
    "q.reverse()"
   ]
  },
  {
   "cell_type": "code",
   "execution_count": 23,
   "metadata": {
    "execution": {
     "iopub.execute_input": "2023-06-10T14:46:45.373159Z",
     "iopub.status.busy": "2023-06-10T14:46:45.372835Z",
     "iopub.status.idle": "2023-06-10T14:46:45.376863Z",
     "shell.execute_reply": "2023-06-10T14:46:45.376145Z"
    }
   },
   "outputs": [
    {
     "name": "stdout",
     "output_type": "stream",
     "text": [
      "Aug : 0.139\n",
      "Jul : 0.131\n",
      "Dec : 0.098\n",
      "Apr : 0.078\n",
      "Mar : 0.076\n",
      "Feb : 0.07\n",
      "May : 0.061\n",
      "Oct : 0.053\n",
      "Sep : 0.048\n",
      "Jun : 0.048\n",
      "Jan : 0.041\n",
      "Nov : 0.04\n"
     ]
    }
   ],
   "source": [
    "for n, m in q:\n",
    "    print(m, \":\", n)"
   ]
  },
  {
   "cell_type": "markdown",
   "metadata": {},
   "source": [
    "Maintenant, essayer de voir si les familles avec enfant sont aussi les familles avec parking."
   ]
  },
  {
   "cell_type": "code",
   "execution_count": 24,
   "metadata": {
    "execution": {
     "iopub.execute_input": "2023-06-10T14:46:45.380157Z",
     "iopub.status.busy": "2023-06-10T14:46:45.379873Z",
     "iopub.status.idle": "2023-06-10T14:46:45.465090Z",
     "shell.execute_reply": "2023-06-10T14:46:45.464341Z"
    }
   },
   "outputs": [],
   "source": [
    "months = query_valeur_id(\"arrival_month\")\n",
    "parking = query_id_dict(\"required_car_parking_space\")\n",
    "children = query_id_dict(\"no_of_children\")\n",
    "c = {}\n",
    "for i in months.keys():\n",
    "    c[i] = {}\n",
    "    c[i][\"np_nc\"] = 0\n",
    "    c[i][\"p_c\"] = 0\n",
    "    c[i][\"np_c\"] = 0\n",
    "    c[i][\"p_nc\"] = 0\n",
    "    for r in months[i]:\n",
    "        if parking[r] == \"0\":\n",
    "            if children[r] == \"0\":\n",
    "                c[i][\"np_nc\"] = c[i][\"np_nc\"] + 1\n",
    "            elif int(children[r]) > 0:\n",
    "                c[i][\"np_c\"] = c[i][\"np_c\"] + 1\n",
    "        elif parking[r] != \"0\":\n",
    "            if children[r] == \"0\":\n",
    "                c[i][\"p_nc\"] = c[i][\"p_nc\"] + 1\n",
    "            elif int(children[r]) > 0:\n",
    "                c[i][\"p_c\"] = c[i][\"p_c\"] + 1\n",
    "    # a[i][\"total\"] = a[i][\"0\"] + a[i][\"1\"]\n",
    "    # a[i][\"proportion\"] = round(a[i][\"1\"] / a[i][\"total\"], 3)"
   ]
  },
  {
   "cell_type": "code",
   "execution_count": 25,
   "metadata": {
    "execution": {
     "iopub.execute_input": "2023-06-10T14:46:45.468221Z",
     "iopub.status.busy": "2023-06-10T14:46:45.467986Z",
     "iopub.status.idle": "2023-06-10T14:46:45.472655Z",
     "shell.execute_reply": "2023-06-10T14:46:45.471813Z"
    }
   },
   "outputs": [
    {
     "name": "stdout",
     "output_type": "stream",
     "text": [
      "Oct {'np_nc': 4948, 'p_c': 7, 'np_c': 274, 'p_nc': 87}\n",
      "Nov {'np_nc': 2782, 'p_c': 3, 'np_c': 115, 'p_nc': 79}\n",
      "Feb {'np_nc': 1535, 'p_c': 5, 'np_c': 115, 'p_nc': 48}\n",
      "May {'np_nc': 2375, 'p_c': 2, 'np_c': 157, 'p_nc': 63}\n",
      "Apr {'np_nc': 2458, 'p_c': 2, 'np_c': 212, 'p_nc': 63}\n",
      "Sep {'np_nc': 4293, 'p_c': 7, 'np_c': 216, 'p_nc': 94}\n",
      "Dec {'np_nc': 2629, 'p_c': 8, 'np_c': 289, 'p_nc': 94}\n",
      "Jul {'np_nc': 2446, 'p_c': 26, 'np_c': 355, 'p_nc': 92}\n",
      "Jun {'np_nc': 2985, 'p_c': 10, 'np_c': 144, 'p_nc': 63}\n",
      "Aug {'np_nc': 3116, 'p_c': 55, 'np_c': 474, 'p_nc': 167}\n",
      "Mar {'np_nc': 2088, 'p_c': 6, 'np_c': 174, 'p_nc': 89}\n",
      "Jan {'np_nc': 923, 'p_c': 6, 'np_c': 36, 'p_nc': 48}\n"
     ]
    }
   ],
   "source": [
    "for i in c.keys():\n",
    "    print(calendar.month_name[int(i)][:3], c[i])"
   ]
  }
 ],
 "metadata": {
  "kernelspec": {
   "display_name": "Python 3",
   "language": "python",
   "name": "python3"
  },
  "language_info": {
   "codemirror_mode": {
    "name": "ipython",
    "version": 3
   },
   "file_extension": ".py",
   "mimetype": "text/x-python",
   "name": "python",
   "nbconvert_exporter": "python",
   "pygments_lexer": "ipython3",
   "version": "3.9.2"
  }
 },
 "nbformat": 4,
 "nbformat_minor": 2
}
