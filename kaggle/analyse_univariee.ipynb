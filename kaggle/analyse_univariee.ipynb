{
 "cells": [
  {
   "cell_type": "markdown",
   "metadata": {},
   "source": [
    "import pandas as pd<br>\n",
    "import matplotlib.pyplot as plt<br>\n",
    "import numpy as np<br>\n",
    "import seaborn as sns"
   ]
  },
  {
   "cell_type": "code",
   "execution_count": 1,
   "metadata": {
    "execution": {
     "iopub.execute_input": "2023-04-23T21:12:55.584906Z",
     "iopub.status.busy": "2023-04-23T21:12:55.584137Z",
     "iopub.status.idle": "2023-04-23T21:12:55.604494Z",
     "shell.execute_reply": "2023-04-23T21:12:55.602538Z"
    }
   },
   "outputs": [],
   "source": [
    "import calendar\n",
    "from collections import Counter"
   ]
  },
  {
   "cell_type": "markdown",
   "metadata": {},
   "source": [
    "fonction pour csv -> liste de liste"
   ]
  },
  {
   "cell_type": "code",
   "execution_count": 2,
   "metadata": {
    "execution": {
     "iopub.execute_input": "2023-04-23T21:12:55.614903Z",
     "iopub.status.busy": "2023-04-23T21:12:55.614104Z",
     "iopub.status.idle": "2023-04-23T21:12:55.628913Z",
     "shell.execute_reply": "2023-04-23T21:12:55.626338Z"
    }
   },
   "outputs": [],
   "source": [
    "def csv_from_file(fp, delimiter:str=','):\n",
    "    with open(fp) as f:\n",
    "        c = f.readlines()\n",
    "    a = [i.replace('\\n', '').split(delimiter) for i in c]\n",
    "    return a"
   ]
  },
  {
   "cell_type": "markdown",
   "metadata": {},
   "source": [
    "ouvrir le csv, mettre le contenu dans une variable"
   ]
  },
  {
   "cell_type": "code",
   "execution_count": 3,
   "metadata": {
    "execution": {
     "iopub.execute_input": "2023-04-23T21:12:55.639365Z",
     "iopub.status.busy": "2023-04-23T21:12:55.638545Z",
     "iopub.status.idle": "2023-04-23T21:12:55.790123Z",
     "shell.execute_reply": "2023-04-23T21:12:55.789282Z"
    }
   },
   "outputs": [
    {
     "data": {
      "text/plain": [
       "[['Booking_ID',\n",
       "  'no_of_adults',\n",
       "  'no_of_children',\n",
       "  'no_of_weekend_nights',\n",
       "  'no_of_week_nights',\n",
       "  'type_of_meal_plan',\n",
       "  'required_car_parking_space',\n",
       "  'room_type_reserved',\n",
       "  'lead_time',\n",
       "  'arrival_year',\n",
       "  'arrival_month',\n",
       "  'arrival_date',\n",
       "  'market_segment_type',\n",
       "  'repeated_guest',\n",
       "  'no_of_previous_cancellations',\n",
       "  'no_of_previous_bookings_not_canceled',\n",
       "  'avg_price_per_room',\n",
       "  'no_of_special_requests',\n",
       "  'booking_status'],\n",
       " ['INN00001',\n",
       "  '2',\n",
       "  '0',\n",
       "  '1',\n",
       "  '2',\n",
       "  'Meal Plan 1',\n",
       "  '0',\n",
       "  'Room_Type 1',\n",
       "  '224',\n",
       "  '2017',\n",
       "  '10',\n",
       "  '2',\n",
       "  'Offline',\n",
       "  '0',\n",
       "  '0',\n",
       "  '0',\n",
       "  '65',\n",
       "  '0',\n",
       "  'Not_Canceled']]"
      ]
     },
     "execution_count": 3,
     "metadata": {},
     "output_type": "execute_result"
    }
   ],
   "source": [
    "fp = './Hotel Reservations.csv'\n",
    "c = csv_from_file(fp)\n",
    "c[:2] # observer les noms de colonnes et une ligne"
   ]
  },
  {
   "cell_type": "markdown",
   "metadata": {},
   "source": [
    "premier regard sur les données: les années d'arrivée, qui nous montre que toutes les réservations sont réparties dans seulement deux années: 2017 et 2018"
   ]
  },
  {
   "cell_type": "code",
   "execution_count": 4,
   "metadata": {
    "execution": {
     "iopub.execute_input": "2023-04-23T21:12:55.838486Z",
     "iopub.status.busy": "2023-04-23T21:12:55.838094Z",
     "iopub.status.idle": "2023-04-23T21:12:55.868478Z",
     "shell.execute_reply": "2023-04-23T21:12:55.867099Z"
    }
   },
   "outputs": [
    {
     "data": {
      "text/plain": [
       "Counter({'arrival_year': 1, '2017': 6514, '2018': 29761})"
      ]
     },
     "execution_count": 4,
     "metadata": {},
     "output_type": "execute_result"
    }
   ],
   "source": [
    "c[0][9] # id / arrival_year\n",
    "a = [(i[0],i[9]) for i in c]\n",
    "Counter([i[1] for i in a])"
   ]
  },
  {
   "cell_type": "markdown",
   "metadata": {},
   "source": [
    "Question qui nous permettra peut-etre d'en apprendre davantage sur le type d'établissement: les saisons de réservations."
   ]
  },
  {
   "cell_type": "code",
   "execution_count": 5,
   "metadata": {
    "execution": {
     "iopub.execute_input": "2023-04-23T21:12:55.872694Z",
     "iopub.status.busy": "2023-04-23T21:12:55.872280Z",
     "iopub.status.idle": "2023-04-23T21:12:55.891771Z",
     "shell.execute_reply": "2023-04-23T21:12:55.890785Z"
    }
   },
   "outputs": [
    {
     "data": {
      "text/plain": [
       "[(1, 1014),\n",
       " (2, 1704),\n",
       " (3, 2358),\n",
       " (4, 2736),\n",
       " (5, 2598),\n",
       " (6, 3203),\n",
       " (7, 2920),\n",
       " (8, 3813),\n",
       " (9, 4611),\n",
       " (10, 5317),\n",
       " (11, 2980),\n",
       " (12, 3021)]"
      ]
     },
     "execution_count": 5,
     "metadata": {},
     "output_type": "execute_result"
    }
   ],
   "source": [
    "d = Counter([i[10] for i in c[1:]])\n",
    "e = [int(i) for i in d]\n",
    "e.sort()\n",
    "f = [(i, d[str(i)]) for i in e]\n",
    "f"
   ]
  },
  {
   "cell_type": "markdown",
   "metadata": {},
   "source": [
    "faire un \"plot\" simple, qui nous permet de voir le mois avec le plus d'arrivées: octobre"
   ]
  },
  {
   "cell_type": "code",
   "execution_count": 6,
   "metadata": {
    "execution": {
     "iopub.execute_input": "2023-04-23T21:12:55.896142Z",
     "iopub.status.busy": "2023-04-23T21:12:55.895795Z",
     "iopub.status.idle": "2023-04-23T21:12:55.901961Z",
     "shell.execute_reply": "2023-04-23T21:12:55.901145Z"
    }
   },
   "outputs": [
    {
     "name": "stdout",
     "output_type": "stream",
     "text": [
      "Répartition des réservations dans les mois de l'année:\n",
      "Jan |||||||||| 1014\n",
      "Feb ||||||||||||||||| 1704\n",
      "Mar ||||||||||||||||||||||| 2358\n",
      "Apr ||||||||||||||||||||||||||| 2736\n",
      "May ||||||||||||||||||||||||| 2598\n",
      "Jun |||||||||||||||||||||||||||||||| 3203\n",
      "Jul ||||||||||||||||||||||||||||| 2920\n",
      "Aug |||||||||||||||||||||||||||||||||||||| 3813\n",
      "Sep |||||||||||||||||||||||||||||||||||||||||||||| 4611\n",
      "Oct ||||||||||||||||||||||||||||||||||||||||||||||||||||| 5317\n",
      "Nov ||||||||||||||||||||||||||||| 2980\n",
      "Dec |||||||||||||||||||||||||||||| 3021\n"
     ]
    }
   ],
   "source": [
    "print('Répartition des réservations dans les mois de l\\'année:')\n",
    "for i in f:\n",
    "    j = '|' * int(i[1] / 100)\n",
    "    print(calendar.month_name[i[0]][:3], j, i[1])"
   ]
  },
  {
   "cell_type": "markdown",
   "metadata": {},
   "source": [
    "required_car_parking_space: les valeurs sont 0 / 1<br>\n",
    "on peut voir que la plupart des personnes ne reservent pas de place de parking."
   ]
  },
  {
   "cell_type": "code",
   "execution_count": 7,
   "metadata": {
    "execution": {
     "iopub.execute_input": "2023-04-23T21:12:55.905490Z",
     "iopub.status.busy": "2023-04-23T21:12:55.905137Z",
     "iopub.status.idle": "2023-04-23T21:12:55.916587Z",
     "shell.execute_reply": "2023-04-23T21:12:55.915558Z"
    }
   },
   "outputs": [
    {
     "name": "stdout",
     "output_type": "stream",
     "text": [
      "Combien de personnes réservent une place de parking pour voiture?\n",
      "non ||||||||||||||||||||||||||||||||||| 35151\n",
      "oui | 1124\n"
     ]
    }
   ],
   "source": [
    "p = Counter([i[6] for i in c])\n",
    "p\n",
    "q = [i for i in p if i.isdigit()]\n",
    "print('Combien de personnes réservent une place de parking pour voiture?')\n",
    "for i in q:\n",
    "    if int(i) == 0:\n",
    "        k = 'non'\n",
    "    else: \n",
    "        k = 'oui'\n",
    "    j = '|' * int(p[i] / 1000)\n",
    "    print(k, j, p[i])"
   ]
  },
  {
   "cell_type": "markdown",
   "metadata": {},
   "source": [
    "les personnes qui reservent, à quel moment de l'année viennent-elles?"
   ]
  },
  {
   "cell_type": "code",
   "execution_count": 8,
   "metadata": {
    "execution": {
     "iopub.execute_input": "2023-04-23T21:12:55.920405Z",
     "iopub.status.busy": "2023-04-23T21:12:55.920057Z",
     "iopub.status.idle": "2023-04-23T21:12:55.929908Z",
     "shell.execute_reply": "2023-04-23T21:12:55.928971Z"
    }
   },
   "outputs": [
    {
     "name": "stdout",
     "output_type": "stream",
     "text": [
      "Quand viennent les personnes qui souhaitent avoir une place de parking?\n",
      "Apr |||||| 65\n",
      "Sep |||||||||| 101\n",
      "Aug |||||||||||||||||||||| 222\n",
      "Mar ||||||||| 95\n",
      "Nov |||||||| 82\n",
      "Jun ||||||| 73\n",
      "Jul ||||||||||| 118\n",
      "Oct ||||||||| 94\n",
      "Dec |||||||||| 102\n",
      "May |||||| 65\n",
      "Jan ||||| 54\n",
      "Feb ||||| 53\n"
     ]
    }
   ],
   "source": [
    "g = Counter([i[10] for i in c if i[6] == '1'])\n",
    "print('Quand viennent les personnes qui souhaitent avoir une place de parking?')\n",
    "for i in g:\n",
    "    j = '|' * int(int(g[i]) / 10)\n",
    "    print(calendar.month_name[int(i)][:3], j, g[i])"
   ]
  }
 ],
 "metadata": {
  "kernelspec": {
   "display_name": "Python 3",
   "language": "python",
   "name": "python3"
  },
  "language_info": {
   "codemirror_mode": {
    "name": "ipython",
    "version": 3
   },
   "file_extension": ".py",
   "mimetype": "text/x-python",
   "name": "python",
   "nbconvert_exporter": "python",
   "pygments_lexer": "ipython3",
   "version": "3.9.2"
  }
 },
 "nbformat": 4,
 "nbformat_minor": 2
}
